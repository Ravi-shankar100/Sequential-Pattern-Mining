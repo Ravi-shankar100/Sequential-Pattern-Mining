{
  "nbformat": 4,
  "nbformat_minor": 0,
  "metadata": {
    "colab": {
      "name": "paper_final1.ipynb",
      "provenance": [],
      "collapsed_sections": [],
      "toc_visible": true
    },
    "kernelspec": {
      "name": "python3",
      "display_name": "Python 3"
    },
    "language_info": {
      "name": "python"
    }
  },
  "cells": [
    {
      "cell_type": "code",
      "metadata": {
        "id": "XVfe0oSUiNpy"
      },
      "source": [
        "import pandas as pd\n",
        "import numpy as np\n",
        "import warnings\n",
        "from pandas import ExcelWriter\n",
        "warnings.filterwarnings(\"ignore\")\n",
        "\n",
        "pd.pandas.set_option(\"display.max_rows\",None)"
      ],
      "execution_count": null,
      "outputs": []
    },
    {
      "cell_type": "code",
      "metadata": {
        "colab": {
          "base_uri": "https://localhost:8080/"
        },
        "id": "nShdbiNyiyu2",
        "outputId": "ecc26651-40dc-4ad7-ead4-9c25acc3dc42"
      },
      "source": [
        "from google.colab import drive\n",
        "drive.mount('/content/drive')"
      ],
      "execution_count": null,
      "outputs": [
        {
          "output_type": "stream",
          "text": [
            "Drive already mounted at /content/drive; to attempt to forcibly remount, call drive.mount(\"/content/drive\", force_remount=True).\n"
          ],
          "name": "stdout"
        }
      ]
    },
    {
      "cell_type": "code",
      "metadata": {
        "id": "q1auSuUEiO7q"
      },
      "source": [
        "data = pd.read_excel(\"/content/drive/MyDrive/hospital.xlsx\")"
      ],
      "execution_count": null,
      "outputs": []
    },
    {
      "cell_type": "code",
      "metadata": {
        "colab": {
          "base_uri": "https://localhost:8080/",
          "height": 302
        },
        "id": "stPfQmQgignS",
        "outputId": "272c7475-97a9-43c4-a64b-c2e2b3a9794e"
      },
      "source": [
        "data.head()"
      ],
      "execution_count": null,
      "outputs": [
        {
          "output_type": "execute_result",
          "data": {
            "text/html": [
              "<div>\n",
              "<style scoped>\n",
              "    .dataframe tbody tr th:only-of-type {\n",
              "        vertical-align: middle;\n",
              "    }\n",
              "\n",
              "    .dataframe tbody tr th {\n",
              "        vertical-align: top;\n",
              "    }\n",
              "\n",
              "    .dataframe thead th {\n",
              "        text-align: right;\n",
              "    }\n",
              "</style>\n",
              "<table border=\"1\" class=\"dataframe\">\n",
              "  <thead>\n",
              "    <tr style=\"text-align: right;\">\n",
              "      <th></th>\n",
              "      <th>FAMILY-ID</th>\n",
              "      <th>User id</th>\n",
              "      <th>Start-Date</th>\n",
              "      <th>hospitaltype</th>\n",
              "      <th>T-duration</th>\n",
              "      <th>P-date</th>\n",
              "      <th>Referred</th>\n",
              "      <th>procedure</th>\n",
              "      <th>cost</th>\n",
              "      <th>claim-duration</th>\n",
              "      <th>claim-status</th>\n",
              "    </tr>\n",
              "  </thead>\n",
              "  <tbody>\n",
              "    <tr>\n",
              "      <th>0</th>\n",
              "      <td>1</td>\n",
              "      <td>1</td>\n",
              "      <td>2020-01-11</td>\n",
              "      <td>public</td>\n",
              "      <td>7</td>\n",
              "      <td>2020-01-12</td>\n",
              "      <td>NO</td>\n",
              "      <td>2</td>\n",
              "      <td>3000</td>\n",
              "      <td>7</td>\n",
              "      <td>SUCCESS</td>\n",
              "    </tr>\n",
              "    <tr>\n",
              "      <th>1</th>\n",
              "      <td>1</td>\n",
              "      <td>1</td>\n",
              "      <td>2020-01-11</td>\n",
              "      <td>public</td>\n",
              "      <td>7</td>\n",
              "      <td>2020-01-15</td>\n",
              "      <td>NO</td>\n",
              "      <td>6</td>\n",
              "      <td>4000</td>\n",
              "      <td>7</td>\n",
              "      <td>SUCCESS</td>\n",
              "    </tr>\n",
              "    <tr>\n",
              "      <th>2</th>\n",
              "      <td>1</td>\n",
              "      <td>1</td>\n",
              "      <td>2020-02-21</td>\n",
              "      <td>public</td>\n",
              "      <td>1</td>\n",
              "      <td>2020-01-22</td>\n",
              "      <td>NaN</td>\n",
              "      <td>5</td>\n",
              "      <td>0</td>\n",
              "      <td>4</td>\n",
              "      <td>PENDING</td>\n",
              "    </tr>\n",
              "    <tr>\n",
              "      <th>3</th>\n",
              "      <td>1</td>\n",
              "      <td>2</td>\n",
              "      <td>2020-02-24</td>\n",
              "      <td>private</td>\n",
              "      <td>2</td>\n",
              "      <td>2020-02-24</td>\n",
              "      <td>NO</td>\n",
              "      <td>4</td>\n",
              "      <td>6000</td>\n",
              "      <td>10</td>\n",
              "      <td>PENDING</td>\n",
              "    </tr>\n",
              "    <tr>\n",
              "      <th>4</th>\n",
              "      <td>1</td>\n",
              "      <td>2</td>\n",
              "      <td>2020-02-25</td>\n",
              "      <td>private</td>\n",
              "      <td>2</td>\n",
              "      <td>2020-02-26</td>\n",
              "      <td>NO</td>\n",
              "      <td>3</td>\n",
              "      <td>5000</td>\n",
              "      <td>3</td>\n",
              "      <td>SUCCESS</td>\n",
              "    </tr>\n",
              "  </tbody>\n",
              "</table>\n",
              "</div>"
            ],
            "text/plain": [
              "   FAMILY-ID  User id Start-Date  ...  cost  claim-duration claim-status\n",
              "0          1        1 2020-01-11  ...  3000               7      SUCCESS\n",
              "1          1        1 2020-01-11  ...  4000               7      SUCCESS\n",
              "2          1        1 2020-02-21  ...     0               4      PENDING\n",
              "3          1        2 2020-02-24  ...  6000              10      PENDING\n",
              "4          1        2 2020-02-25  ...  5000               3      SUCCESS\n",
              "\n",
              "[5 rows x 11 columns]"
            ]
          },
          "metadata": {
            "tags": []
          },
          "execution_count": 4
        }
      ]
    },
    {
      "cell_type": "code",
      "metadata": {
        "id": "yWmdYewdjNzw"
      },
      "source": [
        "data.rename(columns = {\"User id\":\"id\"},inplace=True)"
      ],
      "execution_count": null,
      "outputs": []
    },
    {
      "cell_type": "code",
      "metadata": {
        "id": "DNYC5gBC9AGi"
      },
      "source": [
        "data[\"procedure\"] = data[\"procedure\"].astype(\"str\")"
      ],
      "execution_count": null,
      "outputs": []
    },
    {
      "cell_type": "code",
      "metadata": {
        "colab": {
          "base_uri": "https://localhost:8080/"
        },
        "id": "CdYn4rRzjQKj",
        "outputId": "e05c3133-d0b0-4348-8fdb-a55e25c67a20"
      },
      "source": [
        "output = pd.DataFrame(columns=[\"id\",\"procedure\"])\n",
        "for i,j in data.groupby([\"id\",\"Start-Date\"]):\n",
        "  col1 = j.iloc[0][\"id\"]\n",
        "  col2 = j[\"procedure\"].str.cat(sep = \",\")\n",
        "  output = output.append({\"id\":col1,\"procedure\":col2},ignore_index = True)\n",
        "print(output.head())"
      ],
      "execution_count": null,
      "outputs": [
        {
          "output_type": "stream",
          "text": [
            "  id procedure\n",
            "0  1       2,6\n",
            "1  1         5\n",
            "2  2         4\n",
            "3  2         3\n",
            "4  2         1\n"
          ],
          "name": "stdout"
        }
      ]
    },
    {
      "cell_type": "code",
      "metadata": {
        "colab": {
          "base_uri": "https://localhost:8080/"
        },
        "id": "WXBCNeIUjTIv",
        "outputId": "d597d55d-a023-4fea-fc9c-f38b7ae00017"
      },
      "source": [
        "unique_val = data[\"procedure\"].unique()\n",
        "len(unique_val)"
      ],
      "execution_count": null,
      "outputs": [
        {
          "output_type": "execute_result",
          "data": {
            "text/plain": [
              "6"
            ]
          },
          "metadata": {
            "tags": []
          },
          "execution_count": 8
        }
      ]
    },
    {
      "cell_type": "markdown",
      "metadata": {
        "id": "K562ELn0jql2"
      },
      "source": [
        "##Sequence Generation Task1"
      ]
    },
    {
      "cell_type": "code",
      "metadata": {
        "id": "YwaWbKb_kz-T"
      },
      "source": [
        "from itertools import permutations\n",
        "values = []\n",
        "\n",
        "for i in range(1,len(unique_val)+1):\n",
        "  if i<=3:\n",
        "    perm = permutations(unique_val,i)\n",
        "    values.append(perm)"
      ],
      "execution_count": null,
      "outputs": []
    },
    {
      "cell_type": "code",
      "metadata": {
        "id": "agpqDny6l7nA"
      },
      "source": [
        "perms = []\n",
        "for i in values:\n",
        "  for j in i:\n",
        "    perms.append(j)"
      ],
      "execution_count": null,
      "outputs": []
    },
    {
      "cell_type": "code",
      "metadata": {
        "colab": {
          "base_uri": "https://localhost:8080/"
        },
        "id": "_lSABSVx1jWO",
        "outputId": "cb4300b7-1b09-48f6-a93e-148cf38e99d7"
      },
      "source": [
        "len(perms)"
      ],
      "execution_count": null,
      "outputs": [
        {
          "output_type": "execute_result",
          "data": {
            "text/plain": [
              "156"
            ]
          },
          "metadata": {
            "tags": []
          },
          "execution_count": 11
        }
      ]
    },
    {
      "cell_type": "markdown",
      "metadata": {
        "id": "74HTU-nkj4eh"
      },
      "source": [
        "##Desired Output is stored in output1"
      ]
    },
    {
      "cell_type": "code",
      "metadata": {
        "id": "2_rf93-XNVmS"
      },
      "source": [
        "def convert(x):\n",
        "  return x.split(\",\")"
      ],
      "execution_count": null,
      "outputs": []
    },
    {
      "cell_type": "code",
      "metadata": {
        "id": "h5rrsbN9p9-O"
      },
      "source": [
        "output[\"procedure\"] = output[\"procedure\"].map(lambda x : convert(x))"
      ],
      "execution_count": null,
      "outputs": []
    },
    {
      "cell_type": "code",
      "metadata": {
        "colab": {
          "base_uri": "https://localhost:8080/",
          "height": 198
        },
        "id": "XAnbdMgIqHgL",
        "outputId": "3fa6893e-2526-43f2-9063-a3b954bd2216"
      },
      "source": [
        "output.head()"
      ],
      "execution_count": null,
      "outputs": [
        {
          "output_type": "execute_result",
          "data": {
            "text/html": [
              "<div>\n",
              "<style scoped>\n",
              "    .dataframe tbody tr th:only-of-type {\n",
              "        vertical-align: middle;\n",
              "    }\n",
              "\n",
              "    .dataframe tbody tr th {\n",
              "        vertical-align: top;\n",
              "    }\n",
              "\n",
              "    .dataframe thead th {\n",
              "        text-align: right;\n",
              "    }\n",
              "</style>\n",
              "<table border=\"1\" class=\"dataframe\">\n",
              "  <thead>\n",
              "    <tr style=\"text-align: right;\">\n",
              "      <th></th>\n",
              "      <th>id</th>\n",
              "      <th>procedure</th>\n",
              "    </tr>\n",
              "  </thead>\n",
              "  <tbody>\n",
              "    <tr>\n",
              "      <th>0</th>\n",
              "      <td>1</td>\n",
              "      <td>[2, 6]</td>\n",
              "    </tr>\n",
              "    <tr>\n",
              "      <th>1</th>\n",
              "      <td>1</td>\n",
              "      <td>[5]</td>\n",
              "    </tr>\n",
              "    <tr>\n",
              "      <th>2</th>\n",
              "      <td>2</td>\n",
              "      <td>[4]</td>\n",
              "    </tr>\n",
              "    <tr>\n",
              "      <th>3</th>\n",
              "      <td>2</td>\n",
              "      <td>[3]</td>\n",
              "    </tr>\n",
              "    <tr>\n",
              "      <th>4</th>\n",
              "      <td>2</td>\n",
              "      <td>[1]</td>\n",
              "    </tr>\n",
              "  </tbody>\n",
              "</table>\n",
              "</div>"
            ],
            "text/plain": [
              "  id procedure\n",
              "0  1    [2, 6]\n",
              "1  1       [5]\n",
              "2  2       [4]\n",
              "3  2       [3]\n",
              "4  2       [1]"
            ]
          },
          "metadata": {
            "tags": []
          },
          "execution_count": 14
        }
      ]
    },
    {
      "cell_type": "code",
      "metadata": {
        "id": "1HMisf2HK2Du"
      },
      "source": [
        "output1 = output.groupby(\"id\")[\"procedure\"].apply(tuple).reset_index()"
      ],
      "execution_count": null,
      "outputs": []
    },
    {
      "cell_type": "code",
      "metadata": {
        "colab": {
          "base_uri": "https://localhost:8080/",
          "height": 198
        },
        "id": "P97rCcYEiLIO",
        "outputId": "9d87d894-f0d1-4ba8-efdd-ef1cc312165f"
      },
      "source": [
        "output1.head()"
      ],
      "execution_count": null,
      "outputs": [
        {
          "output_type": "execute_result",
          "data": {
            "text/html": [
              "<div>\n",
              "<style scoped>\n",
              "    .dataframe tbody tr th:only-of-type {\n",
              "        vertical-align: middle;\n",
              "    }\n",
              "\n",
              "    .dataframe tbody tr th {\n",
              "        vertical-align: top;\n",
              "    }\n",
              "\n",
              "    .dataframe thead th {\n",
              "        text-align: right;\n",
              "    }\n",
              "</style>\n",
              "<table border=\"1\" class=\"dataframe\">\n",
              "  <thead>\n",
              "    <tr style=\"text-align: right;\">\n",
              "      <th></th>\n",
              "      <th>id</th>\n",
              "      <th>procedure</th>\n",
              "    </tr>\n",
              "  </thead>\n",
              "  <tbody>\n",
              "    <tr>\n",
              "      <th>0</th>\n",
              "      <td>1</td>\n",
              "      <td>([2, 6], [5])</td>\n",
              "    </tr>\n",
              "    <tr>\n",
              "      <th>1</th>\n",
              "      <td>2</td>\n",
              "      <td>([4], [3], [1])</td>\n",
              "    </tr>\n",
              "    <tr>\n",
              "      <th>2</th>\n",
              "      <td>3</td>\n",
              "      <td>([3], [2], [4])</td>\n",
              "    </tr>\n",
              "    <tr>\n",
              "      <th>3</th>\n",
              "      <td>4</td>\n",
              "      <td>([1, 4], [3])</td>\n",
              "    </tr>\n",
              "    <tr>\n",
              "      <th>4</th>\n",
              "      <td>5</td>\n",
              "      <td>([5], [6], [5])</td>\n",
              "    </tr>\n",
              "  </tbody>\n",
              "</table>\n",
              "</div>"
            ],
            "text/plain": [
              "   id        procedure\n",
              "0   1    ([2, 6], [5])\n",
              "1   2  ([4], [3], [1])\n",
              "2   3  ([3], [2], [4])\n",
              "3   4    ([1, 4], [3])\n",
              "4   5  ([5], [6], [5])"
            ]
          },
          "metadata": {
            "tags": []
          },
          "execution_count": 16
        }
      ]
    },
    {
      "cell_type": "code",
      "metadata": {
        "id": "w6tM1GtJHB6g"
      },
      "source": [
        "#Original Data\n",
        "data1 = pd.DataFrame(output[\"procedure\"])\n",
        "patients = len(data1)"
      ],
      "execution_count": null,
      "outputs": []
    },
    {
      "cell_type": "code",
      "metadata": {
        "colab": {
          "base_uri": "https://localhost:8080/",
          "height": 198
        },
        "id": "0l8viqgKkIhj",
        "outputId": "78e0f795-46ff-42eb-e3ba-bd6238d6886f"
      },
      "source": [
        "output1.head()"
      ],
      "execution_count": null,
      "outputs": [
        {
          "output_type": "execute_result",
          "data": {
            "text/html": [
              "<div>\n",
              "<style scoped>\n",
              "    .dataframe tbody tr th:only-of-type {\n",
              "        vertical-align: middle;\n",
              "    }\n",
              "\n",
              "    .dataframe tbody tr th {\n",
              "        vertical-align: top;\n",
              "    }\n",
              "\n",
              "    .dataframe thead th {\n",
              "        text-align: right;\n",
              "    }\n",
              "</style>\n",
              "<table border=\"1\" class=\"dataframe\">\n",
              "  <thead>\n",
              "    <tr style=\"text-align: right;\">\n",
              "      <th></th>\n",
              "      <th>id</th>\n",
              "      <th>procedure</th>\n",
              "    </tr>\n",
              "  </thead>\n",
              "  <tbody>\n",
              "    <tr>\n",
              "      <th>0</th>\n",
              "      <td>1</td>\n",
              "      <td>([2, 6], [5])</td>\n",
              "    </tr>\n",
              "    <tr>\n",
              "      <th>1</th>\n",
              "      <td>2</td>\n",
              "      <td>([4], [3], [1])</td>\n",
              "    </tr>\n",
              "    <tr>\n",
              "      <th>2</th>\n",
              "      <td>3</td>\n",
              "      <td>([3], [2], [4])</td>\n",
              "    </tr>\n",
              "    <tr>\n",
              "      <th>3</th>\n",
              "      <td>4</td>\n",
              "      <td>([1, 4], [3])</td>\n",
              "    </tr>\n",
              "    <tr>\n",
              "      <th>4</th>\n",
              "      <td>5</td>\n",
              "      <td>([5], [6], [5])</td>\n",
              "    </tr>\n",
              "  </tbody>\n",
              "</table>\n",
              "</div>"
            ],
            "text/plain": [
              "   id        procedure\n",
              "0   1    ([2, 6], [5])\n",
              "1   2  ([4], [3], [1])\n",
              "2   3  ([3], [2], [4])\n",
              "3   4    ([1, 4], [3])\n",
              "4   5  ([5], [6], [5])"
            ]
          },
          "metadata": {
            "tags": []
          },
          "execution_count": 18
        }
      ]
    },
    {
      "cell_type": "markdown",
      "metadata": {
        "id": "-sIaJ7T9kOFI"
      },
      "source": [
        "##Getting Count of Sequences of Task1 present in data_count variable\n"
      ]
    },
    {
      "cell_type": "code",
      "metadata": {
        "id": "MfAA6KzcTn59"
      },
      "source": [
        "seq = []\n",
        "for i in range(len(output1[\"procedure\"])):\n",
        "  a = str(output1[\"procedure\"][i]).replace('(','').replace(')','').replace(\"[\",\"\").replace(\"]\",\"\").replace(\"'\",\"\")\n",
        "  a = a.replace(\" \",\"\")\n",
        "  a = (a.split(\",\"))\n",
        "  seq.append(a)"
      ],
      "execution_count": null,
      "outputs": []
    },
    {
      "cell_type": "code",
      "metadata": {
        "colab": {
          "base_uri": "https://localhost:8080/"
        },
        "id": "uSifBNBVaYYE",
        "outputId": "fb15376b-f2cb-424e-e945-7b83571421d4"
      },
      "source": [
        "seq"
      ],
      "execution_count": null,
      "outputs": [
        {
          "output_type": "execute_result",
          "data": {
            "text/plain": [
              "[['2', '6', '5'],\n",
              " ['4', '3', '1'],\n",
              " ['3', '2', '4'],\n",
              " ['1', '4', '3'],\n",
              " ['5', '6', '5'],\n",
              " ['1', '2', '4'],\n",
              " ['6', '3', '4'],\n",
              " ['2', '3', '4'],\n",
              " ['2', '6', '5'],\n",
              " ['1', '3', '5'],\n",
              " ['6', '1', '2'],\n",
              " ['3', '5', '6']]"
            ]
          },
          "metadata": {
            "tags": []
          },
          "execution_count": 20
        }
      ]
    },
    {
      "cell_type": "code",
      "metadata": {
        "id": "32AWodyuOg3G"
      },
      "source": [
        "from itertools import combinations\n",
        "fii = []\n",
        "for i in range(len(seq)):\n",
        "  for j in range(1,4):\n",
        "    comb = combinations(seq[i],j)\n",
        "    fii.append(comb)"
      ],
      "execution_count": null,
      "outputs": []
    },
    {
      "cell_type": "code",
      "metadata": {
        "id": "b9Bds_3sOtoh"
      },
      "source": [
        "final_seq = []\n",
        "for i in fii:\n",
        "  for j in i:\n",
        "    final_seq.append(j)"
      ],
      "execution_count": null,
      "outputs": []
    },
    {
      "cell_type": "code",
      "metadata": {
        "id": "YosB9UyRZWcA"
      },
      "source": [
        "ones = np.ones(len(final_seq)).astype(\"int\")"
      ],
      "execution_count": null,
      "outputs": []
    },
    {
      "cell_type": "code",
      "metadata": {
        "id": "Y_sSrIatDTT_"
      },
      "source": [
        "data_final = pd.DataFrame({\"key\":final_seq,\"count\":ones},columns = [\"key\",\"count\"])"
      ],
      "execution_count": null,
      "outputs": []
    },
    {
      "cell_type": "code",
      "metadata": {
        "id": "wtY4-4UVyUqo",
        "colab": {
          "base_uri": "https://localhost:8080/"
        },
        "outputId": "c81f0d50-06e6-46b3-a31f-25c465fba1e1"
      },
      "source": [
        "data_final = data_final.groupby(\"key\").sum().reset_index()\n",
        "data_final[\"key\"].head()"
      ],
      "execution_count": null,
      "outputs": [
        {
          "output_type": "execute_result",
          "data": {
            "text/plain": [
              "0         (1,)\n",
              "1       (1, 2)\n",
              "2    (1, 2, 4)\n",
              "3       (1, 3)\n",
              "4    (1, 3, 5)\n",
              "Name: key, dtype: object"
            ]
          },
          "metadata": {
            "tags": []
          },
          "execution_count": 25
        }
      ]
    },
    {
      "cell_type": "code",
      "metadata": {
        "colab": {
          "base_uri": "https://localhost:8080/"
        },
        "id": "hNQdldKChuaS",
        "outputId": "dddb22d5-35d7-4030-8093-2af0f3306fd7"
      },
      "source": [
        "print(len(perms))\n",
        "data_comb = list(data_final[\"key\"])\n",
        "len(data_comb)"
      ],
      "execution_count": null,
      "outputs": [
        {
          "output_type": "stream",
          "text": [
            "156\n"
          ],
          "name": "stdout"
        },
        {
          "output_type": "execute_result",
          "data": {
            "text/plain": [
              "39"
            ]
          },
          "metadata": {
            "tags": []
          },
          "execution_count": 26
        }
      ]
    },
    {
      "cell_type": "code",
      "metadata": {
        "colab": {
          "base_uri": "https://localhost:8080/"
        },
        "id": "wSHfmkxlQaIZ",
        "outputId": "e31760d5-065a-4636-976a-f10c51cedf6b"
      },
      "source": [
        "other= []\n",
        "for element in data_comb:\n",
        "  if element in perms:\n",
        "    perms.remove(element)\n",
        "  else:\n",
        "    print(element)"
      ],
      "execution_count": null,
      "outputs": [
        {
          "output_type": "stream",
          "text": [
            "('5', '5')\n",
            "('5', '6', '5')\n"
          ],
          "name": "stdout"
        }
      ]
    },
    {
      "cell_type": "code",
      "metadata": {
        "colab": {
          "base_uri": "https://localhost:8080/"
        },
        "id": "y4gM-nbHlXiO",
        "outputId": "15937807-59cd-4242-830f-1ac694bdbcb0"
      },
      "source": [
        "other = perms\n",
        "len(other)"
      ],
      "execution_count": null,
      "outputs": [
        {
          "output_type": "execute_result",
          "data": {
            "text/plain": [
              "119"
            ]
          },
          "metadata": {
            "tags": []
          },
          "execution_count": 28
        }
      ]
    },
    {
      "cell_type": "code",
      "metadata": {
        "id": "DBcCb6OxigFg"
      },
      "source": [
        "#Getting their count\n",
        "zeros = np.zeros(len(other)).astype(\"int\")"
      ],
      "execution_count": null,
      "outputs": []
    },
    {
      "cell_type": "code",
      "metadata": {
        "id": "Y7mengV6mTDv"
      },
      "source": [
        "frame = pd.DataFrame({\"key\": other,\"count\":zeros})"
      ],
      "execution_count": null,
      "outputs": []
    },
    {
      "cell_type": "code",
      "metadata": {
        "id": "-n9S01pe2JST",
        "colab": {
          "base_uri": "https://localhost:8080/",
          "height": 198
        },
        "outputId": "69e78071-bcaa-4369-a34c-4b9539c3ad3b"
      },
      "source": [
        "frame.head()"
      ],
      "execution_count": null,
      "outputs": [
        {
          "output_type": "execute_result",
          "data": {
            "text/html": [
              "<div>\n",
              "<style scoped>\n",
              "    .dataframe tbody tr th:only-of-type {\n",
              "        vertical-align: middle;\n",
              "    }\n",
              "\n",
              "    .dataframe tbody tr th {\n",
              "        vertical-align: top;\n",
              "    }\n",
              "\n",
              "    .dataframe thead th {\n",
              "        text-align: right;\n",
              "    }\n",
              "</style>\n",
              "<table border=\"1\" class=\"dataframe\">\n",
              "  <thead>\n",
              "    <tr style=\"text-align: right;\">\n",
              "      <th></th>\n",
              "      <th>key</th>\n",
              "      <th>count</th>\n",
              "    </tr>\n",
              "  </thead>\n",
              "  <tbody>\n",
              "    <tr>\n",
              "      <th>0</th>\n",
              "      <td>(2, 1)</td>\n",
              "      <td>0</td>\n",
              "    </tr>\n",
              "    <tr>\n",
              "      <th>1</th>\n",
              "      <td>(5, 2)</td>\n",
              "      <td>0</td>\n",
              "    </tr>\n",
              "    <tr>\n",
              "      <th>2</th>\n",
              "      <td>(5, 4)</td>\n",
              "      <td>0</td>\n",
              "    </tr>\n",
              "    <tr>\n",
              "      <th>3</th>\n",
              "      <td>(5, 3)</td>\n",
              "      <td>0</td>\n",
              "    </tr>\n",
              "    <tr>\n",
              "      <th>4</th>\n",
              "      <td>(5, 1)</td>\n",
              "      <td>0</td>\n",
              "    </tr>\n",
              "  </tbody>\n",
              "</table>\n",
              "</div>"
            ],
            "text/plain": [
              "      key  count\n",
              "0  (2, 1)      0\n",
              "1  (5, 2)      0\n",
              "2  (5, 4)      0\n",
              "3  (5, 3)      0\n",
              "4  (5, 1)      0"
            ]
          },
          "metadata": {
            "tags": []
          },
          "execution_count": 31
        }
      ]
    },
    {
      "cell_type": "code",
      "metadata": {
        "id": "1hYmMnprgBgv",
        "colab": {
          "base_uri": "https://localhost:8080/",
          "height": 198
        },
        "outputId": "2aa45063-174d-4eea-a14c-78fe91f6306d"
      },
      "source": [
        "data_count = pd.concat([data_final,frame],axis = 0,ignore_index=True)\n",
        "data_count.head()"
      ],
      "execution_count": null,
      "outputs": [
        {
          "output_type": "execute_result",
          "data": {
            "text/html": [
              "<div>\n",
              "<style scoped>\n",
              "    .dataframe tbody tr th:only-of-type {\n",
              "        vertical-align: middle;\n",
              "    }\n",
              "\n",
              "    .dataframe tbody tr th {\n",
              "        vertical-align: top;\n",
              "    }\n",
              "\n",
              "    .dataframe thead th {\n",
              "        text-align: right;\n",
              "    }\n",
              "</style>\n",
              "<table border=\"1\" class=\"dataframe\">\n",
              "  <thead>\n",
              "    <tr style=\"text-align: right;\">\n",
              "      <th></th>\n",
              "      <th>key</th>\n",
              "      <th>count</th>\n",
              "    </tr>\n",
              "  </thead>\n",
              "  <tbody>\n",
              "    <tr>\n",
              "      <th>0</th>\n",
              "      <td>(1,)</td>\n",
              "      <td>5</td>\n",
              "    </tr>\n",
              "    <tr>\n",
              "      <th>1</th>\n",
              "      <td>(1, 2)</td>\n",
              "      <td>2</td>\n",
              "    </tr>\n",
              "    <tr>\n",
              "      <th>2</th>\n",
              "      <td>(1, 2, 4)</td>\n",
              "      <td>1</td>\n",
              "    </tr>\n",
              "    <tr>\n",
              "      <th>3</th>\n",
              "      <td>(1, 3)</td>\n",
              "      <td>2</td>\n",
              "    </tr>\n",
              "    <tr>\n",
              "      <th>4</th>\n",
              "      <td>(1, 3, 5)</td>\n",
              "      <td>1</td>\n",
              "    </tr>\n",
              "  </tbody>\n",
              "</table>\n",
              "</div>"
            ],
            "text/plain": [
              "         key  count\n",
              "0       (1,)      5\n",
              "1     (1, 2)      2\n",
              "2  (1, 2, 4)      1\n",
              "3     (1, 3)      2\n",
              "4  (1, 3, 5)      1"
            ]
          },
          "metadata": {
            "tags": []
          },
          "execution_count": 32
        }
      ]
    },
    {
      "cell_type": "code",
      "metadata": {
        "id": "IMAYHaUI4V8o",
        "colab": {
          "base_uri": "https://localhost:8080/"
        },
        "outputId": "85f6d2c9-23c3-4870-d155-b531b23f4829"
      },
      "source": [
        "len(data_final),len(frame)\n",
        "data_count.shape"
      ],
      "execution_count": null,
      "outputs": [
        {
          "output_type": "execute_result",
          "data": {
            "text/plain": [
              "(158, 2)"
            ]
          },
          "metadata": {
            "tags": []
          },
          "execution_count": 33
        }
      ]
    },
    {
      "cell_type": "code",
      "metadata": {
        "colab": {
          "base_uri": "https://localhost:8080/",
          "height": 1000
        },
        "id": "1MVzjRGKGXtC",
        "outputId": "fb2bf8ee-7346-4cd6-b0e3-9f0ec6d3835d"
      },
      "source": [
        "data_final"
      ],
      "execution_count": null,
      "outputs": [
        {
          "output_type": "execute_result",
          "data": {
            "text/html": [
              "<div>\n",
              "<style scoped>\n",
              "    .dataframe tbody tr th:only-of-type {\n",
              "        vertical-align: middle;\n",
              "    }\n",
              "\n",
              "    .dataframe tbody tr th {\n",
              "        vertical-align: top;\n",
              "    }\n",
              "\n",
              "    .dataframe thead th {\n",
              "        text-align: right;\n",
              "    }\n",
              "</style>\n",
              "<table border=\"1\" class=\"dataframe\">\n",
              "  <thead>\n",
              "    <tr style=\"text-align: right;\">\n",
              "      <th></th>\n",
              "      <th>key</th>\n",
              "      <th>count</th>\n",
              "    </tr>\n",
              "  </thead>\n",
              "  <tbody>\n",
              "    <tr>\n",
              "      <th>0</th>\n",
              "      <td>(1,)</td>\n",
              "      <td>5</td>\n",
              "    </tr>\n",
              "    <tr>\n",
              "      <th>1</th>\n",
              "      <td>(1, 2)</td>\n",
              "      <td>2</td>\n",
              "    </tr>\n",
              "    <tr>\n",
              "      <th>2</th>\n",
              "      <td>(1, 2, 4)</td>\n",
              "      <td>1</td>\n",
              "    </tr>\n",
              "    <tr>\n",
              "      <th>3</th>\n",
              "      <td>(1, 3)</td>\n",
              "      <td>2</td>\n",
              "    </tr>\n",
              "    <tr>\n",
              "      <th>4</th>\n",
              "      <td>(1, 3, 5)</td>\n",
              "      <td>1</td>\n",
              "    </tr>\n",
              "    <tr>\n",
              "      <th>5</th>\n",
              "      <td>(1, 4)</td>\n",
              "      <td>2</td>\n",
              "    </tr>\n",
              "    <tr>\n",
              "      <th>6</th>\n",
              "      <td>(1, 4, 3)</td>\n",
              "      <td>1</td>\n",
              "    </tr>\n",
              "    <tr>\n",
              "      <th>7</th>\n",
              "      <td>(1, 5)</td>\n",
              "      <td>1</td>\n",
              "    </tr>\n",
              "    <tr>\n",
              "      <th>8</th>\n",
              "      <td>(2,)</td>\n",
              "      <td>6</td>\n",
              "    </tr>\n",
              "    <tr>\n",
              "      <th>9</th>\n",
              "      <td>(2, 3)</td>\n",
              "      <td>1</td>\n",
              "    </tr>\n",
              "    <tr>\n",
              "      <th>10</th>\n",
              "      <td>(2, 3, 4)</td>\n",
              "      <td>1</td>\n",
              "    </tr>\n",
              "    <tr>\n",
              "      <th>11</th>\n",
              "      <td>(2, 4)</td>\n",
              "      <td>3</td>\n",
              "    </tr>\n",
              "    <tr>\n",
              "      <th>12</th>\n",
              "      <td>(2, 5)</td>\n",
              "      <td>2</td>\n",
              "    </tr>\n",
              "    <tr>\n",
              "      <th>13</th>\n",
              "      <td>(2, 6)</td>\n",
              "      <td>2</td>\n",
              "    </tr>\n",
              "    <tr>\n",
              "      <th>14</th>\n",
              "      <td>(2, 6, 5)</td>\n",
              "      <td>2</td>\n",
              "    </tr>\n",
              "    <tr>\n",
              "      <th>15</th>\n",
              "      <td>(3,)</td>\n",
              "      <td>7</td>\n",
              "    </tr>\n",
              "    <tr>\n",
              "      <th>16</th>\n",
              "      <td>(3, 1)</td>\n",
              "      <td>1</td>\n",
              "    </tr>\n",
              "    <tr>\n",
              "      <th>17</th>\n",
              "      <td>(3, 2)</td>\n",
              "      <td>1</td>\n",
              "    </tr>\n",
              "    <tr>\n",
              "      <th>18</th>\n",
              "      <td>(3, 2, 4)</td>\n",
              "      <td>1</td>\n",
              "    </tr>\n",
              "    <tr>\n",
              "      <th>19</th>\n",
              "      <td>(3, 4)</td>\n",
              "      <td>3</td>\n",
              "    </tr>\n",
              "    <tr>\n",
              "      <th>20</th>\n",
              "      <td>(3, 5)</td>\n",
              "      <td>2</td>\n",
              "    </tr>\n",
              "    <tr>\n",
              "      <th>21</th>\n",
              "      <td>(3, 5, 6)</td>\n",
              "      <td>1</td>\n",
              "    </tr>\n",
              "    <tr>\n",
              "      <th>22</th>\n",
              "      <td>(3, 6)</td>\n",
              "      <td>1</td>\n",
              "    </tr>\n",
              "    <tr>\n",
              "      <th>23</th>\n",
              "      <td>(4,)</td>\n",
              "      <td>6</td>\n",
              "    </tr>\n",
              "    <tr>\n",
              "      <th>24</th>\n",
              "      <td>(4, 1)</td>\n",
              "      <td>1</td>\n",
              "    </tr>\n",
              "    <tr>\n",
              "      <th>25</th>\n",
              "      <td>(4, 3)</td>\n",
              "      <td>2</td>\n",
              "    </tr>\n",
              "    <tr>\n",
              "      <th>26</th>\n",
              "      <td>(4, 3, 1)</td>\n",
              "      <td>1</td>\n",
              "    </tr>\n",
              "    <tr>\n",
              "      <th>27</th>\n",
              "      <td>(5,)</td>\n",
              "      <td>6</td>\n",
              "    </tr>\n",
              "    <tr>\n",
              "      <th>28</th>\n",
              "      <td>(5, 5)</td>\n",
              "      <td>1</td>\n",
              "    </tr>\n",
              "    <tr>\n",
              "      <th>29</th>\n",
              "      <td>(5, 6)</td>\n",
              "      <td>2</td>\n",
              "    </tr>\n",
              "    <tr>\n",
              "      <th>30</th>\n",
              "      <td>(5, 6, 5)</td>\n",
              "      <td>1</td>\n",
              "    </tr>\n",
              "    <tr>\n",
              "      <th>31</th>\n",
              "      <td>(6,)</td>\n",
              "      <td>6</td>\n",
              "    </tr>\n",
              "    <tr>\n",
              "      <th>32</th>\n",
              "      <td>(6, 1)</td>\n",
              "      <td>1</td>\n",
              "    </tr>\n",
              "    <tr>\n",
              "      <th>33</th>\n",
              "      <td>(6, 1, 2)</td>\n",
              "      <td>1</td>\n",
              "    </tr>\n",
              "    <tr>\n",
              "      <th>34</th>\n",
              "      <td>(6, 2)</td>\n",
              "      <td>1</td>\n",
              "    </tr>\n",
              "    <tr>\n",
              "      <th>35</th>\n",
              "      <td>(6, 3)</td>\n",
              "      <td>1</td>\n",
              "    </tr>\n",
              "    <tr>\n",
              "      <th>36</th>\n",
              "      <td>(6, 3, 4)</td>\n",
              "      <td>1</td>\n",
              "    </tr>\n",
              "    <tr>\n",
              "      <th>37</th>\n",
              "      <td>(6, 4)</td>\n",
              "      <td>1</td>\n",
              "    </tr>\n",
              "    <tr>\n",
              "      <th>38</th>\n",
              "      <td>(6, 5)</td>\n",
              "      <td>3</td>\n",
              "    </tr>\n",
              "  </tbody>\n",
              "</table>\n",
              "</div>"
            ],
            "text/plain": [
              "          key  count\n",
              "0        (1,)      5\n",
              "1      (1, 2)      2\n",
              "2   (1, 2, 4)      1\n",
              "3      (1, 3)      2\n",
              "4   (1, 3, 5)      1\n",
              "5      (1, 4)      2\n",
              "6   (1, 4, 3)      1\n",
              "7      (1, 5)      1\n",
              "8        (2,)      6\n",
              "9      (2, 3)      1\n",
              "10  (2, 3, 4)      1\n",
              "11     (2, 4)      3\n",
              "12     (2, 5)      2\n",
              "13     (2, 6)      2\n",
              "14  (2, 6, 5)      2\n",
              "15       (3,)      7\n",
              "16     (3, 1)      1\n",
              "17     (3, 2)      1\n",
              "18  (3, 2, 4)      1\n",
              "19     (3, 4)      3\n",
              "20     (3, 5)      2\n",
              "21  (3, 5, 6)      1\n",
              "22     (3, 6)      1\n",
              "23       (4,)      6\n",
              "24     (4, 1)      1\n",
              "25     (4, 3)      2\n",
              "26  (4, 3, 1)      1\n",
              "27       (5,)      6\n",
              "28     (5, 5)      1\n",
              "29     (5, 6)      2\n",
              "30  (5, 6, 5)      1\n",
              "31       (6,)      6\n",
              "32     (6, 1)      1\n",
              "33  (6, 1, 2)      1\n",
              "34     (6, 2)      1\n",
              "35     (6, 3)      1\n",
              "36  (6, 3, 4)      1\n",
              "37     (6, 4)      1\n",
              "38     (6, 5)      3"
            ]
          },
          "metadata": {
            "tags": []
          },
          "execution_count": 34
        }
      ]
    },
    {
      "cell_type": "code",
      "metadata": {
        "colab": {
          "base_uri": "https://localhost:8080/",
          "height": 48
        },
        "id": "L6Ysz-ueGQDA",
        "outputId": "dca50ed4-a6ba-4d48-db2b-bbd30ca4b7ea"
      },
      "source": [
        "data_final.loc[data_final[\"key\"] == (\"2, 6\")]"
      ],
      "execution_count": null,
      "outputs": [
        {
          "output_type": "execute_result",
          "data": {
            "text/html": [
              "<div>\n",
              "<style scoped>\n",
              "    .dataframe tbody tr th:only-of-type {\n",
              "        vertical-align: middle;\n",
              "    }\n",
              "\n",
              "    .dataframe tbody tr th {\n",
              "        vertical-align: top;\n",
              "    }\n",
              "\n",
              "    .dataframe thead th {\n",
              "        text-align: right;\n",
              "    }\n",
              "</style>\n",
              "<table border=\"1\" class=\"dataframe\">\n",
              "  <thead>\n",
              "    <tr style=\"text-align: right;\">\n",
              "      <th></th>\n",
              "      <th>key</th>\n",
              "      <th>count</th>\n",
              "    </tr>\n",
              "  </thead>\n",
              "  <tbody>\n",
              "  </tbody>\n",
              "</table>\n",
              "</div>"
            ],
            "text/plain": [
              "Empty DataFrame\n",
              "Columns: [key, count]\n",
              "Index: []"
            ]
          },
          "metadata": {
            "tags": []
          },
          "execution_count": 35
        }
      ]
    },
    {
      "cell_type": "markdown",
      "metadata": {
        "id": "NktkX43Zk84B"
      },
      "source": [
        "##Association Rules "
      ]
    },
    {
      "cell_type": "markdown",
      "metadata": {
        "id": "58EuGSsVwrFs"
      },
      "source": [
        "##Support"
      ]
    },
    {
      "cell_type": "code",
      "metadata": {
        "id": "f6ROtNf1XHpW"
      },
      "source": [
        "#Calculating the support for all the sequences\n",
        "support = []\n",
        "element = []\n",
        "sequence = []\n",
        "n = len(output1)\n",
        "\n",
        "for i in range(len(data_final)):\n",
        "  a = str(data_final[\"key\"][i]).replace(\"(\",\"\").replace(\")\",\"\").replace(\"'\",\"\").replace(\",\",\"\")\n",
        "  for j in unique_val:\n",
        "    for k in range(len(data_final)):\n",
        "      b = str(data_final[\"key\"][k]).replace(\"(\",\"\").replace(\")\",\"\").replace(\"'\",\"\").replace(\",\",\"\")\n",
        "      c = a + \" \" +j\n",
        "      if a != j:\n",
        "        if c in b:\n",
        "          d = data_final[\"count\"].where(data_final[\"key\"] == tuple(map(str, c.split(' '))))\n",
        "          d = d.dropna()\n",
        "          element.append(a)\n",
        "          sequence.append(j)\n",
        "          support.append(round(d.iloc[0]/n,4))\n",
        "          break"
      ],
      "execution_count": null,
      "outputs": []
    },
    {
      "cell_type": "code",
      "metadata": {
        "id": "boT86IvJO-c3"
      },
      "source": [
        "final = pd.DataFrame({\"element\":element,\"sequence\":sequence,\"support\":support})"
      ],
      "execution_count": null,
      "outputs": []
    },
    {
      "cell_type": "code",
      "metadata": {
        "id": "5ixJyAR_mcvU"
      },
      "source": [
        "#Calculation used for support of X and Support of Y\n",
        "element_support = []\n",
        "sequence_support = []\n",
        "n = len(output1)\n",
        "\n",
        "k = 0\n",
        "for i in range(len(element)):\n",
        "  a = element[i]\n",
        "  c = sequence[k]\n",
        "  k += 1\n",
        "  flag = flag1 = False\n",
        "\n",
        "  for j in range(len(data_final)):\n",
        "    b = str(data_final[\"key\"][j]).replace(\"(\",\"\").replace(\")\",\"\").replace(\"'\",\"\").replace(\",\",\"\")\n",
        "    if a == b:\n",
        "      element_support.append(data_final[\"count\"][j]/n)\n",
        "      flag = True\n",
        "    \n",
        "    if c == b:\n",
        "      sequence_support.append(data_final[\"count\"][j]/n)\n",
        "      flag1 = True\n",
        "    \n",
        "    if flag == True and flag1 == True:\n",
        "      break"
      ],
      "execution_count": null,
      "outputs": []
    },
    {
      "cell_type": "markdown",
      "metadata": {
        "id": "dbmzk9ALm-kK"
      },
      "source": [
        "##Confidence"
      ]
    },
    {
      "cell_type": "code",
      "metadata": {
        "id": "T5ofxn7oXOKL"
      },
      "source": [
        "#Calculating the confidence for all the sequences\n",
        "final[\"confidence\"] = round(final[\"support\"]/pd.Series(element_support),4)"
      ],
      "execution_count": null,
      "outputs": []
    },
    {
      "cell_type": "markdown",
      "metadata": {
        "id": "bawe1boVnBxY"
      },
      "source": [
        "##Lift"
      ]
    },
    {
      "cell_type": "code",
      "metadata": {
        "id": "e9LON5GE1k6d"
      },
      "source": [
        "#Calculation for Lift\n",
        "n = len(output1)\n",
        "num = final[\"support\"]\n",
        "denom = pd.Series(element_support) * pd.Series(sequence_support)\n",
        "fin = num/denom\n",
        "final[\"lift\"] = round(fin,4)"
      ],
      "execution_count": null,
      "outputs": []
    },
    {
      "cell_type": "code",
      "metadata": {
        "id": "dMODXEmN08GR",
        "colab": {
          "base_uri": "https://localhost:8080/",
          "height": 1000
        },
        "outputId": "b6fdfa5e-6727-403a-8a3d-fdda891311f3"
      },
      "source": [
        "final"
      ],
      "execution_count": null,
      "outputs": [
        {
          "output_type": "execute_result",
          "data": {
            "text/html": [
              "<div>\n",
              "<style scoped>\n",
              "    .dataframe tbody tr th:only-of-type {\n",
              "        vertical-align: middle;\n",
              "    }\n",
              "\n",
              "    .dataframe tbody tr th {\n",
              "        vertical-align: top;\n",
              "    }\n",
              "\n",
              "    .dataframe thead th {\n",
              "        text-align: right;\n",
              "    }\n",
              "</style>\n",
              "<table border=\"1\" class=\"dataframe\">\n",
              "  <thead>\n",
              "    <tr style=\"text-align: right;\">\n",
              "      <th></th>\n",
              "      <th>element</th>\n",
              "      <th>sequence</th>\n",
              "      <th>support</th>\n",
              "      <th>confidence</th>\n",
              "      <th>lift</th>\n",
              "    </tr>\n",
              "  </thead>\n",
              "  <tbody>\n",
              "    <tr>\n",
              "      <th>0</th>\n",
              "      <td>1</td>\n",
              "      <td>2</td>\n",
              "      <td>0.1667</td>\n",
              "      <td>0.4001</td>\n",
              "      <td>0.8002</td>\n",
              "    </tr>\n",
              "    <tr>\n",
              "      <th>1</th>\n",
              "      <td>1</td>\n",
              "      <td>5</td>\n",
              "      <td>0.0833</td>\n",
              "      <td>0.1999</td>\n",
              "      <td>0.3998</td>\n",
              "    </tr>\n",
              "    <tr>\n",
              "      <th>2</th>\n",
              "      <td>1</td>\n",
              "      <td>4</td>\n",
              "      <td>0.1667</td>\n",
              "      <td>0.4001</td>\n",
              "      <td>0.8002</td>\n",
              "    </tr>\n",
              "    <tr>\n",
              "      <th>3</th>\n",
              "      <td>1</td>\n",
              "      <td>3</td>\n",
              "      <td>0.1667</td>\n",
              "      <td>0.4001</td>\n",
              "      <td>0.6859</td>\n",
              "    </tr>\n",
              "    <tr>\n",
              "      <th>4</th>\n",
              "      <td>1 2</td>\n",
              "      <td>4</td>\n",
              "      <td>0.0833</td>\n",
              "      <td>0.4998</td>\n",
              "      <td>0.9996</td>\n",
              "    </tr>\n",
              "    <tr>\n",
              "      <th>5</th>\n",
              "      <td>1 3</td>\n",
              "      <td>5</td>\n",
              "      <td>0.0833</td>\n",
              "      <td>0.4998</td>\n",
              "      <td>0.9996</td>\n",
              "    </tr>\n",
              "    <tr>\n",
              "      <th>6</th>\n",
              "      <td>1 4</td>\n",
              "      <td>3</td>\n",
              "      <td>0.0833</td>\n",
              "      <td>0.4998</td>\n",
              "      <td>0.8568</td>\n",
              "    </tr>\n",
              "    <tr>\n",
              "      <th>7</th>\n",
              "      <td>2</td>\n",
              "      <td>6</td>\n",
              "      <td>0.1667</td>\n",
              "      <td>0.3334</td>\n",
              "      <td>0.6668</td>\n",
              "    </tr>\n",
              "    <tr>\n",
              "      <th>8</th>\n",
              "      <td>2</td>\n",
              "      <td>5</td>\n",
              "      <td>0.1667</td>\n",
              "      <td>0.3334</td>\n",
              "      <td>0.6668</td>\n",
              "    </tr>\n",
              "    <tr>\n",
              "      <th>9</th>\n",
              "      <td>2</td>\n",
              "      <td>4</td>\n",
              "      <td>0.2500</td>\n",
              "      <td>0.5000</td>\n",
              "      <td>1.0000</td>\n",
              "    </tr>\n",
              "    <tr>\n",
              "      <th>10</th>\n",
              "      <td>2</td>\n",
              "      <td>3</td>\n",
              "      <td>0.0833</td>\n",
              "      <td>0.1666</td>\n",
              "      <td>0.2856</td>\n",
              "    </tr>\n",
              "    <tr>\n",
              "      <th>11</th>\n",
              "      <td>2 3</td>\n",
              "      <td>4</td>\n",
              "      <td>0.0833</td>\n",
              "      <td>0.9996</td>\n",
              "      <td>1.9992</td>\n",
              "    </tr>\n",
              "    <tr>\n",
              "      <th>12</th>\n",
              "      <td>2 6</td>\n",
              "      <td>5</td>\n",
              "      <td>0.1667</td>\n",
              "      <td>1.0002</td>\n",
              "      <td>2.0004</td>\n",
              "    </tr>\n",
              "    <tr>\n",
              "      <th>13</th>\n",
              "      <td>3</td>\n",
              "      <td>2</td>\n",
              "      <td>0.0833</td>\n",
              "      <td>0.1428</td>\n",
              "      <td>0.2856</td>\n",
              "    </tr>\n",
              "    <tr>\n",
              "      <th>14</th>\n",
              "      <td>3</td>\n",
              "      <td>6</td>\n",
              "      <td>0.0833</td>\n",
              "      <td>0.1428</td>\n",
              "      <td>0.2856</td>\n",
              "    </tr>\n",
              "    <tr>\n",
              "      <th>15</th>\n",
              "      <td>3</td>\n",
              "      <td>5</td>\n",
              "      <td>0.1667</td>\n",
              "      <td>0.2858</td>\n",
              "      <td>0.5715</td>\n",
              "    </tr>\n",
              "    <tr>\n",
              "      <th>16</th>\n",
              "      <td>3</td>\n",
              "      <td>4</td>\n",
              "      <td>0.2500</td>\n",
              "      <td>0.4286</td>\n",
              "      <td>0.8571</td>\n",
              "    </tr>\n",
              "    <tr>\n",
              "      <th>17</th>\n",
              "      <td>3</td>\n",
              "      <td>1</td>\n",
              "      <td>0.0833</td>\n",
              "      <td>0.1428</td>\n",
              "      <td>0.3427</td>\n",
              "    </tr>\n",
              "    <tr>\n",
              "      <th>18</th>\n",
              "      <td>3 2</td>\n",
              "      <td>4</td>\n",
              "      <td>0.0833</td>\n",
              "      <td>0.9996</td>\n",
              "      <td>1.9992</td>\n",
              "    </tr>\n",
              "    <tr>\n",
              "      <th>19</th>\n",
              "      <td>3 5</td>\n",
              "      <td>6</td>\n",
              "      <td>0.0833</td>\n",
              "      <td>0.4998</td>\n",
              "      <td>0.9996</td>\n",
              "    </tr>\n",
              "    <tr>\n",
              "      <th>20</th>\n",
              "      <td>4</td>\n",
              "      <td>3</td>\n",
              "      <td>0.1667</td>\n",
              "      <td>0.3334</td>\n",
              "      <td>0.5715</td>\n",
              "    </tr>\n",
              "    <tr>\n",
              "      <th>21</th>\n",
              "      <td>4</td>\n",
              "      <td>1</td>\n",
              "      <td>0.0833</td>\n",
              "      <td>0.1666</td>\n",
              "      <td>0.3998</td>\n",
              "    </tr>\n",
              "    <tr>\n",
              "      <th>22</th>\n",
              "      <td>4 3</td>\n",
              "      <td>1</td>\n",
              "      <td>0.0833</td>\n",
              "      <td>0.4998</td>\n",
              "      <td>1.1995</td>\n",
              "    </tr>\n",
              "    <tr>\n",
              "      <th>23</th>\n",
              "      <td>5</td>\n",
              "      <td>6</td>\n",
              "      <td>0.1667</td>\n",
              "      <td>0.3334</td>\n",
              "      <td>0.6668</td>\n",
              "    </tr>\n",
              "    <tr>\n",
              "      <th>24</th>\n",
              "      <td>5 6</td>\n",
              "      <td>5</td>\n",
              "      <td>0.0833</td>\n",
              "      <td>0.4998</td>\n",
              "      <td>0.9996</td>\n",
              "    </tr>\n",
              "    <tr>\n",
              "      <th>25</th>\n",
              "      <td>6</td>\n",
              "      <td>2</td>\n",
              "      <td>0.0833</td>\n",
              "      <td>0.1666</td>\n",
              "      <td>0.3332</td>\n",
              "    </tr>\n",
              "    <tr>\n",
              "      <th>26</th>\n",
              "      <td>6</td>\n",
              "      <td>5</td>\n",
              "      <td>0.2500</td>\n",
              "      <td>0.5000</td>\n",
              "      <td>1.0000</td>\n",
              "    </tr>\n",
              "    <tr>\n",
              "      <th>27</th>\n",
              "      <td>6</td>\n",
              "      <td>4</td>\n",
              "      <td>0.0833</td>\n",
              "      <td>0.1666</td>\n",
              "      <td>0.3332</td>\n",
              "    </tr>\n",
              "    <tr>\n",
              "      <th>28</th>\n",
              "      <td>6</td>\n",
              "      <td>3</td>\n",
              "      <td>0.0833</td>\n",
              "      <td>0.1666</td>\n",
              "      <td>0.2856</td>\n",
              "    </tr>\n",
              "    <tr>\n",
              "      <th>29</th>\n",
              "      <td>6</td>\n",
              "      <td>1</td>\n",
              "      <td>0.0833</td>\n",
              "      <td>0.1666</td>\n",
              "      <td>0.3998</td>\n",
              "    </tr>\n",
              "    <tr>\n",
              "      <th>30</th>\n",
              "      <td>6 1</td>\n",
              "      <td>2</td>\n",
              "      <td>0.0833</td>\n",
              "      <td>0.9996</td>\n",
              "      <td>1.9992</td>\n",
              "    </tr>\n",
              "    <tr>\n",
              "      <th>31</th>\n",
              "      <td>6 3</td>\n",
              "      <td>4</td>\n",
              "      <td>0.0833</td>\n",
              "      <td>0.9996</td>\n",
              "      <td>1.9992</td>\n",
              "    </tr>\n",
              "  </tbody>\n",
              "</table>\n",
              "</div>"
            ],
            "text/plain": [
              "   element sequence  support  confidence    lift\n",
              "0        1        2   0.1667      0.4001  0.8002\n",
              "1        1        5   0.0833      0.1999  0.3998\n",
              "2        1        4   0.1667      0.4001  0.8002\n",
              "3        1        3   0.1667      0.4001  0.6859\n",
              "4      1 2        4   0.0833      0.4998  0.9996\n",
              "5      1 3        5   0.0833      0.4998  0.9996\n",
              "6      1 4        3   0.0833      0.4998  0.8568\n",
              "7        2        6   0.1667      0.3334  0.6668\n",
              "8        2        5   0.1667      0.3334  0.6668\n",
              "9        2        4   0.2500      0.5000  1.0000\n",
              "10       2        3   0.0833      0.1666  0.2856\n",
              "11     2 3        4   0.0833      0.9996  1.9992\n",
              "12     2 6        5   0.1667      1.0002  2.0004\n",
              "13       3        2   0.0833      0.1428  0.2856\n",
              "14       3        6   0.0833      0.1428  0.2856\n",
              "15       3        5   0.1667      0.2858  0.5715\n",
              "16       3        4   0.2500      0.4286  0.8571\n",
              "17       3        1   0.0833      0.1428  0.3427\n",
              "18     3 2        4   0.0833      0.9996  1.9992\n",
              "19     3 5        6   0.0833      0.4998  0.9996\n",
              "20       4        3   0.1667      0.3334  0.5715\n",
              "21       4        1   0.0833      0.1666  0.3998\n",
              "22     4 3        1   0.0833      0.4998  1.1995\n",
              "23       5        6   0.1667      0.3334  0.6668\n",
              "24     5 6        5   0.0833      0.4998  0.9996\n",
              "25       6        2   0.0833      0.1666  0.3332\n",
              "26       6        5   0.2500      0.5000  1.0000\n",
              "27       6        4   0.0833      0.1666  0.3332\n",
              "28       6        3   0.0833      0.1666  0.2856\n",
              "29       6        1   0.0833      0.1666  0.3998\n",
              "30     6 1        2   0.0833      0.9996  1.9992\n",
              "31     6 3        4   0.0833      0.9996  1.9992"
            ]
          },
          "metadata": {
            "tags": []
          },
          "execution_count": 41
        }
      ]
    },
    {
      "cell_type": "code",
      "metadata": {
        "colab": {
          "base_uri": "https://localhost:8080/",
          "height": 78
        },
        "id": "4wcgM3qR2zN0",
        "outputId": "38b083a8-77b6-4614-b758-ff55ff109f03"
      },
      "source": [
        "data_final.loc[data_final[\"key\"] == ('5',)]"
      ],
      "execution_count": null,
      "outputs": [
        {
          "output_type": "execute_result",
          "data": {
            "text/html": [
              "<div>\n",
              "<style scoped>\n",
              "    .dataframe tbody tr th:only-of-type {\n",
              "        vertical-align: middle;\n",
              "    }\n",
              "\n",
              "    .dataframe tbody tr th {\n",
              "        vertical-align: top;\n",
              "    }\n",
              "\n",
              "    .dataframe thead th {\n",
              "        text-align: right;\n",
              "    }\n",
              "</style>\n",
              "<table border=\"1\" class=\"dataframe\">\n",
              "  <thead>\n",
              "    <tr style=\"text-align: right;\">\n",
              "      <th></th>\n",
              "      <th>key</th>\n",
              "      <th>count</th>\n",
              "    </tr>\n",
              "  </thead>\n",
              "  <tbody>\n",
              "    <tr>\n",
              "      <th>27</th>\n",
              "      <td>(5,)</td>\n",
              "      <td>6</td>\n",
              "    </tr>\n",
              "  </tbody>\n",
              "</table>\n",
              "</div>"
            ],
            "text/plain": [
              "     key  count\n",
              "27  (5,)      6"
            ]
          },
          "metadata": {
            "tags": []
          },
          "execution_count": 42
        }
      ]
    },
    {
      "cell_type": "code",
      "metadata": {
        "id": "ZgO1VTL_L9Kz"
      },
      "source": [
        "P = pd.Series(element_support) * len(output1)\n",
        "N = pd.Series(sequence_support) * len(output1)"
      ],
      "execution_count": null,
      "outputs": []
    },
    {
      "cell_type": "code",
      "metadata": {
        "id": "pZkneSye2r50"
      },
      "source": [
        "p = []\n",
        "n = []\n",
        "for i in range(len(final)):\n",
        "  a = final[\"element\"][i]\n",
        "  b = final[\"sequence\"][i]\n",
        "  count = 0\n",
        "  count1 = 0\n",
        "  for j in range(len(final)):\n",
        "    if a == final[\"element\"][j]:\n",
        "      count += 1\n",
        "    if b == final[\"sequence\"][j]:\n",
        "      count1 += 1\n",
        "  p.append(count)\n",
        "  n.append(count1)"
      ],
      "execution_count": null,
      "outputs": []
    },
    {
      "cell_type": "code",
      "metadata": {
        "id": "I4Xn9Uz958VF"
      },
      "source": [
        "p = pd.Series(p)\n",
        "n = pd.Series(n)"
      ],
      "execution_count": null,
      "outputs": []
    },
    {
      "cell_type": "code",
      "metadata": {
        "id": "Vl3-J9T_4dVr"
      },
      "source": [
        "final[\"g\"] = round(p/(p+n+2),3)\n",
        "final[\"wLap\"] = round((p+1)*(P+N)/(p+n+2)*P,3)\n",
        "final[\"LS\"] = round(p*N/(n*P),3)\n",
        "final[\"Rss\"] = round((p/P) - (n/N),3)\n",
        "final[\"MS\"] = round(p/(n+P),3)"
      ],
      "execution_count": null,
      "outputs": []
    },
    {
      "cell_type": "code",
      "metadata": {
        "colab": {
          "base_uri": "https://localhost:8080/"
        },
        "id": "RjDfD0Zl87nM",
        "outputId": "c1aff568-df37-4540-e95e-3fd1d0568637"
      },
      "source": [
        "n[2]"
      ],
      "execution_count": null,
      "outputs": [
        {
          "output_type": "execute_result",
          "data": {
            "text/plain": [
              "8"
            ]
          },
          "metadata": {
            "tags": []
          },
          "execution_count": 47
        }
      ]
    },
    {
      "cell_type": "code",
      "metadata": {
        "id": "b9at3Qcm_Hlh"
      },
      "source": [
        "Cohen = ((P+N)*(p/(p+n))) - P / (((P+N)/2) * ((p+n+P)/(p+n))) - P\n",
        "Coleman = (((P+N) * (p/(p+n))) - P) / N"
      ],
      "execution_count": null,
      "outputs": []
    },
    {
      "cell_type": "code",
      "metadata": {
        "id": "ckqYCbrfBaEU"
      },
      "source": [
        "final[\"C1\"] = round(Coleman * (2 + Cohen)/3,3)\n",
        "final[\"C2\"] = round(Coleman * 0.5*(1+(p/P)),3)"
      ],
      "execution_count": null,
      "outputs": []
    },
    {
      "cell_type": "code",
      "metadata": {
        "colab": {
          "base_uri": "https://localhost:8080/",
          "height": 1000
        },
        "id": "I2CFS1Vd693q",
        "outputId": "0b7d19c0-d9fd-43f2-e5b4-abe6762e8493"
      },
      "source": [
        "final"
      ],
      "execution_count": null,
      "outputs": [
        {
          "output_type": "execute_result",
          "data": {
            "text/html": [
              "<div>\n",
              "<style scoped>\n",
              "    .dataframe tbody tr th:only-of-type {\n",
              "        vertical-align: middle;\n",
              "    }\n",
              "\n",
              "    .dataframe tbody tr th {\n",
              "        vertical-align: top;\n",
              "    }\n",
              "\n",
              "    .dataframe thead th {\n",
              "        text-align: right;\n",
              "    }\n",
              "</style>\n",
              "<table border=\"1\" class=\"dataframe\">\n",
              "  <thead>\n",
              "    <tr style=\"text-align: right;\">\n",
              "      <th></th>\n",
              "      <th>element</th>\n",
              "      <th>sequence</th>\n",
              "      <th>support</th>\n",
              "      <th>confidence</th>\n",
              "      <th>lift</th>\n",
              "      <th>g</th>\n",
              "      <th>wLap</th>\n",
              "      <th>LS</th>\n",
              "      <th>Rss</th>\n",
              "      <th>MS</th>\n",
              "      <th>C1</th>\n",
              "      <th>C2</th>\n",
              "    </tr>\n",
              "  </thead>\n",
              "  <tbody>\n",
              "    <tr>\n",
              "      <th>0</th>\n",
              "      <td>1</td>\n",
              "      <td>2</td>\n",
              "      <td>0.1667</td>\n",
              "      <td>0.4001</td>\n",
              "      <td>0.8002</td>\n",
              "      <td>0.400</td>\n",
              "      <td>27.500</td>\n",
              "      <td>1.200</td>\n",
              "      <td>0.133</td>\n",
              "      <td>0.444</td>\n",
              "      <td>0.054</td>\n",
              "      <td>0.075</td>\n",
              "    </tr>\n",
              "    <tr>\n",
              "      <th>1</th>\n",
              "      <td>1</td>\n",
              "      <td>5</td>\n",
              "      <td>0.0833</td>\n",
              "      <td>0.1999</td>\n",
              "      <td>0.3998</td>\n",
              "      <td>0.308</td>\n",
              "      <td>21.154</td>\n",
              "      <td>0.686</td>\n",
              "      <td>-0.367</td>\n",
              "      <td>0.333</td>\n",
              "      <td>-0.021</td>\n",
              "      <td>-0.150</td>\n",
              "    </tr>\n",
              "    <tr>\n",
              "      <th>2</th>\n",
              "      <td>1</td>\n",
              "      <td>4</td>\n",
              "      <td>0.1667</td>\n",
              "      <td>0.4001</td>\n",
              "      <td>0.8002</td>\n",
              "      <td>0.286</td>\n",
              "      <td>19.643</td>\n",
              "      <td>0.600</td>\n",
              "      <td>-0.533</td>\n",
              "      <td>0.308</td>\n",
              "      <td>-0.002</td>\n",
              "      <td>-0.200</td>\n",
              "    </tr>\n",
              "    <tr>\n",
              "      <th>3</th>\n",
              "      <td>1</td>\n",
              "      <td>3</td>\n",
              "      <td>0.1667</td>\n",
              "      <td>0.4001</td>\n",
              "      <td>0.6859</td>\n",
              "      <td>0.364</td>\n",
              "      <td>27.273</td>\n",
              "      <td>1.120</td>\n",
              "      <td>0.086</td>\n",
              "      <td>0.400</td>\n",
              "      <td>0.029</td>\n",
              "      <td>0.043</td>\n",
              "    </tr>\n",
              "    <tr>\n",
              "      <th>4</th>\n",
              "      <td>1 2</td>\n",
              "      <td>4</td>\n",
              "      <td>0.0833</td>\n",
              "      <td>0.4998</td>\n",
              "      <td>0.9996</td>\n",
              "      <td>0.091</td>\n",
              "      <td>2.909</td>\n",
              "      <td>0.375</td>\n",
              "      <td>-0.833</td>\n",
              "      <td>0.100</td>\n",
              "      <td>-0.030</td>\n",
              "      <td>-0.139</td>\n",
              "    </tr>\n",
              "    <tr>\n",
              "      <th>5</th>\n",
              "      <td>1 3</td>\n",
              "      <td>5</td>\n",
              "      <td>0.0833</td>\n",
              "      <td>0.4998</td>\n",
              "      <td>0.9996</td>\n",
              "      <td>0.100</td>\n",
              "      <td>3.200</td>\n",
              "      <td>0.429</td>\n",
              "      <td>-0.667</td>\n",
              "      <td>0.111</td>\n",
              "      <td>-0.033</td>\n",
              "      <td>-0.125</td>\n",
              "    </tr>\n",
              "    <tr>\n",
              "      <th>6</th>\n",
              "      <td>1 4</td>\n",
              "      <td>3</td>\n",
              "      <td>0.0833</td>\n",
              "      <td>0.4998</td>\n",
              "      <td>0.8568</td>\n",
              "      <td>0.125</td>\n",
              "      <td>4.500</td>\n",
              "      <td>0.700</td>\n",
              "      <td>-0.214</td>\n",
              "      <td>0.143</td>\n",
              "      <td>-0.028</td>\n",
              "      <td>-0.054</td>\n",
              "    </tr>\n",
              "    <tr>\n",
              "      <th>7</th>\n",
              "      <td>2</td>\n",
              "      <td>6</td>\n",
              "      <td>0.1667</td>\n",
              "      <td>0.3334</td>\n",
              "      <td>0.6668</td>\n",
              "      <td>0.400</td>\n",
              "      <td>36.000</td>\n",
              "      <td>1.000</td>\n",
              "      <td>0.000</td>\n",
              "      <td>0.400</td>\n",
              "      <td>0.000</td>\n",
              "      <td>0.000</td>\n",
              "    </tr>\n",
              "    <tr>\n",
              "      <th>8</th>\n",
              "      <td>2</td>\n",
              "      <td>5</td>\n",
              "      <td>0.1667</td>\n",
              "      <td>0.3334</td>\n",
              "      <td>0.6668</td>\n",
              "      <td>0.308</td>\n",
              "      <td>27.692</td>\n",
              "      <td>0.571</td>\n",
              "      <td>-0.500</td>\n",
              "      <td>0.308</td>\n",
              "      <td>0.026</td>\n",
              "      <td>-0.227</td>\n",
              "    </tr>\n",
              "    <tr>\n",
              "      <th>9</th>\n",
              "      <td>2</td>\n",
              "      <td>4</td>\n",
              "      <td>0.2500</td>\n",
              "      <td>0.5000</td>\n",
              "      <td>1.0000</td>\n",
              "      <td>0.286</td>\n",
              "      <td>25.714</td>\n",
              "      <td>0.500</td>\n",
              "      <td>-0.667</td>\n",
              "      <td>0.286</td>\n",
              "      <td>0.074</td>\n",
              "      <td>-0.278</td>\n",
              "    </tr>\n",
              "    <tr>\n",
              "      <th>10</th>\n",
              "      <td>2</td>\n",
              "      <td>3</td>\n",
              "      <td>0.0833</td>\n",
              "      <td>0.1666</td>\n",
              "      <td>0.2856</td>\n",
              "      <td>0.364</td>\n",
              "      <td>35.455</td>\n",
              "      <td>0.933</td>\n",
              "      <td>-0.048</td>\n",
              "      <td>0.364</td>\n",
              "      <td>-0.013</td>\n",
              "      <td>-0.026</td>\n",
              "    </tr>\n",
              "    <tr>\n",
              "      <th>11</th>\n",
              "      <td>2 3</td>\n",
              "      <td>4</td>\n",
              "      <td>0.0833</td>\n",
              "      <td>0.9996</td>\n",
              "      <td>1.9992</td>\n",
              "      <td>0.091</td>\n",
              "      <td>1.273</td>\n",
              "      <td>0.750</td>\n",
              "      <td>-0.333</td>\n",
              "      <td>0.111</td>\n",
              "      <td>-0.019</td>\n",
              "      <td>-0.037</td>\n",
              "    </tr>\n",
              "    <tr>\n",
              "      <th>12</th>\n",
              "      <td>2 6</td>\n",
              "      <td>5</td>\n",
              "      <td>0.1667</td>\n",
              "      <td>1.0002</td>\n",
              "      <td>2.0004</td>\n",
              "      <td>0.100</td>\n",
              "      <td>3.200</td>\n",
              "      <td>0.429</td>\n",
              "      <td>-0.667</td>\n",
              "      <td>0.111</td>\n",
              "      <td>-0.033</td>\n",
              "      <td>-0.125</td>\n",
              "    </tr>\n",
              "    <tr>\n",
              "      <th>13</th>\n",
              "      <td>3</td>\n",
              "      <td>2</td>\n",
              "      <td>0.0833</td>\n",
              "      <td>0.1428</td>\n",
              "      <td>0.2856</td>\n",
              "      <td>0.455</td>\n",
              "      <td>49.636</td>\n",
              "      <td>1.071</td>\n",
              "      <td>0.048</td>\n",
              "      <td>0.455</td>\n",
              "      <td>0.020</td>\n",
              "      <td>0.032</td>\n",
              "    </tr>\n",
              "    <tr>\n",
              "      <th>14</th>\n",
              "      <td>3</td>\n",
              "      <td>6</td>\n",
              "      <td>0.0833</td>\n",
              "      <td>0.1428</td>\n",
              "      <td>0.2856</td>\n",
              "      <td>0.455</td>\n",
              "      <td>49.636</td>\n",
              "      <td>1.071</td>\n",
              "      <td>0.048</td>\n",
              "      <td>0.455</td>\n",
              "      <td>0.020</td>\n",
              "      <td>0.032</td>\n",
              "    </tr>\n",
              "    <tr>\n",
              "      <th>15</th>\n",
              "      <td>3</td>\n",
              "      <td>5</td>\n",
              "      <td>0.1667</td>\n",
              "      <td>0.2858</td>\n",
              "      <td>0.5715</td>\n",
              "      <td>0.357</td>\n",
              "      <td>39.000</td>\n",
              "      <td>0.612</td>\n",
              "      <td>-0.452</td>\n",
              "      <td>0.357</td>\n",
              "      <td>0.023</td>\n",
              "      <td>-0.226</td>\n",
              "    </tr>\n",
              "    <tr>\n",
              "      <th>16</th>\n",
              "      <td>3</td>\n",
              "      <td>4</td>\n",
              "      <td>0.2500</td>\n",
              "      <td>0.4286</td>\n",
              "      <td>0.8571</td>\n",
              "      <td>0.333</td>\n",
              "      <td>36.400</td>\n",
              "      <td>0.536</td>\n",
              "      <td>-0.619</td>\n",
              "      <td>0.333</td>\n",
              "      <td>0.078</td>\n",
              "      <td>-0.286</td>\n",
              "    </tr>\n",
              "    <tr>\n",
              "      <th>17</th>\n",
              "      <td>3</td>\n",
              "      <td>1</td>\n",
              "      <td>0.0833</td>\n",
              "      <td>0.1428</td>\n",
              "      <td>0.3427</td>\n",
              "      <td>0.455</td>\n",
              "      <td>45.818</td>\n",
              "      <td>0.893</td>\n",
              "      <td>-0.086</td>\n",
              "      <td>0.455</td>\n",
              "      <td>-0.022</td>\n",
              "      <td>-0.057</td>\n",
              "    </tr>\n",
              "    <tr>\n",
              "      <th>18</th>\n",
              "      <td>3 2</td>\n",
              "      <td>4</td>\n",
              "      <td>0.0833</td>\n",
              "      <td>0.9996</td>\n",
              "      <td>1.9992</td>\n",
              "      <td>0.091</td>\n",
              "      <td>1.273</td>\n",
              "      <td>0.750</td>\n",
              "      <td>-0.333</td>\n",
              "      <td>0.111</td>\n",
              "      <td>-0.019</td>\n",
              "      <td>-0.037</td>\n",
              "    </tr>\n",
              "    <tr>\n",
              "      <th>19</th>\n",
              "      <td>3 5</td>\n",
              "      <td>6</td>\n",
              "      <td>0.0833</td>\n",
              "      <td>0.4998</td>\n",
              "      <td>0.9996</td>\n",
              "      <td>0.143</td>\n",
              "      <td>4.571</td>\n",
              "      <td>0.750</td>\n",
              "      <td>-0.167</td>\n",
              "      <td>0.167</td>\n",
              "      <td>-0.028</td>\n",
              "      <td>-0.050</td>\n",
              "    </tr>\n",
              "    <tr>\n",
              "      <th>20</th>\n",
              "      <td>4</td>\n",
              "      <td>3</td>\n",
              "      <td>0.1667</td>\n",
              "      <td>0.3334</td>\n",
              "      <td>0.5715</td>\n",
              "      <td>0.222</td>\n",
              "      <td>26.000</td>\n",
              "      <td>0.467</td>\n",
              "      <td>-0.381</td>\n",
              "      <td>0.182</td>\n",
              "      <td>0.085</td>\n",
              "      <td>-0.218</td>\n",
              "    </tr>\n",
              "    <tr>\n",
              "      <th>21</th>\n",
              "      <td>4</td>\n",
              "      <td>1</td>\n",
              "      <td>0.0833</td>\n",
              "      <td>0.1666</td>\n",
              "      <td>0.3998</td>\n",
              "      <td>0.250</td>\n",
              "      <td>24.750</td>\n",
              "      <td>0.417</td>\n",
              "      <td>-0.467</td>\n",
              "      <td>0.200</td>\n",
              "      <td>0.137</td>\n",
              "      <td>-0.311</td>\n",
              "    </tr>\n",
              "    <tr>\n",
              "      <th>22</th>\n",
              "      <td>4 3</td>\n",
              "      <td>1</td>\n",
              "      <td>0.0833</td>\n",
              "      <td>0.4998</td>\n",
              "      <td>1.1995</td>\n",
              "      <td>0.143</td>\n",
              "      <td>4.000</td>\n",
              "      <td>0.625</td>\n",
              "      <td>-0.300</td>\n",
              "      <td>0.167</td>\n",
              "      <td>-0.040</td>\n",
              "      <td>-0.090</td>\n",
              "    </tr>\n",
              "    <tr>\n",
              "      <th>23</th>\n",
              "      <td>5</td>\n",
              "      <td>6</td>\n",
              "      <td>0.1667</td>\n",
              "      <td>0.3334</td>\n",
              "      <td>0.6668</td>\n",
              "      <td>0.143</td>\n",
              "      <td>20.571</td>\n",
              "      <td>0.250</td>\n",
              "      <td>-0.500</td>\n",
              "      <td>0.100</td>\n",
              "      <td>0.411</td>\n",
              "      <td>-0.350</td>\n",
              "    </tr>\n",
              "    <tr>\n",
              "      <th>24</th>\n",
              "      <td>5 6</td>\n",
              "      <td>5</td>\n",
              "      <td>0.0833</td>\n",
              "      <td>0.4998</td>\n",
              "      <td>0.9996</td>\n",
              "      <td>0.100</td>\n",
              "      <td>3.200</td>\n",
              "      <td>0.429</td>\n",
              "      <td>-0.667</td>\n",
              "      <td>0.111</td>\n",
              "      <td>-0.033</td>\n",
              "      <td>-0.125</td>\n",
              "    </tr>\n",
              "    <tr>\n",
              "      <th>25</th>\n",
              "      <td>6</td>\n",
              "      <td>2</td>\n",
              "      <td>0.0833</td>\n",
              "      <td>0.1666</td>\n",
              "      <td>0.3332</td>\n",
              "      <td>0.455</td>\n",
              "      <td>39.273</td>\n",
              "      <td>1.250</td>\n",
              "      <td>0.167</td>\n",
              "      <td>0.500</td>\n",
              "      <td>0.077</td>\n",
              "      <td>0.102</td>\n",
              "    </tr>\n",
              "    <tr>\n",
              "      <th>26</th>\n",
              "      <td>6</td>\n",
              "      <td>5</td>\n",
              "      <td>0.2500</td>\n",
              "      <td>0.5000</td>\n",
              "      <td>1.0000</td>\n",
              "      <td>0.357</td>\n",
              "      <td>30.857</td>\n",
              "      <td>0.714</td>\n",
              "      <td>-0.333</td>\n",
              "      <td>0.385</td>\n",
              "      <td>-0.019</td>\n",
              "      <td>-0.153</td>\n",
              "    </tr>\n",
              "    <tr>\n",
              "      <th>27</th>\n",
              "      <td>6</td>\n",
              "      <td>4</td>\n",
              "      <td>0.0833</td>\n",
              "      <td>0.1666</td>\n",
              "      <td>0.3332</td>\n",
              "      <td>0.333</td>\n",
              "      <td>28.800</td>\n",
              "      <td>0.625</td>\n",
              "      <td>-0.500</td>\n",
              "      <td>0.357</td>\n",
              "      <td>0.005</td>\n",
              "      <td>-0.212</td>\n",
              "    </tr>\n",
              "    <tr>\n",
              "      <th>28</th>\n",
              "      <td>6</td>\n",
              "      <td>3</td>\n",
              "      <td>0.0833</td>\n",
              "      <td>0.1666</td>\n",
              "      <td>0.2856</td>\n",
              "      <td>0.417</td>\n",
              "      <td>39.000</td>\n",
              "      <td>1.167</td>\n",
              "      <td>0.119</td>\n",
              "      <td>0.455</td>\n",
              "      <td>0.046</td>\n",
              "      <td>0.065</td>\n",
              "    </tr>\n",
              "    <tr>\n",
              "      <th>29</th>\n",
              "      <td>6</td>\n",
              "      <td>1</td>\n",
              "      <td>0.0833</td>\n",
              "      <td>0.1666</td>\n",
              "      <td>0.3998</td>\n",
              "      <td>0.455</td>\n",
              "      <td>36.000</td>\n",
              "      <td>1.042</td>\n",
              "      <td>0.033</td>\n",
              "      <td>0.500</td>\n",
              "      <td>0.011</td>\n",
              "      <td>0.020</td>\n",
              "    </tr>\n",
              "    <tr>\n",
              "      <th>30</th>\n",
              "      <td>6 1</td>\n",
              "      <td>2</td>\n",
              "      <td>0.0833</td>\n",
              "      <td>0.9996</td>\n",
              "      <td>1.9992</td>\n",
              "      <td>0.143</td>\n",
              "      <td>2.000</td>\n",
              "      <td>1.500</td>\n",
              "      <td>0.333</td>\n",
              "      <td>0.200</td>\n",
              "      <td>0.048</td>\n",
              "      <td>0.067</td>\n",
              "    </tr>\n",
              "    <tr>\n",
              "      <th>31</th>\n",
              "      <td>6 3</td>\n",
              "      <td>4</td>\n",
              "      <td>0.0833</td>\n",
              "      <td>0.9996</td>\n",
              "      <td>1.9992</td>\n",
              "      <td>0.091</td>\n",
              "      <td>1.273</td>\n",
              "      <td>0.750</td>\n",
              "      <td>-0.333</td>\n",
              "      <td>0.111</td>\n",
              "      <td>-0.019</td>\n",
              "      <td>-0.037</td>\n",
              "    </tr>\n",
              "  </tbody>\n",
              "</table>\n",
              "</div>"
            ],
            "text/plain": [
              "   element sequence  support  confidence  ...    Rss     MS     C1     C2\n",
              "0        1        2   0.1667      0.4001  ...  0.133  0.444  0.054  0.075\n",
              "1        1        5   0.0833      0.1999  ... -0.367  0.333 -0.021 -0.150\n",
              "2        1        4   0.1667      0.4001  ... -0.533  0.308 -0.002 -0.200\n",
              "3        1        3   0.1667      0.4001  ...  0.086  0.400  0.029  0.043\n",
              "4      1 2        4   0.0833      0.4998  ... -0.833  0.100 -0.030 -0.139\n",
              "5      1 3        5   0.0833      0.4998  ... -0.667  0.111 -0.033 -0.125\n",
              "6      1 4        3   0.0833      0.4998  ... -0.214  0.143 -0.028 -0.054\n",
              "7        2        6   0.1667      0.3334  ...  0.000  0.400  0.000  0.000\n",
              "8        2        5   0.1667      0.3334  ... -0.500  0.308  0.026 -0.227\n",
              "9        2        4   0.2500      0.5000  ... -0.667  0.286  0.074 -0.278\n",
              "10       2        3   0.0833      0.1666  ... -0.048  0.364 -0.013 -0.026\n",
              "11     2 3        4   0.0833      0.9996  ... -0.333  0.111 -0.019 -0.037\n",
              "12     2 6        5   0.1667      1.0002  ... -0.667  0.111 -0.033 -0.125\n",
              "13       3        2   0.0833      0.1428  ...  0.048  0.455  0.020  0.032\n",
              "14       3        6   0.0833      0.1428  ...  0.048  0.455  0.020  0.032\n",
              "15       3        5   0.1667      0.2858  ... -0.452  0.357  0.023 -0.226\n",
              "16       3        4   0.2500      0.4286  ... -0.619  0.333  0.078 -0.286\n",
              "17       3        1   0.0833      0.1428  ... -0.086  0.455 -0.022 -0.057\n",
              "18     3 2        4   0.0833      0.9996  ... -0.333  0.111 -0.019 -0.037\n",
              "19     3 5        6   0.0833      0.4998  ... -0.167  0.167 -0.028 -0.050\n",
              "20       4        3   0.1667      0.3334  ... -0.381  0.182  0.085 -0.218\n",
              "21       4        1   0.0833      0.1666  ... -0.467  0.200  0.137 -0.311\n",
              "22     4 3        1   0.0833      0.4998  ... -0.300  0.167 -0.040 -0.090\n",
              "23       5        6   0.1667      0.3334  ... -0.500  0.100  0.411 -0.350\n",
              "24     5 6        5   0.0833      0.4998  ... -0.667  0.111 -0.033 -0.125\n",
              "25       6        2   0.0833      0.1666  ...  0.167  0.500  0.077  0.102\n",
              "26       6        5   0.2500      0.5000  ... -0.333  0.385 -0.019 -0.153\n",
              "27       6        4   0.0833      0.1666  ... -0.500  0.357  0.005 -0.212\n",
              "28       6        3   0.0833      0.1666  ...  0.119  0.455  0.046  0.065\n",
              "29       6        1   0.0833      0.1666  ...  0.033  0.500  0.011  0.020\n",
              "30     6 1        2   0.0833      0.9996  ...  0.333  0.200  0.048  0.067\n",
              "31     6 3        4   0.0833      0.9996  ... -0.333  0.111 -0.019 -0.037\n",
              "\n",
              "[32 rows x 12 columns]"
            ]
          },
          "metadata": {
            "tags": []
          },
          "execution_count": 50
        }
      ]
    },
    {
      "cell_type": "code",
      "metadata": {
        "id": "fobdsOheR00n"
      },
      "source": [
        "final.to_excel(\"/content/drive/MyDrive/new_rules.xlsx\",index = False)"
      ],
      "execution_count": null,
      "outputs": []
    },
    {
      "cell_type": "code",
      "metadata": {
        "id": "LyZBGx4EPqUr"
      },
      "source": [
        "conf_thresh = 0.4; lift_thresh = 1.0\n",
        "filter = pd.DataFrame([final.loc[i] for i in range(len(final)) if final[\"confidence\"][i] >= conf_thresh and final[\"lift\"][i] >= lift_thresh]).reset_index(drop = True)"
      ],
      "execution_count": null,
      "outputs": []
    },
    {
      "cell_type": "code",
      "metadata": {
        "colab": {
          "base_uri": "https://localhost:8080/",
          "height": 288
        },
        "id": "b3BnSiV5iK88",
        "outputId": "ae13bef1-d123-4560-8b47-def9840160cd"
      },
      "source": [
        "filter"
      ],
      "execution_count": null,
      "outputs": [
        {
          "output_type": "execute_result",
          "data": {
            "text/html": [
              "<div>\n",
              "<style scoped>\n",
              "    .dataframe tbody tr th:only-of-type {\n",
              "        vertical-align: middle;\n",
              "    }\n",
              "\n",
              "    .dataframe tbody tr th {\n",
              "        vertical-align: top;\n",
              "    }\n",
              "\n",
              "    .dataframe thead th {\n",
              "        text-align: right;\n",
              "    }\n",
              "</style>\n",
              "<table border=\"1\" class=\"dataframe\">\n",
              "  <thead>\n",
              "    <tr style=\"text-align: right;\">\n",
              "      <th></th>\n",
              "      <th>element</th>\n",
              "      <th>sequence</th>\n",
              "      <th>support</th>\n",
              "      <th>confidence</th>\n",
              "      <th>lift</th>\n",
              "      <th>g</th>\n",
              "      <th>wLap</th>\n",
              "      <th>LS</th>\n",
              "      <th>Rss</th>\n",
              "      <th>MS</th>\n",
              "      <th>C1</th>\n",
              "      <th>C2</th>\n",
              "    </tr>\n",
              "  </thead>\n",
              "  <tbody>\n",
              "    <tr>\n",
              "      <th>0</th>\n",
              "      <td>2</td>\n",
              "      <td>4</td>\n",
              "      <td>0.2500</td>\n",
              "      <td>0.5000</td>\n",
              "      <td>1.0000</td>\n",
              "      <td>0.286</td>\n",
              "      <td>25.714</td>\n",
              "      <td>0.500</td>\n",
              "      <td>-0.667</td>\n",
              "      <td>0.286</td>\n",
              "      <td>0.074</td>\n",
              "      <td>-0.278</td>\n",
              "    </tr>\n",
              "    <tr>\n",
              "      <th>1</th>\n",
              "      <td>2 3</td>\n",
              "      <td>4</td>\n",
              "      <td>0.0833</td>\n",
              "      <td>0.9996</td>\n",
              "      <td>1.9992</td>\n",
              "      <td>0.091</td>\n",
              "      <td>1.273</td>\n",
              "      <td>0.750</td>\n",
              "      <td>-0.333</td>\n",
              "      <td>0.111</td>\n",
              "      <td>-0.019</td>\n",
              "      <td>-0.037</td>\n",
              "    </tr>\n",
              "    <tr>\n",
              "      <th>2</th>\n",
              "      <td>2 6</td>\n",
              "      <td>5</td>\n",
              "      <td>0.1667</td>\n",
              "      <td>1.0002</td>\n",
              "      <td>2.0004</td>\n",
              "      <td>0.100</td>\n",
              "      <td>3.200</td>\n",
              "      <td>0.429</td>\n",
              "      <td>-0.667</td>\n",
              "      <td>0.111</td>\n",
              "      <td>-0.033</td>\n",
              "      <td>-0.125</td>\n",
              "    </tr>\n",
              "    <tr>\n",
              "      <th>3</th>\n",
              "      <td>3 2</td>\n",
              "      <td>4</td>\n",
              "      <td>0.0833</td>\n",
              "      <td>0.9996</td>\n",
              "      <td>1.9992</td>\n",
              "      <td>0.091</td>\n",
              "      <td>1.273</td>\n",
              "      <td>0.750</td>\n",
              "      <td>-0.333</td>\n",
              "      <td>0.111</td>\n",
              "      <td>-0.019</td>\n",
              "      <td>-0.037</td>\n",
              "    </tr>\n",
              "    <tr>\n",
              "      <th>4</th>\n",
              "      <td>4 3</td>\n",
              "      <td>1</td>\n",
              "      <td>0.0833</td>\n",
              "      <td>0.4998</td>\n",
              "      <td>1.1995</td>\n",
              "      <td>0.143</td>\n",
              "      <td>4.000</td>\n",
              "      <td>0.625</td>\n",
              "      <td>-0.300</td>\n",
              "      <td>0.167</td>\n",
              "      <td>-0.040</td>\n",
              "      <td>-0.090</td>\n",
              "    </tr>\n",
              "    <tr>\n",
              "      <th>5</th>\n",
              "      <td>6</td>\n",
              "      <td>5</td>\n",
              "      <td>0.2500</td>\n",
              "      <td>0.5000</td>\n",
              "      <td>1.0000</td>\n",
              "      <td>0.357</td>\n",
              "      <td>30.857</td>\n",
              "      <td>0.714</td>\n",
              "      <td>-0.333</td>\n",
              "      <td>0.385</td>\n",
              "      <td>-0.019</td>\n",
              "      <td>-0.153</td>\n",
              "    </tr>\n",
              "    <tr>\n",
              "      <th>6</th>\n",
              "      <td>6 1</td>\n",
              "      <td>2</td>\n",
              "      <td>0.0833</td>\n",
              "      <td>0.9996</td>\n",
              "      <td>1.9992</td>\n",
              "      <td>0.143</td>\n",
              "      <td>2.000</td>\n",
              "      <td>1.500</td>\n",
              "      <td>0.333</td>\n",
              "      <td>0.200</td>\n",
              "      <td>0.048</td>\n",
              "      <td>0.067</td>\n",
              "    </tr>\n",
              "    <tr>\n",
              "      <th>7</th>\n",
              "      <td>6 3</td>\n",
              "      <td>4</td>\n",
              "      <td>0.0833</td>\n",
              "      <td>0.9996</td>\n",
              "      <td>1.9992</td>\n",
              "      <td>0.091</td>\n",
              "      <td>1.273</td>\n",
              "      <td>0.750</td>\n",
              "      <td>-0.333</td>\n",
              "      <td>0.111</td>\n",
              "      <td>-0.019</td>\n",
              "      <td>-0.037</td>\n",
              "    </tr>\n",
              "  </tbody>\n",
              "</table>\n",
              "</div>"
            ],
            "text/plain": [
              "  element sequence  support  confidence  ...    Rss     MS     C1     C2\n",
              "0       2        4   0.2500      0.5000  ... -0.667  0.286  0.074 -0.278\n",
              "1     2 3        4   0.0833      0.9996  ... -0.333  0.111 -0.019 -0.037\n",
              "2     2 6        5   0.1667      1.0002  ... -0.667  0.111 -0.033 -0.125\n",
              "3     3 2        4   0.0833      0.9996  ... -0.333  0.111 -0.019 -0.037\n",
              "4     4 3        1   0.0833      0.4998  ... -0.300  0.167 -0.040 -0.090\n",
              "5       6        5   0.2500      0.5000  ... -0.333  0.385 -0.019 -0.153\n",
              "6     6 1        2   0.0833      0.9996  ...  0.333  0.200  0.048  0.067\n",
              "7     6 3        4   0.0833      0.9996  ... -0.333  0.111 -0.019 -0.037\n",
              "\n",
              "[8 rows x 12 columns]"
            ]
          },
          "metadata": {
            "tags": []
          },
          "execution_count": 52
        }
      ]
    },
    {
      "cell_type": "code",
      "metadata": {
        "id": "4QZFl7Rl0IBs"
      },
      "source": [
        ""
      ],
      "execution_count": null,
      "outputs": []
    }
  ]
}