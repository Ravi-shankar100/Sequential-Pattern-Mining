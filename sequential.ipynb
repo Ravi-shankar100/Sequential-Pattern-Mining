{
  "nbformat": 4,
  "nbformat_minor": 0,
  "metadata": {
    "colab": {
      "name": "sequential.ipynb",
      "provenance": [],
      "collapsed_sections": [],
      "toc_visible": true
    },
    "kernelspec": {
      "name": "python3",
      "display_name": "Python 3"
    }
  },
  "cells": [
    {
      "cell_type": "code",
      "metadata": {
        "id": "S_NfBZOdlibl"
      },
      "source": [
        "import pandas as pd\n",
        "import numpy as np"
      ],
      "execution_count": null,
      "outputs": []
    },
    {
      "cell_type": "code",
      "metadata": {
        "colab": {
          "base_uri": "https://localhost:8080/"
        },
        "id": "50EU8LFTowcg",
        "outputId": "da9a8104-abce-41a8-aa5f-22dcd7c83c15"
      },
      "source": [
        "from google.colab import drive\n",
        "drive.mount('/content/drive')"
      ],
      "execution_count": null,
      "outputs": [
        {
          "output_type": "stream",
          "text": [
            "Drive already mounted at /content/drive; to attempt to forcibly remount, call drive.mount(\"/content/drive\", force_remount=True).\n"
          ],
          "name": "stdout"
        }
      ]
    },
    {
      "cell_type": "code",
      "metadata": {
        "id": "p2vKek18hYOj"
      },
      "source": [
        "data = pd.read_excel(\"/content/drive/MyDrive/hospital.xlsx\")"
      ],
      "execution_count": null,
      "outputs": []
    },
    {
      "cell_type": "code",
      "metadata": {
        "id": "4w7hdeFIlfxl",
        "colab": {
          "base_uri": "https://localhost:8080/",
          "height": 1000
        },
        "outputId": "74ad41fa-2a8f-4028-bc2e-a0f2abc85546"
      },
      "source": [
        "data"
      ],
      "execution_count": null,
      "outputs": [
        {
          "output_type": "execute_result",
          "data": {
            "text/html": [
              "<div>\n",
              "<style scoped>\n",
              "    .dataframe tbody tr th:only-of-type {\n",
              "        vertical-align: middle;\n",
              "    }\n",
              "\n",
              "    .dataframe tbody tr th {\n",
              "        vertical-align: top;\n",
              "    }\n",
              "\n",
              "    .dataframe thead th {\n",
              "        text-align: right;\n",
              "    }\n",
              "</style>\n",
              "<table border=\"1\" class=\"dataframe\">\n",
              "  <thead>\n",
              "    <tr style=\"text-align: right;\">\n",
              "      <th></th>\n",
              "      <th>FAMILY-ID</th>\n",
              "      <th>id</th>\n",
              "      <th>Start-Date</th>\n",
              "      <th>hospitaltype</th>\n",
              "      <th>T-duration</th>\n",
              "      <th>P-date</th>\n",
              "      <th>Referred</th>\n",
              "      <th>procedure</th>\n",
              "      <th>cost</th>\n",
              "      <th>claim-duration</th>\n",
              "      <th>claim-status</th>\n",
              "      <th>Day</th>\n",
              "      <th>label</th>\n",
              "    </tr>\n",
              "  </thead>\n",
              "  <tbody>\n",
              "    <tr>\n",
              "      <th>0</th>\n",
              "      <td>1</td>\n",
              "      <td>1</td>\n",
              "      <td>2020-01-11</td>\n",
              "      <td>public</td>\n",
              "      <td>7</td>\n",
              "      <td>2020-01-12</td>\n",
              "      <td>NO</td>\n",
              "      <td>2</td>\n",
              "      <td>3000</td>\n",
              "      <td>7</td>\n",
              "      <td>SUCCESS</td>\n",
              "      <td>12</td>\n",
              "      <td>3</td>\n",
              "    </tr>\n",
              "    <tr>\n",
              "      <th>1</th>\n",
              "      <td>1</td>\n",
              "      <td>1</td>\n",
              "      <td>2020-01-11</td>\n",
              "      <td>public</td>\n",
              "      <td>7</td>\n",
              "      <td>2020-01-15</td>\n",
              "      <td>NO</td>\n",
              "      <td>6</td>\n",
              "      <td>4000</td>\n",
              "      <td>7</td>\n",
              "      <td>SUCCESS</td>\n",
              "      <td>15</td>\n",
              "      <td>3</td>\n",
              "    </tr>\n",
              "    <tr>\n",
              "      <th>2</th>\n",
              "      <td>1</td>\n",
              "      <td>1</td>\n",
              "      <td>2020-02-21</td>\n",
              "      <td>public</td>\n",
              "      <td>1</td>\n",
              "      <td>2020-01-22</td>\n",
              "      <td>NaN</td>\n",
              "      <td>5</td>\n",
              "      <td>0</td>\n",
              "      <td>4</td>\n",
              "      <td>PENDING</td>\n",
              "      <td>22</td>\n",
              "      <td>1</td>\n",
              "    </tr>\n",
              "    <tr>\n",
              "      <th>3</th>\n",
              "      <td>1</td>\n",
              "      <td>2</td>\n",
              "      <td>2020-02-24</td>\n",
              "      <td>private</td>\n",
              "      <td>2</td>\n",
              "      <td>2020-02-24</td>\n",
              "      <td>NO</td>\n",
              "      <td>4</td>\n",
              "      <td>6000</td>\n",
              "      <td>10</td>\n",
              "      <td>PENDING</td>\n",
              "      <td>24</td>\n",
              "      <td>2</td>\n",
              "    </tr>\n",
              "    <tr>\n",
              "      <th>4</th>\n",
              "      <td>1</td>\n",
              "      <td>2</td>\n",
              "      <td>2020-02-25</td>\n",
              "      <td>private</td>\n",
              "      <td>2</td>\n",
              "      <td>2020-02-26</td>\n",
              "      <td>NO</td>\n",
              "      <td>3</td>\n",
              "      <td>5000</td>\n",
              "      <td>3</td>\n",
              "      <td>SUCCESS</td>\n",
              "      <td>26</td>\n",
              "      <td>3</td>\n",
              "    </tr>\n",
              "    <tr>\n",
              "      <th>5</th>\n",
              "      <td>1</td>\n",
              "      <td>2</td>\n",
              "      <td>2020-02-28</td>\n",
              "      <td>public</td>\n",
              "      <td>1</td>\n",
              "      <td>2020-02-29</td>\n",
              "      <td>NO</td>\n",
              "      <td>1</td>\n",
              "      <td>3500</td>\n",
              "      <td>2</td>\n",
              "      <td>SUCCESS</td>\n",
              "      <td>29</td>\n",
              "      <td>2</td>\n",
              "    </tr>\n",
              "    <tr>\n",
              "      <th>6</th>\n",
              "      <td>1</td>\n",
              "      <td>3</td>\n",
              "      <td>2020-03-02</td>\n",
              "      <td>private</td>\n",
              "      <td>4</td>\n",
              "      <td>2020-03-03</td>\n",
              "      <td>NO</td>\n",
              "      <td>3</td>\n",
              "      <td>4000</td>\n",
              "      <td>4</td>\n",
              "      <td>PENDING</td>\n",
              "      <td>03</td>\n",
              "      <td>2</td>\n",
              "    </tr>\n",
              "    <tr>\n",
              "      <th>7</th>\n",
              "      <td>1</td>\n",
              "      <td>3</td>\n",
              "      <td>2020-03-04</td>\n",
              "      <td>private</td>\n",
              "      <td>3</td>\n",
              "      <td>2020-03-05</td>\n",
              "      <td>NO</td>\n",
              "      <td>2</td>\n",
              "      <td>3000</td>\n",
              "      <td>2</td>\n",
              "      <td>PENDING</td>\n",
              "      <td>05</td>\n",
              "      <td>2</td>\n",
              "    </tr>\n",
              "    <tr>\n",
              "      <th>8</th>\n",
              "      <td>1</td>\n",
              "      <td>3</td>\n",
              "      <td>2020-03-06</td>\n",
              "      <td>public</td>\n",
              "      <td>2</td>\n",
              "      <td>2020-03-07</td>\n",
              "      <td>NO</td>\n",
              "      <td>4</td>\n",
              "      <td>6000</td>\n",
              "      <td>5</td>\n",
              "      <td>SUCCESS</td>\n",
              "      <td>07</td>\n",
              "      <td>3</td>\n",
              "    </tr>\n",
              "    <tr>\n",
              "      <th>9</th>\n",
              "      <td>2</td>\n",
              "      <td>4</td>\n",
              "      <td>2020-03-08</td>\n",
              "      <td>public</td>\n",
              "      <td>3</td>\n",
              "      <td>2020-03-09</td>\n",
              "      <td>NO</td>\n",
              "      <td>1</td>\n",
              "      <td>6000</td>\n",
              "      <td>5</td>\n",
              "      <td>SUCCESS</td>\n",
              "      <td>09</td>\n",
              "      <td>3</td>\n",
              "    </tr>\n",
              "    <tr>\n",
              "      <th>10</th>\n",
              "      <td>2</td>\n",
              "      <td>4</td>\n",
              "      <td>2020-03-08</td>\n",
              "      <td>private</td>\n",
              "      <td>5</td>\n",
              "      <td>2020-03-09</td>\n",
              "      <td>NO</td>\n",
              "      <td>4</td>\n",
              "      <td>3500</td>\n",
              "      <td>5</td>\n",
              "      <td>SUCCESS</td>\n",
              "      <td>09</td>\n",
              "      <td>3</td>\n",
              "    </tr>\n",
              "    <tr>\n",
              "      <th>11</th>\n",
              "      <td>2</td>\n",
              "      <td>4</td>\n",
              "      <td>2020-03-15</td>\n",
              "      <td>private</td>\n",
              "      <td>1</td>\n",
              "      <td>2020-03-16</td>\n",
              "      <td>NO</td>\n",
              "      <td>3</td>\n",
              "      <td>3000</td>\n",
              "      <td>1</td>\n",
              "      <td>PENDING</td>\n",
              "      <td>16</td>\n",
              "      <td>1</td>\n",
              "    </tr>\n",
              "    <tr>\n",
              "      <th>12</th>\n",
              "      <td>2</td>\n",
              "      <td>5</td>\n",
              "      <td>2020-03-18</td>\n",
              "      <td>private</td>\n",
              "      <td>3</td>\n",
              "      <td>2020-03-17</td>\n",
              "      <td>NO</td>\n",
              "      <td>5</td>\n",
              "      <td>5000</td>\n",
              "      <td>2</td>\n",
              "      <td>PENDING</td>\n",
              "      <td>17</td>\n",
              "      <td>2</td>\n",
              "    </tr>\n",
              "    <tr>\n",
              "      <th>13</th>\n",
              "      <td>2</td>\n",
              "      <td>5</td>\n",
              "      <td>2020-03-22</td>\n",
              "      <td>private</td>\n",
              "      <td>1</td>\n",
              "      <td>2020-03-23</td>\n",
              "      <td>NaN</td>\n",
              "      <td>6</td>\n",
              "      <td>0</td>\n",
              "      <td>3</td>\n",
              "      <td>SUCCESS</td>\n",
              "      <td>23</td>\n",
              "      <td>2</td>\n",
              "    </tr>\n",
              "    <tr>\n",
              "      <th>14</th>\n",
              "      <td>2</td>\n",
              "      <td>5</td>\n",
              "      <td>2020-03-23</td>\n",
              "      <td>private</td>\n",
              "      <td>1</td>\n",
              "      <td>2020-04-24</td>\n",
              "      <td>NaN</td>\n",
              "      <td>5</td>\n",
              "      <td>0</td>\n",
              "      <td>3</td>\n",
              "      <td>PENDING</td>\n",
              "      <td>24</td>\n",
              "      <td>1</td>\n",
              "    </tr>\n",
              "    <tr>\n",
              "      <th>15</th>\n",
              "      <td>3</td>\n",
              "      <td>6</td>\n",
              "      <td>2020-03-25</td>\n",
              "      <td>public</td>\n",
              "      <td>4</td>\n",
              "      <td>2020-03-26</td>\n",
              "      <td>NO</td>\n",
              "      <td>1</td>\n",
              "      <td>5000</td>\n",
              "      <td>6</td>\n",
              "      <td>SUCCESS</td>\n",
              "      <td>26</td>\n",
              "      <td>3</td>\n",
              "    </tr>\n",
              "    <tr>\n",
              "      <th>16</th>\n",
              "      <td>3</td>\n",
              "      <td>6</td>\n",
              "      <td>2020-03-28</td>\n",
              "      <td>private</td>\n",
              "      <td>6</td>\n",
              "      <td>2020-03-29</td>\n",
              "      <td>NO</td>\n",
              "      <td>2</td>\n",
              "      <td>4000</td>\n",
              "      <td>3</td>\n",
              "      <td>PENDING</td>\n",
              "      <td>29</td>\n",
              "      <td>2</td>\n",
              "    </tr>\n",
              "    <tr>\n",
              "      <th>17</th>\n",
              "      <td>3</td>\n",
              "      <td>6</td>\n",
              "      <td>2020-04-04</td>\n",
              "      <td>private</td>\n",
              "      <td>8</td>\n",
              "      <td>2020-04-05</td>\n",
              "      <td>NO</td>\n",
              "      <td>4</td>\n",
              "      <td>3500</td>\n",
              "      <td>2</td>\n",
              "      <td>PENDING</td>\n",
              "      <td>05</td>\n",
              "      <td>2</td>\n",
              "    </tr>\n",
              "    <tr>\n",
              "      <th>18</th>\n",
              "      <td>3</td>\n",
              "      <td>7</td>\n",
              "      <td>2020-04-07</td>\n",
              "      <td>public</td>\n",
              "      <td>1</td>\n",
              "      <td>2020-04-08</td>\n",
              "      <td>NO</td>\n",
              "      <td>6</td>\n",
              "      <td>5000</td>\n",
              "      <td>5</td>\n",
              "      <td>SUCCESS</td>\n",
              "      <td>08</td>\n",
              "      <td>2</td>\n",
              "    </tr>\n",
              "    <tr>\n",
              "      <th>19</th>\n",
              "      <td>3</td>\n",
              "      <td>7</td>\n",
              "      <td>2020-04-12</td>\n",
              "      <td>public</td>\n",
              "      <td>1</td>\n",
              "      <td>2020-04-13</td>\n",
              "      <td>NaN</td>\n",
              "      <td>3</td>\n",
              "      <td>0</td>\n",
              "      <td>6</td>\n",
              "      <td>PENDING</td>\n",
              "      <td>13</td>\n",
              "      <td>1</td>\n",
              "    </tr>\n",
              "    <tr>\n",
              "      <th>20</th>\n",
              "      <td>3</td>\n",
              "      <td>7</td>\n",
              "      <td>2020-04-12</td>\n",
              "      <td>public</td>\n",
              "      <td>7</td>\n",
              "      <td>2020-04-12</td>\n",
              "      <td>NO</td>\n",
              "      <td>4</td>\n",
              "      <td>3000</td>\n",
              "      <td>7</td>\n",
              "      <td>SUCCESS</td>\n",
              "      <td>12</td>\n",
              "      <td>3</td>\n",
              "    </tr>\n",
              "    <tr>\n",
              "      <th>21</th>\n",
              "      <td>3</td>\n",
              "      <td>8</td>\n",
              "      <td>2020-04-25</td>\n",
              "      <td>public</td>\n",
              "      <td>7</td>\n",
              "      <td>2020-04-26</td>\n",
              "      <td>NO</td>\n",
              "      <td>2</td>\n",
              "      <td>4000</td>\n",
              "      <td>7</td>\n",
              "      <td>SUCCESS</td>\n",
              "      <td>26</td>\n",
              "      <td>3</td>\n",
              "    </tr>\n",
              "    <tr>\n",
              "      <th>22</th>\n",
              "      <td>3</td>\n",
              "      <td>8</td>\n",
              "      <td>2020-04-26</td>\n",
              "      <td>public</td>\n",
              "      <td>1</td>\n",
              "      <td>2020-04-27</td>\n",
              "      <td>NaN</td>\n",
              "      <td>3</td>\n",
              "      <td>0</td>\n",
              "      <td>5</td>\n",
              "      <td>SUCCESS</td>\n",
              "      <td>27</td>\n",
              "      <td>2</td>\n",
              "    </tr>\n",
              "    <tr>\n",
              "      <th>23</th>\n",
              "      <td>3</td>\n",
              "      <td>8</td>\n",
              "      <td>2020-04-26</td>\n",
              "      <td>private</td>\n",
              "      <td>2</td>\n",
              "      <td>2020-04-26</td>\n",
              "      <td>NO</td>\n",
              "      <td>4</td>\n",
              "      <td>3500</td>\n",
              "      <td>4</td>\n",
              "      <td>SUCCESS</td>\n",
              "      <td>26</td>\n",
              "      <td>3</td>\n",
              "    </tr>\n",
              "    <tr>\n",
              "      <th>24</th>\n",
              "      <td>4</td>\n",
              "      <td>9</td>\n",
              "      <td>2020-05-01</td>\n",
              "      <td>private</td>\n",
              "      <td>3</td>\n",
              "      <td>2020-05-02</td>\n",
              "      <td>NO</td>\n",
              "      <td>2</td>\n",
              "      <td>5000</td>\n",
              "      <td>5</td>\n",
              "      <td>SUCCESS</td>\n",
              "      <td>02</td>\n",
              "      <td>3</td>\n",
              "    </tr>\n",
              "    <tr>\n",
              "      <th>25</th>\n",
              "      <td>4</td>\n",
              "      <td>9</td>\n",
              "      <td>2020-05-03</td>\n",
              "      <td>public</td>\n",
              "      <td>7</td>\n",
              "      <td>2020-05-04</td>\n",
              "      <td>NO</td>\n",
              "      <td>6</td>\n",
              "      <td>3000</td>\n",
              "      <td>7</td>\n",
              "      <td>SUCCESS</td>\n",
              "      <td>04</td>\n",
              "      <td>3</td>\n",
              "    </tr>\n",
              "    <tr>\n",
              "      <th>26</th>\n",
              "      <td>4</td>\n",
              "      <td>9</td>\n",
              "      <td>2020-05-05</td>\n",
              "      <td>public</td>\n",
              "      <td>7</td>\n",
              "      <td>2020-05-06</td>\n",
              "      <td>NO</td>\n",
              "      <td>5</td>\n",
              "      <td>4000</td>\n",
              "      <td>7</td>\n",
              "      <td>SUCCESS</td>\n",
              "      <td>06</td>\n",
              "      <td>3</td>\n",
              "    </tr>\n",
              "    <tr>\n",
              "      <th>27</th>\n",
              "      <td>4</td>\n",
              "      <td>10</td>\n",
              "      <td>2020-05-15</td>\n",
              "      <td>public</td>\n",
              "      <td>1</td>\n",
              "      <td>2020-05-16</td>\n",
              "      <td>NaN</td>\n",
              "      <td>1</td>\n",
              "      <td>2000</td>\n",
              "      <td>2</td>\n",
              "      <td>SUCCESS</td>\n",
              "      <td>16</td>\n",
              "      <td>2</td>\n",
              "    </tr>\n",
              "    <tr>\n",
              "      <th>28</th>\n",
              "      <td>4</td>\n",
              "      <td>10</td>\n",
              "      <td>2020-05-15</td>\n",
              "      <td>public</td>\n",
              "      <td>2</td>\n",
              "      <td>2020-05-16</td>\n",
              "      <td>NO</td>\n",
              "      <td>3</td>\n",
              "      <td>6000</td>\n",
              "      <td>4</td>\n",
              "      <td>SUCCESS</td>\n",
              "      <td>16</td>\n",
              "      <td>3</td>\n",
              "    </tr>\n",
              "    <tr>\n",
              "      <th>29</th>\n",
              "      <td>4</td>\n",
              "      <td>10</td>\n",
              "      <td>2020-05-17</td>\n",
              "      <td>private</td>\n",
              "      <td>3</td>\n",
              "      <td>2020-05-18</td>\n",
              "      <td>NO</td>\n",
              "      <td>5</td>\n",
              "      <td>5000</td>\n",
              "      <td>3</td>\n",
              "      <td>SUCCESS</td>\n",
              "      <td>18</td>\n",
              "      <td>3</td>\n",
              "    </tr>\n",
              "    <tr>\n",
              "      <th>30</th>\n",
              "      <td>5</td>\n",
              "      <td>11</td>\n",
              "      <td>2020-05-18</td>\n",
              "      <td>private</td>\n",
              "      <td>2</td>\n",
              "      <td>2020-05-19</td>\n",
              "      <td>NO</td>\n",
              "      <td>6</td>\n",
              "      <td>4000</td>\n",
              "      <td>4</td>\n",
              "      <td>PENDING</td>\n",
              "      <td>19</td>\n",
              "      <td>2</td>\n",
              "    </tr>\n",
              "    <tr>\n",
              "      <th>31</th>\n",
              "      <td>5</td>\n",
              "      <td>11</td>\n",
              "      <td>2020-05-19</td>\n",
              "      <td>public</td>\n",
              "      <td>4</td>\n",
              "      <td>2020-05-20</td>\n",
              "      <td>NO</td>\n",
              "      <td>1</td>\n",
              "      <td>3000</td>\n",
              "      <td>2</td>\n",
              "      <td>SUCCESS</td>\n",
              "      <td>20</td>\n",
              "      <td>3</td>\n",
              "    </tr>\n",
              "    <tr>\n",
              "      <th>32</th>\n",
              "      <td>5</td>\n",
              "      <td>11</td>\n",
              "      <td>2020-05-20</td>\n",
              "      <td>public</td>\n",
              "      <td>3</td>\n",
              "      <td>2020-05-21</td>\n",
              "      <td>NO</td>\n",
              "      <td>2</td>\n",
              "      <td>4000</td>\n",
              "      <td>3</td>\n",
              "      <td>SUCCESS</td>\n",
              "      <td>21</td>\n",
              "      <td>3</td>\n",
              "    </tr>\n",
              "    <tr>\n",
              "      <th>33</th>\n",
              "      <td>5</td>\n",
              "      <td>12</td>\n",
              "      <td>2020-05-20</td>\n",
              "      <td>private</td>\n",
              "      <td>6</td>\n",
              "      <td>2020-05-22</td>\n",
              "      <td>NO</td>\n",
              "      <td>3</td>\n",
              "      <td>3000</td>\n",
              "      <td>5</td>\n",
              "      <td>PENDING</td>\n",
              "      <td>22</td>\n",
              "      <td>2</td>\n",
              "    </tr>\n",
              "    <tr>\n",
              "      <th>34</th>\n",
              "      <td>5</td>\n",
              "      <td>12</td>\n",
              "      <td>2020-05-21</td>\n",
              "      <td>public</td>\n",
              "      <td>3</td>\n",
              "      <td>2020-05-23</td>\n",
              "      <td>NO</td>\n",
              "      <td>5</td>\n",
              "      <td>5000</td>\n",
              "      <td>4</td>\n",
              "      <td>SUCCESS</td>\n",
              "      <td>23</td>\n",
              "      <td>3</td>\n",
              "    </tr>\n",
              "    <tr>\n",
              "      <th>35</th>\n",
              "      <td>5</td>\n",
              "      <td>12</td>\n",
              "      <td>2020-05-21</td>\n",
              "      <td>private</td>\n",
              "      <td>1</td>\n",
              "      <td>2020-05-24</td>\n",
              "      <td>NO</td>\n",
              "      <td>6</td>\n",
              "      <td>3000</td>\n",
              "      <td>5</td>\n",
              "      <td>SUCCESS</td>\n",
              "      <td>24</td>\n",
              "      <td>2</td>\n",
              "    </tr>\n",
              "  </tbody>\n",
              "</table>\n",
              "</div>"
            ],
            "text/plain": [
              "    FAMILY-ID  id Start-Date  ... claim-status  Day label\n",
              "0           1   1 2020-01-11  ...      SUCCESS   12     3\n",
              "1           1   1 2020-01-11  ...      SUCCESS   15     3\n",
              "2           1   1 2020-02-21  ...      PENDING   22     1\n",
              "3           1   2 2020-02-24  ...      PENDING   24     2\n",
              "4           1   2 2020-02-25  ...      SUCCESS   26     3\n",
              "5           1   2 2020-02-28  ...      SUCCESS   29     2\n",
              "6           1   3 2020-03-02  ...      PENDING   03     2\n",
              "7           1   3 2020-03-04  ...      PENDING   05     2\n",
              "8           1   3 2020-03-06  ...      SUCCESS   07     3\n",
              "9           2   4 2020-03-08  ...      SUCCESS   09     3\n",
              "10          2   4 2020-03-08  ...      SUCCESS   09     3\n",
              "11          2   4 2020-03-15  ...      PENDING   16     1\n",
              "12          2   5 2020-03-18  ...      PENDING   17     2\n",
              "13          2   5 2020-03-22  ...      SUCCESS   23     2\n",
              "14          2   5 2020-03-23  ...      PENDING   24     1\n",
              "15          3   6 2020-03-25  ...      SUCCESS   26     3\n",
              "16          3   6 2020-03-28  ...      PENDING   29     2\n",
              "17          3   6 2020-04-04  ...      PENDING   05     2\n",
              "18          3   7 2020-04-07  ...      SUCCESS   08     2\n",
              "19          3   7 2020-04-12  ...      PENDING   13     1\n",
              "20          3   7 2020-04-12  ...      SUCCESS   12     3\n",
              "21          3   8 2020-04-25  ...      SUCCESS   26     3\n",
              "22          3   8 2020-04-26  ...      SUCCESS   27     2\n",
              "23          3   8 2020-04-26  ...      SUCCESS   26     3\n",
              "24          4   9 2020-05-01  ...      SUCCESS   02     3\n",
              "25          4   9 2020-05-03  ...      SUCCESS   04     3\n",
              "26          4   9 2020-05-05  ...      SUCCESS   06     3\n",
              "27          4  10 2020-05-15  ...      SUCCESS   16     2\n",
              "28          4  10 2020-05-15  ...      SUCCESS   16     3\n",
              "29          4  10 2020-05-17  ...      SUCCESS   18     3\n",
              "30          5  11 2020-05-18  ...      PENDING   19     2\n",
              "31          5  11 2020-05-19  ...      SUCCESS   20     3\n",
              "32          5  11 2020-05-20  ...      SUCCESS   21     3\n",
              "33          5  12 2020-05-20  ...      PENDING   22     2\n",
              "34          5  12 2020-05-21  ...      SUCCESS   23     3\n",
              "35          5  12 2020-05-21  ...      SUCCESS   24     2\n",
              "\n",
              "[36 rows x 13 columns]"
            ]
          },
          "metadata": {
            "tags": []
          },
          "execution_count": 59
        }
      ]
    },
    {
      "cell_type": "code",
      "metadata": {
        "id": "gsIefTI4JkMz",
        "colab": {
          "base_uri": "https://localhost:8080/"
        },
        "outputId": "f7841075-5bb4-478e-b56d-c234cc01eb3c"
      },
      "source": [
        "print(data.head())\n",
        "data.shape"
      ],
      "execution_count": null,
      "outputs": [
        {
          "output_type": "stream",
          "text": [
            "   FAMILY-ID  User id Start-Date  ...  cost  claim-duration claim-status\n",
            "0          1        1 2020-01-11  ...  3000               7      SUCCESS\n",
            "1          1        1 2020-01-11  ...  4000               7      SUCCESS\n",
            "2          1        1 2020-02-21  ...     0               4      PENDING\n",
            "3          1        2 2020-02-24  ...  6000              10      PENDING\n",
            "4          1        2 2020-02-25  ...  5000               3      SUCCESS\n",
            "\n",
            "[5 rows x 11 columns]\n"
          ],
          "name": "stdout"
        },
        {
          "output_type": "execute_result",
          "data": {
            "text/plain": [
              "(36, 11)"
            ]
          },
          "metadata": {
            "tags": []
          },
          "execution_count": 32
        }
      ]
    },
    {
      "cell_type": "code",
      "metadata": {
        "id": "1jTl_JNvysB7",
        "colab": {
          "base_uri": "https://localhost:8080/",
          "height": 302
        },
        "outputId": "e91155d5-ef91-4880-b813-801ff59ecba1"
      },
      "source": [
        "data.rename(columns = {\"User id\":\"id\"},inplace=True)\n",
        "data.head()"
      ],
      "execution_count": null,
      "outputs": [
        {
          "output_type": "execute_result",
          "data": {
            "text/html": [
              "<div>\n",
              "<style scoped>\n",
              "    .dataframe tbody tr th:only-of-type {\n",
              "        vertical-align: middle;\n",
              "    }\n",
              "\n",
              "    .dataframe tbody tr th {\n",
              "        vertical-align: top;\n",
              "    }\n",
              "\n",
              "    .dataframe thead th {\n",
              "        text-align: right;\n",
              "    }\n",
              "</style>\n",
              "<table border=\"1\" class=\"dataframe\">\n",
              "  <thead>\n",
              "    <tr style=\"text-align: right;\">\n",
              "      <th></th>\n",
              "      <th>FAMILY-ID</th>\n",
              "      <th>id</th>\n",
              "      <th>Start-Date</th>\n",
              "      <th>hospitaltype</th>\n",
              "      <th>T-duration</th>\n",
              "      <th>P-date</th>\n",
              "      <th>Referred</th>\n",
              "      <th>procedure</th>\n",
              "      <th>cost</th>\n",
              "      <th>claim-duration</th>\n",
              "      <th>claim-status</th>\n",
              "    </tr>\n",
              "  </thead>\n",
              "  <tbody>\n",
              "    <tr>\n",
              "      <th>0</th>\n",
              "      <td>1</td>\n",
              "      <td>1</td>\n",
              "      <td>2020-01-11</td>\n",
              "      <td>public</td>\n",
              "      <td>7</td>\n",
              "      <td>2020-01-12</td>\n",
              "      <td>NO</td>\n",
              "      <td>2</td>\n",
              "      <td>3000</td>\n",
              "      <td>7</td>\n",
              "      <td>SUCCESS</td>\n",
              "    </tr>\n",
              "    <tr>\n",
              "      <th>1</th>\n",
              "      <td>1</td>\n",
              "      <td>1</td>\n",
              "      <td>2020-01-11</td>\n",
              "      <td>public</td>\n",
              "      <td>7</td>\n",
              "      <td>2020-01-15</td>\n",
              "      <td>NO</td>\n",
              "      <td>6</td>\n",
              "      <td>4000</td>\n",
              "      <td>7</td>\n",
              "      <td>SUCCESS</td>\n",
              "    </tr>\n",
              "    <tr>\n",
              "      <th>2</th>\n",
              "      <td>1</td>\n",
              "      <td>1</td>\n",
              "      <td>2020-02-21</td>\n",
              "      <td>public</td>\n",
              "      <td>1</td>\n",
              "      <td>2020-01-22</td>\n",
              "      <td>NaN</td>\n",
              "      <td>5</td>\n",
              "      <td>0</td>\n",
              "      <td>4</td>\n",
              "      <td>PENDING</td>\n",
              "    </tr>\n",
              "    <tr>\n",
              "      <th>3</th>\n",
              "      <td>1</td>\n",
              "      <td>2</td>\n",
              "      <td>2020-02-24</td>\n",
              "      <td>private</td>\n",
              "      <td>2</td>\n",
              "      <td>2020-02-24</td>\n",
              "      <td>NO</td>\n",
              "      <td>4</td>\n",
              "      <td>6000</td>\n",
              "      <td>10</td>\n",
              "      <td>PENDING</td>\n",
              "    </tr>\n",
              "    <tr>\n",
              "      <th>4</th>\n",
              "      <td>1</td>\n",
              "      <td>2</td>\n",
              "      <td>2020-02-25</td>\n",
              "      <td>private</td>\n",
              "      <td>2</td>\n",
              "      <td>2020-02-26</td>\n",
              "      <td>NO</td>\n",
              "      <td>3</td>\n",
              "      <td>5000</td>\n",
              "      <td>3</td>\n",
              "      <td>SUCCESS</td>\n",
              "    </tr>\n",
              "  </tbody>\n",
              "</table>\n",
              "</div>"
            ],
            "text/plain": [
              "   FAMILY-ID  id Start-Date  ...  cost  claim-duration claim-status\n",
              "0          1   1 2020-01-11  ...  3000               7      SUCCESS\n",
              "1          1   1 2020-01-11  ...  4000               7      SUCCESS\n",
              "2          1   1 2020-02-21  ...     0               4      PENDING\n",
              "3          1   2 2020-02-24  ...  6000              10      PENDING\n",
              "4          1   2 2020-02-25  ...  5000               3      SUCCESS\n",
              "\n",
              "[5 rows x 11 columns]"
            ]
          },
          "metadata": {
            "tags": []
          },
          "execution_count": 33
        }
      ]
    },
    {
      "cell_type": "code",
      "metadata": {
        "id": "bO1tNMeCYRC5"
      },
      "source": [
        "import numpy as np\n",
        "data[\"procedure\"] = data[\"procedure\"].astype(\"str\")"
      ],
      "execution_count": null,
      "outputs": []
    },
    {
      "cell_type": "code",
      "metadata": {
        "id": "R0ZOoPa3ZtsH",
        "colab": {
          "base_uri": "https://localhost:8080/"
        },
        "outputId": "4c4eb94e-778b-401f-e43f-d7bdc35e67a1"
      },
      "source": [
        "output = pd.DataFrame(columns=[\"id\",\"procedure\"])\n",
        "for i,j in data.groupby([\"id\",\"Start-Date\"]):\n",
        "  col1 = j.iloc[0][\"id\"]\n",
        "  col2 = j[\"procedure\"].str.cat(sep = \",\")\n",
        "  output = output.append({\"id\":col1,\"procedure\":col2},ignore_index = True)\n",
        "print(output.head())"
      ],
      "execution_count": null,
      "outputs": [
        {
          "output_type": "stream",
          "text": [
            "  id procedure\n",
            "0  1       2,6\n",
            "1  1         5\n",
            "2  2         4\n",
            "3  2         3\n",
            "4  2         1\n"
          ],
          "name": "stdout"
        }
      ]
    },
    {
      "cell_type": "code",
      "metadata": {
        "colab": {
          "base_uri": "https://localhost:8080/"
        },
        "id": "iNq_TfFvPdTJ",
        "outputId": "f107618e-a934-4208-b21b-ab667b5e8751"
      },
      "source": [
        "output[\"procedure\"].head()"
      ],
      "execution_count": null,
      "outputs": [
        {
          "output_type": "execute_result",
          "data": {
            "text/plain": [
              "0    2,6\n",
              "1      5\n",
              "2      4\n",
              "3      3\n",
              "4      1\n",
              "Name: procedure, dtype: object"
            ]
          },
          "metadata": {
            "tags": []
          },
          "execution_count": 40
        }
      ]
    },
    {
      "cell_type": "code",
      "metadata": {
        "id": "kC4o77K5ivPE",
        "colab": {
          "base_uri": "https://localhost:8080/",
          "height": 198
        },
        "outputId": "c3566e5b-33b3-4662-a00a-da8e6e930f90"
      },
      "source": [
        "output.head()"
      ],
      "execution_count": null,
      "outputs": [
        {
          "output_type": "execute_result",
          "data": {
            "text/html": [
              "<div>\n",
              "<style scoped>\n",
              "    .dataframe tbody tr th:only-of-type {\n",
              "        vertical-align: middle;\n",
              "    }\n",
              "\n",
              "    .dataframe tbody tr th {\n",
              "        vertical-align: top;\n",
              "    }\n",
              "\n",
              "    .dataframe thead th {\n",
              "        text-align: right;\n",
              "    }\n",
              "</style>\n",
              "<table border=\"1\" class=\"dataframe\">\n",
              "  <thead>\n",
              "    <tr style=\"text-align: right;\">\n",
              "      <th></th>\n",
              "      <th>id</th>\n",
              "      <th>procedure</th>\n",
              "    </tr>\n",
              "  </thead>\n",
              "  <tbody>\n",
              "    <tr>\n",
              "      <th>0</th>\n",
              "      <td>1</td>\n",
              "      <td>2,6</td>\n",
              "    </tr>\n",
              "    <tr>\n",
              "      <th>1</th>\n",
              "      <td>1</td>\n",
              "      <td>5</td>\n",
              "    </tr>\n",
              "    <tr>\n",
              "      <th>2</th>\n",
              "      <td>2</td>\n",
              "      <td>4</td>\n",
              "    </tr>\n",
              "    <tr>\n",
              "      <th>3</th>\n",
              "      <td>2</td>\n",
              "      <td>3</td>\n",
              "    </tr>\n",
              "    <tr>\n",
              "      <th>4</th>\n",
              "      <td>2</td>\n",
              "      <td>1</td>\n",
              "    </tr>\n",
              "  </tbody>\n",
              "</table>\n",
              "</div>"
            ],
            "text/plain": [
              "  id procedure\n",
              "0  1       2,6\n",
              "1  1         5\n",
              "2  2         4\n",
              "3  2         3\n",
              "4  2         1"
            ]
          },
          "metadata": {
            "tags": []
          },
          "execution_count": 41
        }
      ]
    },
    {
      "cell_type": "code",
      "metadata": {
        "id": "FfJRsCi0wZTS"
      },
      "source": [
        "data[\"P-date\"] = data[\"P-date\"].astype(\"str\")\n",
        "data[\"Day\"] = data[\"P-date\"].str.split(\"-\").str[2]\n",
        "data[\"Day\"] = data[\"Day\"].replace(np.nan,0)"
      ],
      "execution_count": null,
      "outputs": []
    },
    {
      "cell_type": "code",
      "metadata": {
        "id": "_JK8xahgdSq6"
      },
      "source": [
        "def value(a,b,c):\n",
        "  sum= 0\n",
        "  if(a > 1):\n",
        "    sum += 1\n",
        "\n",
        "  if(b == \"SUCCESS\"):\n",
        "    sum += 1\n",
        "  \n",
        "  if(int(c) > 0):\n",
        "    sum += 1\n",
        "\n",
        "  return(sum)"
      ],
      "execution_count": null,
      "outputs": []
    },
    {
      "cell_type": "code",
      "metadata": {
        "id": "W089ZNUqn3ve"
      },
      "source": [
        "label = []\n",
        "for index, row in data.iterrows():\n",
        " label.append(value(row[\"T-duration\"],row[\"claim-status\"],row[\"Day\"]))"
      ],
      "execution_count": null,
      "outputs": []
    },
    {
      "cell_type": "code",
      "metadata": {
        "id": "CQ3I9lPnatsO"
      },
      "source": [
        "data[\"label\"] = label"
      ],
      "execution_count": null,
      "outputs": []
    },
    {
      "cell_type": "code",
      "metadata": {
        "id": "SVeFf3LCbK8p",
        "colab": {
          "base_uri": "https://localhost:8080/",
          "height": 302
        },
        "outputId": "c13f3a5c-add3-486b-a308-2c71864297eb"
      },
      "source": [
        "data.head()"
      ],
      "execution_count": null,
      "outputs": [
        {
          "output_type": "execute_result",
          "data": {
            "text/html": [
              "<div>\n",
              "<style scoped>\n",
              "    .dataframe tbody tr th:only-of-type {\n",
              "        vertical-align: middle;\n",
              "    }\n",
              "\n",
              "    .dataframe tbody tr th {\n",
              "        vertical-align: top;\n",
              "    }\n",
              "\n",
              "    .dataframe thead th {\n",
              "        text-align: right;\n",
              "    }\n",
              "</style>\n",
              "<table border=\"1\" class=\"dataframe\">\n",
              "  <thead>\n",
              "    <tr style=\"text-align: right;\">\n",
              "      <th></th>\n",
              "      <th>FAMILY-ID</th>\n",
              "      <th>id</th>\n",
              "      <th>Start-Date</th>\n",
              "      <th>hospitaltype</th>\n",
              "      <th>T-duration</th>\n",
              "      <th>P-date</th>\n",
              "      <th>Referred</th>\n",
              "      <th>procedure</th>\n",
              "      <th>cost</th>\n",
              "      <th>claim-duration</th>\n",
              "      <th>claim-status</th>\n",
              "      <th>Day</th>\n",
              "      <th>label</th>\n",
              "    </tr>\n",
              "  </thead>\n",
              "  <tbody>\n",
              "    <tr>\n",
              "      <th>0</th>\n",
              "      <td>1</td>\n",
              "      <td>1</td>\n",
              "      <td>2020-01-11</td>\n",
              "      <td>public</td>\n",
              "      <td>7</td>\n",
              "      <td>2020-01-12</td>\n",
              "      <td>NO</td>\n",
              "      <td>2</td>\n",
              "      <td>3000</td>\n",
              "      <td>7</td>\n",
              "      <td>SUCCESS</td>\n",
              "      <td>12</td>\n",
              "      <td>3</td>\n",
              "    </tr>\n",
              "    <tr>\n",
              "      <th>1</th>\n",
              "      <td>1</td>\n",
              "      <td>1</td>\n",
              "      <td>2020-01-11</td>\n",
              "      <td>public</td>\n",
              "      <td>7</td>\n",
              "      <td>2020-01-15</td>\n",
              "      <td>NO</td>\n",
              "      <td>6</td>\n",
              "      <td>4000</td>\n",
              "      <td>7</td>\n",
              "      <td>SUCCESS</td>\n",
              "      <td>15</td>\n",
              "      <td>3</td>\n",
              "    </tr>\n",
              "    <tr>\n",
              "      <th>2</th>\n",
              "      <td>1</td>\n",
              "      <td>1</td>\n",
              "      <td>2020-02-21</td>\n",
              "      <td>public</td>\n",
              "      <td>1</td>\n",
              "      <td>2020-01-22</td>\n",
              "      <td>NaN</td>\n",
              "      <td>5</td>\n",
              "      <td>0</td>\n",
              "      <td>4</td>\n",
              "      <td>PENDING</td>\n",
              "      <td>22</td>\n",
              "      <td>1</td>\n",
              "    </tr>\n",
              "    <tr>\n",
              "      <th>3</th>\n",
              "      <td>1</td>\n",
              "      <td>2</td>\n",
              "      <td>2020-02-24</td>\n",
              "      <td>private</td>\n",
              "      <td>2</td>\n",
              "      <td>2020-02-24</td>\n",
              "      <td>NO</td>\n",
              "      <td>4</td>\n",
              "      <td>6000</td>\n",
              "      <td>10</td>\n",
              "      <td>PENDING</td>\n",
              "      <td>24</td>\n",
              "      <td>2</td>\n",
              "    </tr>\n",
              "    <tr>\n",
              "      <th>4</th>\n",
              "      <td>1</td>\n",
              "      <td>2</td>\n",
              "      <td>2020-02-25</td>\n",
              "      <td>private</td>\n",
              "      <td>2</td>\n",
              "      <td>2020-02-26</td>\n",
              "      <td>NO</td>\n",
              "      <td>3</td>\n",
              "      <td>5000</td>\n",
              "      <td>3</td>\n",
              "      <td>SUCCESS</td>\n",
              "      <td>26</td>\n",
              "      <td>3</td>\n",
              "    </tr>\n",
              "  </tbody>\n",
              "</table>\n",
              "</div>"
            ],
            "text/plain": [
              "   FAMILY-ID  id Start-Date  ... claim-status  Day label\n",
              "0          1   1 2020-01-11  ...      SUCCESS   12     3\n",
              "1          1   1 2020-01-11  ...      SUCCESS   15     3\n",
              "2          1   1 2020-02-21  ...      PENDING   22     1\n",
              "3          1   2 2020-02-24  ...      PENDING   24     2\n",
              "4          1   2 2020-02-25  ...      SUCCESS   26     3\n",
              "\n",
              "[5 rows x 13 columns]"
            ]
          },
          "metadata": {
            "tags": []
          },
          "execution_count": 46
        }
      ]
    },
    {
      "cell_type": "code",
      "metadata": {
        "id": "xtKan49jMtTl",
        "colab": {
          "base_uri": "https://localhost:8080/"
        },
        "outputId": "0b089eb9-746f-492d-9051-e80507aebff3"
      },
      "source": [
        "data.shape"
      ],
      "execution_count": null,
      "outputs": [
        {
          "output_type": "execute_result",
          "data": {
            "text/plain": [
              "(36, 13)"
            ]
          },
          "metadata": {
            "tags": []
          },
          "execution_count": 47
        }
      ]
    },
    {
      "cell_type": "code",
      "metadata": {
        "id": "GeoGVxM4eQiJ"
      },
      "source": [
        "means = []\n",
        "for x,y in data.groupby([\"id\",\"Start-Date\"]):\n",
        "  means.append(y[\"label\"].mean())"
      ],
      "execution_count": null,
      "outputs": []
    },
    {
      "cell_type": "code",
      "metadata": {
        "id": "OB7VmwB_z96e"
      },
      "source": [
        "means"
      ],
      "execution_count": null,
      "outputs": []
    },
    {
      "cell_type": "code",
      "metadata": {
        "id": "EoHIdmDy0S76"
      },
      "source": [
        "output[\"mean\"] = means"
      ],
      "execution_count": null,
      "outputs": []
    },
    {
      "cell_type": "code",
      "metadata": {
        "id": "1uePV14y0fBt",
        "colab": {
          "base_uri": "https://localhost:8080/",
          "height": 198
        },
        "outputId": "4a6bffe9-f288-4fc1-89dc-ef790b02598a"
      },
      "source": [
        "output.head()"
      ],
      "execution_count": null,
      "outputs": [
        {
          "output_type": "execute_result",
          "data": {
            "text/html": [
              "<div>\n",
              "<style scoped>\n",
              "    .dataframe tbody tr th:only-of-type {\n",
              "        vertical-align: middle;\n",
              "    }\n",
              "\n",
              "    .dataframe tbody tr th {\n",
              "        vertical-align: top;\n",
              "    }\n",
              "\n",
              "    .dataframe thead th {\n",
              "        text-align: right;\n",
              "    }\n",
              "</style>\n",
              "<table border=\"1\" class=\"dataframe\">\n",
              "  <thead>\n",
              "    <tr style=\"text-align: right;\">\n",
              "      <th></th>\n",
              "      <th>id</th>\n",
              "      <th>procedure</th>\n",
              "      <th>mean</th>\n",
              "    </tr>\n",
              "  </thead>\n",
              "  <tbody>\n",
              "    <tr>\n",
              "      <th>0</th>\n",
              "      <td>1</td>\n",
              "      <td>2,6</td>\n",
              "      <td>3.0</td>\n",
              "    </tr>\n",
              "    <tr>\n",
              "      <th>1</th>\n",
              "      <td>1</td>\n",
              "      <td>5</td>\n",
              "      <td>1.0</td>\n",
              "    </tr>\n",
              "    <tr>\n",
              "      <th>2</th>\n",
              "      <td>2</td>\n",
              "      <td>4</td>\n",
              "      <td>2.0</td>\n",
              "    </tr>\n",
              "    <tr>\n",
              "      <th>3</th>\n",
              "      <td>2</td>\n",
              "      <td>3</td>\n",
              "      <td>3.0</td>\n",
              "    </tr>\n",
              "    <tr>\n",
              "      <th>4</th>\n",
              "      <td>2</td>\n",
              "      <td>1</td>\n",
              "      <td>2.0</td>\n",
              "    </tr>\n",
              "  </tbody>\n",
              "</table>\n",
              "</div>"
            ],
            "text/plain": [
              "  id procedure  mean\n",
              "0  1       2,6   3.0\n",
              "1  1         5   1.0\n",
              "2  2         4   2.0\n",
              "3  2         3   3.0\n",
              "4  2         1   2.0"
            ]
          },
          "metadata": {
            "tags": []
          },
          "execution_count": 53
        }
      ]
    },
    {
      "cell_type": "code",
      "metadata": {
        "id": "GPqqr2gJ4I-u"
      },
      "source": [
        "def status(x):\n",
        "  if(x >= 2):\n",
        "    return(\"Satisfied\")\n",
        "  return (\"Unsatisfied\")"
      ],
      "execution_count": null,
      "outputs": []
    },
    {
      "cell_type": "code",
      "metadata": {
        "id": "--l-wV7g3JRk"
      },
      "source": [
        "output[\"claim\"] = output[\"mean\"].map(lambda x : status(x))"
      ],
      "execution_count": null,
      "outputs": []
    },
    {
      "cell_type": "code",
      "metadata": {
        "id": "JqAtO74v4Vf-",
        "colab": {
          "base_uri": "https://localhost:8080/",
          "height": 948
        },
        "outputId": "2273bcea-ef87-4be2-e508-4ecda80f3bd2"
      },
      "source": [
        "output = output.drop(\"mean\",axis = 1)\n",
        "output"
      ],
      "execution_count": null,
      "outputs": [
        {
          "output_type": "execute_result",
          "data": {
            "text/html": [
              "<div>\n",
              "<style scoped>\n",
              "    .dataframe tbody tr th:only-of-type {\n",
              "        vertical-align: middle;\n",
              "    }\n",
              "\n",
              "    .dataframe tbody tr th {\n",
              "        vertical-align: top;\n",
              "    }\n",
              "\n",
              "    .dataframe thead th {\n",
              "        text-align: right;\n",
              "    }\n",
              "</style>\n",
              "<table border=\"1\" class=\"dataframe\">\n",
              "  <thead>\n",
              "    <tr style=\"text-align: right;\">\n",
              "      <th></th>\n",
              "      <th>id</th>\n",
              "      <th>procedure</th>\n",
              "      <th>claim</th>\n",
              "    </tr>\n",
              "  </thead>\n",
              "  <tbody>\n",
              "    <tr>\n",
              "      <th>0</th>\n",
              "      <td>1</td>\n",
              "      <td>2,6</td>\n",
              "      <td>Satisfied</td>\n",
              "    </tr>\n",
              "    <tr>\n",
              "      <th>1</th>\n",
              "      <td>1</td>\n",
              "      <td>5</td>\n",
              "      <td>Unsatisfied</td>\n",
              "    </tr>\n",
              "    <tr>\n",
              "      <th>2</th>\n",
              "      <td>2</td>\n",
              "      <td>4</td>\n",
              "      <td>Satisfied</td>\n",
              "    </tr>\n",
              "    <tr>\n",
              "      <th>3</th>\n",
              "      <td>2</td>\n",
              "      <td>3</td>\n",
              "      <td>Satisfied</td>\n",
              "    </tr>\n",
              "    <tr>\n",
              "      <th>4</th>\n",
              "      <td>2</td>\n",
              "      <td>1</td>\n",
              "      <td>Satisfied</td>\n",
              "    </tr>\n",
              "    <tr>\n",
              "      <th>5</th>\n",
              "      <td>3</td>\n",
              "      <td>3</td>\n",
              "      <td>Satisfied</td>\n",
              "    </tr>\n",
              "    <tr>\n",
              "      <th>6</th>\n",
              "      <td>3</td>\n",
              "      <td>2</td>\n",
              "      <td>Satisfied</td>\n",
              "    </tr>\n",
              "    <tr>\n",
              "      <th>7</th>\n",
              "      <td>3</td>\n",
              "      <td>4</td>\n",
              "      <td>Satisfied</td>\n",
              "    </tr>\n",
              "    <tr>\n",
              "      <th>8</th>\n",
              "      <td>4</td>\n",
              "      <td>1,4</td>\n",
              "      <td>Satisfied</td>\n",
              "    </tr>\n",
              "    <tr>\n",
              "      <th>9</th>\n",
              "      <td>4</td>\n",
              "      <td>3</td>\n",
              "      <td>Unsatisfied</td>\n",
              "    </tr>\n",
              "    <tr>\n",
              "      <th>10</th>\n",
              "      <td>5</td>\n",
              "      <td>5</td>\n",
              "      <td>Satisfied</td>\n",
              "    </tr>\n",
              "    <tr>\n",
              "      <th>11</th>\n",
              "      <td>5</td>\n",
              "      <td>6</td>\n",
              "      <td>Satisfied</td>\n",
              "    </tr>\n",
              "    <tr>\n",
              "      <th>12</th>\n",
              "      <td>5</td>\n",
              "      <td>5</td>\n",
              "      <td>Unsatisfied</td>\n",
              "    </tr>\n",
              "    <tr>\n",
              "      <th>13</th>\n",
              "      <td>6</td>\n",
              "      <td>1</td>\n",
              "      <td>Satisfied</td>\n",
              "    </tr>\n",
              "    <tr>\n",
              "      <th>14</th>\n",
              "      <td>6</td>\n",
              "      <td>2</td>\n",
              "      <td>Satisfied</td>\n",
              "    </tr>\n",
              "    <tr>\n",
              "      <th>15</th>\n",
              "      <td>6</td>\n",
              "      <td>4</td>\n",
              "      <td>Satisfied</td>\n",
              "    </tr>\n",
              "    <tr>\n",
              "      <th>16</th>\n",
              "      <td>7</td>\n",
              "      <td>6</td>\n",
              "      <td>Satisfied</td>\n",
              "    </tr>\n",
              "    <tr>\n",
              "      <th>17</th>\n",
              "      <td>7</td>\n",
              "      <td>3,4</td>\n",
              "      <td>Satisfied</td>\n",
              "    </tr>\n",
              "    <tr>\n",
              "      <th>18</th>\n",
              "      <td>8</td>\n",
              "      <td>2</td>\n",
              "      <td>Satisfied</td>\n",
              "    </tr>\n",
              "    <tr>\n",
              "      <th>19</th>\n",
              "      <td>8</td>\n",
              "      <td>3,4</td>\n",
              "      <td>Satisfied</td>\n",
              "    </tr>\n",
              "    <tr>\n",
              "      <th>20</th>\n",
              "      <td>9</td>\n",
              "      <td>2</td>\n",
              "      <td>Satisfied</td>\n",
              "    </tr>\n",
              "    <tr>\n",
              "      <th>21</th>\n",
              "      <td>9</td>\n",
              "      <td>6</td>\n",
              "      <td>Satisfied</td>\n",
              "    </tr>\n",
              "    <tr>\n",
              "      <th>22</th>\n",
              "      <td>9</td>\n",
              "      <td>5</td>\n",
              "      <td>Satisfied</td>\n",
              "    </tr>\n",
              "    <tr>\n",
              "      <th>23</th>\n",
              "      <td>10</td>\n",
              "      <td>1,3</td>\n",
              "      <td>Satisfied</td>\n",
              "    </tr>\n",
              "    <tr>\n",
              "      <th>24</th>\n",
              "      <td>10</td>\n",
              "      <td>5</td>\n",
              "      <td>Satisfied</td>\n",
              "    </tr>\n",
              "    <tr>\n",
              "      <th>25</th>\n",
              "      <td>11</td>\n",
              "      <td>6</td>\n",
              "      <td>Satisfied</td>\n",
              "    </tr>\n",
              "    <tr>\n",
              "      <th>26</th>\n",
              "      <td>11</td>\n",
              "      <td>1</td>\n",
              "      <td>Satisfied</td>\n",
              "    </tr>\n",
              "    <tr>\n",
              "      <th>27</th>\n",
              "      <td>11</td>\n",
              "      <td>2</td>\n",
              "      <td>Satisfied</td>\n",
              "    </tr>\n",
              "    <tr>\n",
              "      <th>28</th>\n",
              "      <td>12</td>\n",
              "      <td>3</td>\n",
              "      <td>Satisfied</td>\n",
              "    </tr>\n",
              "    <tr>\n",
              "      <th>29</th>\n",
              "      <td>12</td>\n",
              "      <td>5,6</td>\n",
              "      <td>Satisfied</td>\n",
              "    </tr>\n",
              "  </tbody>\n",
              "</table>\n",
              "</div>"
            ],
            "text/plain": [
              "    id procedure        claim\n",
              "0    1       2,6    Satisfied\n",
              "1    1         5  Unsatisfied\n",
              "2    2         4    Satisfied\n",
              "3    2         3    Satisfied\n",
              "4    2         1    Satisfied\n",
              "5    3         3    Satisfied\n",
              "6    3         2    Satisfied\n",
              "7    3         4    Satisfied\n",
              "8    4       1,4    Satisfied\n",
              "9    4         3  Unsatisfied\n",
              "10   5         5    Satisfied\n",
              "11   5         6    Satisfied\n",
              "12   5         5  Unsatisfied\n",
              "13   6         1    Satisfied\n",
              "14   6         2    Satisfied\n",
              "15   6         4    Satisfied\n",
              "16   7         6    Satisfied\n",
              "17   7       3,4    Satisfied\n",
              "18   8         2    Satisfied\n",
              "19   8       3,4    Satisfied\n",
              "20   9         2    Satisfied\n",
              "21   9         6    Satisfied\n",
              "22   9         5    Satisfied\n",
              "23  10       1,3    Satisfied\n",
              "24  10         5    Satisfied\n",
              "25  11         6    Satisfied\n",
              "26  11         1    Satisfied\n",
              "27  11         2    Satisfied\n",
              "28  12         3    Satisfied\n",
              "29  12       5,6    Satisfied"
            ]
          },
          "metadata": {
            "tags": []
          },
          "execution_count": 56
        }
      ]
    },
    {
      "cell_type": "code",
      "metadata": {
        "id": "w7o_RO401hCB"
      },
      "source": [
        "output.to_excel(\"/content/drive/MyDrive/initial_output.xlsx\",index = False)"
      ],
      "execution_count": null,
      "outputs": []
    },
    {
      "cell_type": "code",
      "metadata": {
        "id": "pT-yo61eKsPk"
      },
      "source": [
        "output = output.drop([\"claim\"],axis = 1)"
      ],
      "execution_count": null,
      "outputs": []
    },
    {
      "cell_type": "code",
      "metadata": {
        "id": "jSEVeIQ0NEIu",
        "colab": {
          "base_uri": "https://localhost:8080/"
        },
        "outputId": "9c8b2a5c-9e79-43c4-94b9-be95027b6087"
      },
      "source": [
        "unique_val = data[\"procedure\"].unique()\n",
        "len(unique_val)"
      ],
      "execution_count": null,
      "outputs": [
        {
          "output_type": "execute_result",
          "data": {
            "text/plain": [
              "6"
            ]
          },
          "metadata": {
            "tags": []
          },
          "execution_count": 106
        }
      ]
    },
    {
      "cell_type": "markdown",
      "metadata": {
        "id": "uo6Q3MccLmQH"
      },
      "source": [
        "##Task 1"
      ]
    },
    {
      "cell_type": "code",
      "metadata": {
        "id": "2_rf93-XNVmS"
      },
      "source": [
        "def convert(x):\n",
        "  return x.split(\",\")"
      ],
      "execution_count": null,
      "outputs": []
    },
    {
      "cell_type": "code",
      "metadata": {
        "id": "h5rrsbN9p9-O"
      },
      "source": [
        "output[\"procedure\"] = output[\"procedure\"].map(lambda x : convert(x))"
      ],
      "execution_count": null,
      "outputs": []
    },
    {
      "cell_type": "code",
      "metadata": {
        "colab": {
          "base_uri": "https://localhost:8080/",
          "height": 198
        },
        "id": "XAnbdMgIqHgL",
        "outputId": "12440a0e-113f-4ba9-b781-c3050780758f"
      },
      "source": [
        "output.head()"
      ],
      "execution_count": null,
      "outputs": [
        {
          "output_type": "execute_result",
          "data": {
            "text/html": [
              "<div>\n",
              "<style scoped>\n",
              "    .dataframe tbody tr th:only-of-type {\n",
              "        vertical-align: middle;\n",
              "    }\n",
              "\n",
              "    .dataframe tbody tr th {\n",
              "        vertical-align: top;\n",
              "    }\n",
              "\n",
              "    .dataframe thead th {\n",
              "        text-align: right;\n",
              "    }\n",
              "</style>\n",
              "<table border=\"1\" class=\"dataframe\">\n",
              "  <thead>\n",
              "    <tr style=\"text-align: right;\">\n",
              "      <th></th>\n",
              "      <th>id</th>\n",
              "      <th>procedure</th>\n",
              "    </tr>\n",
              "  </thead>\n",
              "  <tbody>\n",
              "    <tr>\n",
              "      <th>0</th>\n",
              "      <td>1</td>\n",
              "      <td>[P1, P3]</td>\n",
              "    </tr>\n",
              "    <tr>\n",
              "      <th>1</th>\n",
              "      <td>1</td>\n",
              "      <td>[P6]</td>\n",
              "    </tr>\n",
              "    <tr>\n",
              "      <th>2</th>\n",
              "      <td>2</td>\n",
              "      <td>[P5]</td>\n",
              "    </tr>\n",
              "    <tr>\n",
              "      <th>3</th>\n",
              "      <td>2</td>\n",
              "      <td>[P4]</td>\n",
              "    </tr>\n",
              "    <tr>\n",
              "      <th>4</th>\n",
              "      <td>2</td>\n",
              "      <td>[P2]</td>\n",
              "    </tr>\n",
              "  </tbody>\n",
              "</table>\n",
              "</div>"
            ],
            "text/plain": [
              "  id procedure\n",
              "0  1  [P1, P3]\n",
              "1  1      [P6]\n",
              "2  2      [P5]\n",
              "3  2      [P4]\n",
              "4  2      [P2]"
            ]
          },
          "metadata": {
            "tags": []
          },
          "execution_count": 216
        }
      ]
    },
    {
      "cell_type": "markdown",
      "metadata": {
        "id": "8sKT_JLNLhjs"
      },
      "source": [
        "##Task 2"
      ]
    },
    {
      "cell_type": "code",
      "metadata": {
        "id": "1HMisf2HK2Du"
      },
      "source": [
        "output1 = output.groupby(\"id\")[\"procedure\"].apply(tuple).reset_index()"
      ],
      "execution_count": null,
      "outputs": []
    },
    {
      "cell_type": "code",
      "metadata": {
        "colab": {
          "base_uri": "https://localhost:8080/",
          "height": 348
        },
        "id": "P97rCcYEiLIO",
        "outputId": "2736f345-4e68-463d-d009-53d68f5fab8d"
      },
      "source": [
        "output1"
      ],
      "execution_count": null,
      "outputs": [
        {
          "output_type": "execute_result",
          "data": {
            "text/html": [
              "<div>\n",
              "<style scoped>\n",
              "    .dataframe tbody tr th:only-of-type {\n",
              "        vertical-align: middle;\n",
              "    }\n",
              "\n",
              "    .dataframe tbody tr th {\n",
              "        vertical-align: top;\n",
              "    }\n",
              "\n",
              "    .dataframe thead th {\n",
              "        text-align: right;\n",
              "    }\n",
              "</style>\n",
              "<table border=\"1\" class=\"dataframe\">\n",
              "  <thead>\n",
              "    <tr style=\"text-align: right;\">\n",
              "      <th></th>\n",
              "      <th>id</th>\n",
              "      <th>procedure</th>\n",
              "    </tr>\n",
              "  </thead>\n",
              "  <tbody>\n",
              "    <tr>\n",
              "      <th>0</th>\n",
              "      <td>1</td>\n",
              "      <td>([P1, P3], [P6])</td>\n",
              "    </tr>\n",
              "    <tr>\n",
              "      <th>1</th>\n",
              "      <td>2</td>\n",
              "      <td>([P5], [P4], [P2])</td>\n",
              "    </tr>\n",
              "    <tr>\n",
              "      <th>2</th>\n",
              "      <td>3</td>\n",
              "      <td>([P3], [P1], [P5])</td>\n",
              "    </tr>\n",
              "    <tr>\n",
              "      <th>3</th>\n",
              "      <td>4</td>\n",
              "      <td>([P5, P2], [P1])</td>\n",
              "    </tr>\n",
              "    <tr>\n",
              "      <th>4</th>\n",
              "      <td>5</td>\n",
              "      <td>([P4], [P6], [P3])</td>\n",
              "    </tr>\n",
              "    <tr>\n",
              "      <th>5</th>\n",
              "      <td>6</td>\n",
              "      <td>([P4], [P3], [P2])</td>\n",
              "    </tr>\n",
              "    <tr>\n",
              "      <th>6</th>\n",
              "      <td>7</td>\n",
              "      <td>([P4], [P6, P1])</td>\n",
              "    </tr>\n",
              "    <tr>\n",
              "      <th>7</th>\n",
              "      <td>8</td>\n",
              "      <td>([P3], [P6, P2])</td>\n",
              "    </tr>\n",
              "    <tr>\n",
              "      <th>8</th>\n",
              "      <td>9</td>\n",
              "      <td>([P4], [P2], [P1])</td>\n",
              "    </tr>\n",
              "    <tr>\n",
              "      <th>9</th>\n",
              "      <td>10</td>\n",
              "      <td>([P6, P5], [P4])</td>\n",
              "    </tr>\n",
              "  </tbody>\n",
              "</table>\n",
              "</div>"
            ],
            "text/plain": [
              "   id           procedure\n",
              "0   1    ([P1, P3], [P6])\n",
              "1   2  ([P5], [P4], [P2])\n",
              "2   3  ([P3], [P1], [P5])\n",
              "3   4    ([P5, P2], [P1])\n",
              "4   5  ([P4], [P6], [P3])\n",
              "5   6  ([P4], [P3], [P2])\n",
              "6   7    ([P4], [P6, P1])\n",
              "7   8    ([P3], [P6, P2])\n",
              "8   9  ([P4], [P2], [P1])\n",
              "9  10    ([P6, P5], [P4])"
            ]
          },
          "metadata": {
            "tags": []
          },
          "execution_count": 215
        }
      ]
    },
    {
      "cell_type": "code",
      "metadata": {
        "id": "1n6UG2NPl_ny"
      },
      "source": [
        "for key,value in output1.iterrows():\n",
        "  print(value[\"procedure\"])"
      ],
      "execution_count": null,
      "outputs": []
    },
    {
      "cell_type": "code",
      "metadata": {
        "id": "w6tM1GtJHB6g"
      },
      "source": [
        "#Original Data\n",
        "data = pd.DataFrame(output[\"procedure\"])\n",
        "patients = len(data)"
      ],
      "execution_count": null,
      "outputs": []
    },
    {
      "cell_type": "code",
      "metadata": {
        "colab": {
          "base_uri": "https://localhost:8080/",
          "height": 198
        },
        "id": "FrLnw3nrIPDG",
        "outputId": "e294db5e-de5c-444f-8c34-aa5e60474634"
      },
      "source": [
        "output.head()"
      ],
      "execution_count": null,
      "outputs": [
        {
          "output_type": "execute_result",
          "data": {
            "text/html": [
              "<div>\n",
              "<style scoped>\n",
              "    .dataframe tbody tr th:only-of-type {\n",
              "        vertical-align: middle;\n",
              "    }\n",
              "\n",
              "    .dataframe tbody tr th {\n",
              "        vertical-align: top;\n",
              "    }\n",
              "\n",
              "    .dataframe thead th {\n",
              "        text-align: right;\n",
              "    }\n",
              "</style>\n",
              "<table border=\"1\" class=\"dataframe\">\n",
              "  <thead>\n",
              "    <tr style=\"text-align: right;\">\n",
              "      <th></th>\n",
              "      <th>id</th>\n",
              "      <th>procedure</th>\n",
              "    </tr>\n",
              "  </thead>\n",
              "  <tbody>\n",
              "    <tr>\n",
              "      <th>0</th>\n",
              "      <td>1</td>\n",
              "      <td>[P1, P3]</td>\n",
              "    </tr>\n",
              "    <tr>\n",
              "      <th>1</th>\n",
              "      <td>1</td>\n",
              "      <td>[P6]</td>\n",
              "    </tr>\n",
              "    <tr>\n",
              "      <th>2</th>\n",
              "      <td>2</td>\n",
              "      <td>[P5]</td>\n",
              "    </tr>\n",
              "    <tr>\n",
              "      <th>3</th>\n",
              "      <td>2</td>\n",
              "      <td>[P4]</td>\n",
              "    </tr>\n",
              "    <tr>\n",
              "      <th>4</th>\n",
              "      <td>2</td>\n",
              "      <td>[P2]</td>\n",
              "    </tr>\n",
              "  </tbody>\n",
              "</table>\n",
              "</div>"
            ],
            "text/plain": [
              "  id procedure\n",
              "0  1  [P1, P3]\n",
              "1  1      [P6]\n",
              "2  2      [P5]\n",
              "3  2      [P4]\n",
              "4  2      [P2]"
            ]
          },
          "metadata": {
            "tags": []
          },
          "execution_count": 184
        }
      ]
    },
    {
      "cell_type": "code",
      "metadata": {
        "colab": {
          "base_uri": "https://localhost:8080/"
        },
        "id": "G_ACnppYFsnK",
        "outputId": "c19e9e64-192e-41ea-ef72-8c2334f41568"
      },
      "source": [
        "s = output[\"procedure\"][0]\n",
        "s"
      ],
      "execution_count": null,
      "outputs": [
        {
          "output_type": "execute_result",
          "data": {
            "text/plain": [
              "['P1', 'P3']"
            ]
          },
          "metadata": {
            "tags": []
          },
          "execution_count": 225
        }
      ]
    },
    {
      "cell_type": "markdown",
      "metadata": {
        "id": "Rl6FhELarT8v"
      },
      "source": [
        "##Task 3"
      ]
    },
    {
      "cell_type": "code",
      "metadata": {
        "id": "ZkmTiBgBCWK1"
      },
      "source": [
        "#Sequence Generation\n",
        "final = []\n",
        "count = 0\n",
        "for p in range(patients):              #Rows\n",
        "  s = (data[\"procedure\"][p])\n",
        "  s = tuple(s.split(\",\"))\n",
        "  for i in range(1,4):                  #Procedures          \n",
        "    for t in range(len(s)-i+1):         #Columns\n",
        "      final.append((s[t:t+i]))\n",
        "      print(p,i,t)"
      ],
      "execution_count": null,
      "outputs": []
    },
    {
      "cell_type": "code",
      "metadata": {
        "id": "osvzwYN7Ccqd"
      },
      "source": [
        "df = pd.DataFrame({'key': final,\n",
        "                   'data': 1}, columns=['key', 'data'])"
      ],
      "execution_count": null,
      "outputs": []
    },
    {
      "cell_type": "code",
      "metadata": {
        "id": "vPbrlcjH-DIZ"
      },
      "source": [
        "data_count = df.groupby(\"key\").sum().reset_index()"
      ],
      "execution_count": null,
      "outputs": []
    },
    {
      "cell_type": "code",
      "metadata": {
        "colab": {
          "base_uri": "https://localhost:8080/",
          "height": 228
        },
        "id": "MfAA6KzcTn59",
        "outputId": "770c5f3d-cedc-4e41-cc32-b54a68c8881c"
      },
      "source": [
        "data_count"
      ],
      "execution_count": null,
      "outputs": [
        {
          "output_type": "execute_result",
          "data": {
            "text/html": [
              "<div>\n",
              "<style scoped>\n",
              "    .dataframe tbody tr th:only-of-type {\n",
              "        vertical-align: middle;\n",
              "    }\n",
              "\n",
              "    .dataframe tbody tr th {\n",
              "        vertical-align: top;\n",
              "    }\n",
              "\n",
              "    .dataframe thead th {\n",
              "        text-align: right;\n",
              "    }\n",
              "</style>\n",
              "<table border=\"1\" class=\"dataframe\">\n",
              "  <thead>\n",
              "    <tr style=\"text-align: right;\">\n",
              "      <th></th>\n",
              "      <th>key</th>\n",
              "      <th>data</th>\n",
              "    </tr>\n",
              "  </thead>\n",
              "  <tbody>\n",
              "    <tr>\n",
              "      <th>0</th>\n",
              "      <td>(P1,)</td>\n",
              "      <td>4</td>\n",
              "    </tr>\n",
              "    <tr>\n",
              "      <th>1</th>\n",
              "      <td>(P2,)</td>\n",
              "      <td>4</td>\n",
              "    </tr>\n",
              "    <tr>\n",
              "      <th>2</th>\n",
              "      <td>(P3,)</td>\n",
              "      <td>5</td>\n",
              "    </tr>\n",
              "    <tr>\n",
              "      <th>3</th>\n",
              "      <td>(P4,)</td>\n",
              "      <td>5</td>\n",
              "    </tr>\n",
              "    <tr>\n",
              "      <th>4</th>\n",
              "      <td>(P5,)</td>\n",
              "      <td>3</td>\n",
              "    </tr>\n",
              "    <tr>\n",
              "      <th>5</th>\n",
              "      <td>(P6,)</td>\n",
              "      <td>4</td>\n",
              "    </tr>\n",
              "  </tbody>\n",
              "</table>\n",
              "</div>"
            ],
            "text/plain": [
              "     key  data\n",
              "0  (P1,)     4\n",
              "1  (P2,)     4\n",
              "2  (P3,)     5\n",
              "3  (P4,)     5\n",
              "4  (P5,)     3\n",
              "5  (P6,)     4"
            ]
          },
          "metadata": {
            "tags": []
          },
          "execution_count": 172
        }
      ]
    },
    {
      "cell_type": "code",
      "metadata": {
        "id": "_AJCgwEUOe2z"
      },
      "source": [
        "#Removing the rows with sequence length more than 3\n",
        "def filter(a):\n",
        "  if len(a) > 3:\n",
        "    return 1\n",
        "  return 0"
      ],
      "execution_count": null,
      "outputs": []
    },
    {
      "cell_type": "code",
      "metadata": {
        "id": "30g8qfE9O0F8"
      },
      "source": [
        "data_count[\"new_data\"] = data_count[\"key\"].apply(filter)"
      ],
      "execution_count": null,
      "outputs": []
    },
    {
      "cell_type": "code",
      "metadata": {
        "id": "hqzZWHBuwpNP"
      },
      "source": [
        "\n",
        "data_count = data_count.set_index(\"new_data\")\n",
        "#data_count = data_count.drop(1,axis = 0)"
      ],
      "execution_count": null,
      "outputs": []
    },
    {
      "cell_type": "code",
      "metadata": {
        "id": "ci3TnQMZS1-k"
      },
      "source": [
        "data_count = data_count.reset_index()"
      ],
      "execution_count": null,
      "outputs": []
    },
    {
      "cell_type": "code",
      "metadata": {
        "id": "A7_RHCIaWhGZ"
      },
      "source": [
        "data_count = data_count.drop([\"new_data\"],axis = 1)"
      ],
      "execution_count": null,
      "outputs": []
    },
    {
      "cell_type": "code",
      "metadata": {
        "id": "TYdeSIXq1m-X",
        "colab": {
          "base_uri": "https://localhost:8080/",
          "height": 378
        },
        "outputId": "aa28e436-8bce-46b6-e044-b7d5fd458828"
      },
      "source": [
        "data_count"
      ],
      "execution_count": null,
      "outputs": [
        {
          "output_type": "execute_result",
          "data": {
            "text/html": [
              "<div>\n",
              "<style scoped>\n",
              "    .dataframe tbody tr th:only-of-type {\n",
              "        vertical-align: middle;\n",
              "    }\n",
              "\n",
              "    .dataframe tbody tr th {\n",
              "        vertical-align: top;\n",
              "    }\n",
              "\n",
              "    .dataframe thead th {\n",
              "        text-align: right;\n",
              "    }\n",
              "</style>\n",
              "<table border=\"1\" class=\"dataframe\">\n",
              "  <thead>\n",
              "    <tr style=\"text-align: right;\">\n",
              "      <th></th>\n",
              "      <th>key</th>\n",
              "      <th>data</th>\n",
              "    </tr>\n",
              "  </thead>\n",
              "  <tbody>\n",
              "    <tr>\n",
              "      <th>0</th>\n",
              "      <td>(P1,)</td>\n",
              "      <td>5</td>\n",
              "    </tr>\n",
              "    <tr>\n",
              "      <th>1</th>\n",
              "      <td>(P1, P3)</td>\n",
              "      <td>1</td>\n",
              "    </tr>\n",
              "    <tr>\n",
              "      <th>2</th>\n",
              "      <td>(P2,)</td>\n",
              "      <td>5</td>\n",
              "    </tr>\n",
              "    <tr>\n",
              "      <th>3</th>\n",
              "      <td>(P3,)</td>\n",
              "      <td>5</td>\n",
              "    </tr>\n",
              "    <tr>\n",
              "      <th>4</th>\n",
              "      <td>(P4,)</td>\n",
              "      <td>6</td>\n",
              "    </tr>\n",
              "    <tr>\n",
              "      <th>5</th>\n",
              "      <td>(P5,)</td>\n",
              "      <td>4</td>\n",
              "    </tr>\n",
              "    <tr>\n",
              "      <th>6</th>\n",
              "      <td>(P5, P2)</td>\n",
              "      <td>1</td>\n",
              "    </tr>\n",
              "    <tr>\n",
              "      <th>7</th>\n",
              "      <td>(P6,)</td>\n",
              "      <td>5</td>\n",
              "    </tr>\n",
              "    <tr>\n",
              "      <th>8</th>\n",
              "      <td>(P6, P1)</td>\n",
              "      <td>1</td>\n",
              "    </tr>\n",
              "    <tr>\n",
              "      <th>9</th>\n",
              "      <td>(P6, P2)</td>\n",
              "      <td>1</td>\n",
              "    </tr>\n",
              "    <tr>\n",
              "      <th>10</th>\n",
              "      <td>(P6, P5)</td>\n",
              "      <td>1</td>\n",
              "    </tr>\n",
              "  </tbody>\n",
              "</table>\n",
              "</div>"
            ],
            "text/plain": [
              "         key  data\n",
              "0      (P1,)     5\n",
              "1   (P1, P3)     1\n",
              "2      (P2,)     5\n",
              "3      (P3,)     5\n",
              "4      (P4,)     6\n",
              "5      (P5,)     4\n",
              "6   (P5, P2)     1\n",
              "7      (P6,)     5\n",
              "8   (P6, P1)     1\n",
              "9   (P6, P2)     1\n",
              "10  (P6, P5)     1"
            ]
          },
          "metadata": {
            "tags": []
          },
          "execution_count": 43
        }
      ]
    },
    {
      "cell_type": "code",
      "metadata": {
        "colab": {
          "base_uri": "https://localhost:8080/"
        },
        "id": "vMPMTfaN7MA2",
        "outputId": "56e2d10e-37bc-4fdd-c7cd-5a49bbb9cd66"
      },
      "source": [
        "unique_val"
      ],
      "execution_count": null,
      "outputs": [
        {
          "output_type": "execute_result",
          "data": {
            "text/plain": [
              "array(['P1', 'P3', 'P6', 'P5', 'P4', 'P2'], dtype=object)"
            ]
          },
          "metadata": {
            "tags": []
          },
          "execution_count": 44
        }
      ]
    },
    {
      "cell_type": "code",
      "metadata": {
        "id": "sxL3QSFXjClb"
      },
      "source": [
        "#Generating and adding the repeated sequences\n",
        "repeat = []\n",
        "for i in unique_val:\n",
        "  for j in range(1,7):\n",
        "    c = i.split() * j\n",
        "    repeat.append(c)"
      ],
      "execution_count": null,
      "outputs": []
    },
    {
      "cell_type": "code",
      "metadata": {
        "id": "UvvMDTtWCO-Z"
      },
      "source": [
        "added = []\n",
        "count = 0\n",
        "for i in range(len(repeat)):\n",
        "  count = 0\n",
        "  for j in (data_count[\"key\"]):\n",
        "    if tuple(repeat[i]) != j:\n",
        "      count += 1\n",
        "  if (count == len(data_count) and len(tuple(repeat[i])) <= 3):   \n",
        "    added.append(tuple(repeat[i]))"
      ],
      "execution_count": null,
      "outputs": []
    },
    {
      "cell_type": "code",
      "metadata": {
        "id": "rIqPfAx4KFhy"
      },
      "source": [
        "len(added)\n",
        "j = 0\n",
        "counts = []\n",
        "for i in range(len(added)):\n",
        "  counts.append(j)"
      ],
      "execution_count": null,
      "outputs": []
    },
    {
      "cell_type": "code",
      "metadata": {
        "id": "MzAd1FBPOXSX"
      },
      "source": [
        "added\n",
        "\n",
        "new = pd.DataFrame({\n",
        "    \"key\" : added,\n",
        "    \"data\" : counts\n",
        "})"
      ],
      "execution_count": null,
      "outputs": []
    },
    {
      "cell_type": "code",
      "metadata": {
        "id": "sE5cOW6HFrXi",
        "colab": {
          "base_uri": "https://localhost:8080/",
          "height": 738
        },
        "outputId": "6cf0fd49-79bb-4bb9-e4ce-1962c397bbbb"
      },
      "source": [
        "data_count1 = data_count.append(new,ignore_index=True)\n",
        "data_count1"
      ],
      "execution_count": null,
      "outputs": [
        {
          "output_type": "execute_result",
          "data": {
            "text/html": [
              "<div>\n",
              "<style scoped>\n",
              "    .dataframe tbody tr th:only-of-type {\n",
              "        vertical-align: middle;\n",
              "    }\n",
              "\n",
              "    .dataframe tbody tr th {\n",
              "        vertical-align: top;\n",
              "    }\n",
              "\n",
              "    .dataframe thead th {\n",
              "        text-align: right;\n",
              "    }\n",
              "</style>\n",
              "<table border=\"1\" class=\"dataframe\">\n",
              "  <thead>\n",
              "    <tr style=\"text-align: right;\">\n",
              "      <th></th>\n",
              "      <th>key</th>\n",
              "      <th>data</th>\n",
              "    </tr>\n",
              "  </thead>\n",
              "  <tbody>\n",
              "    <tr>\n",
              "      <th>0</th>\n",
              "      <td>(P1,)</td>\n",
              "      <td>5</td>\n",
              "    </tr>\n",
              "    <tr>\n",
              "      <th>1</th>\n",
              "      <td>(P1, P3)</td>\n",
              "      <td>1</td>\n",
              "    </tr>\n",
              "    <tr>\n",
              "      <th>2</th>\n",
              "      <td>(P2,)</td>\n",
              "      <td>5</td>\n",
              "    </tr>\n",
              "    <tr>\n",
              "      <th>3</th>\n",
              "      <td>(P3,)</td>\n",
              "      <td>5</td>\n",
              "    </tr>\n",
              "    <tr>\n",
              "      <th>4</th>\n",
              "      <td>(P4,)</td>\n",
              "      <td>6</td>\n",
              "    </tr>\n",
              "    <tr>\n",
              "      <th>5</th>\n",
              "      <td>(P5,)</td>\n",
              "      <td>4</td>\n",
              "    </tr>\n",
              "    <tr>\n",
              "      <th>6</th>\n",
              "      <td>(P5, P2)</td>\n",
              "      <td>1</td>\n",
              "    </tr>\n",
              "    <tr>\n",
              "      <th>7</th>\n",
              "      <td>(P6,)</td>\n",
              "      <td>5</td>\n",
              "    </tr>\n",
              "    <tr>\n",
              "      <th>8</th>\n",
              "      <td>(P6, P1)</td>\n",
              "      <td>1</td>\n",
              "    </tr>\n",
              "    <tr>\n",
              "      <th>9</th>\n",
              "      <td>(P6, P2)</td>\n",
              "      <td>1</td>\n",
              "    </tr>\n",
              "    <tr>\n",
              "      <th>10</th>\n",
              "      <td>(P6, P5)</td>\n",
              "      <td>1</td>\n",
              "    </tr>\n",
              "    <tr>\n",
              "      <th>11</th>\n",
              "      <td>(P1, P1)</td>\n",
              "      <td>0</td>\n",
              "    </tr>\n",
              "    <tr>\n",
              "      <th>12</th>\n",
              "      <td>(P1, P1, P1)</td>\n",
              "      <td>0</td>\n",
              "    </tr>\n",
              "    <tr>\n",
              "      <th>13</th>\n",
              "      <td>(P3, P3)</td>\n",
              "      <td>0</td>\n",
              "    </tr>\n",
              "    <tr>\n",
              "      <th>14</th>\n",
              "      <td>(P3, P3, P3)</td>\n",
              "      <td>0</td>\n",
              "    </tr>\n",
              "    <tr>\n",
              "      <th>15</th>\n",
              "      <td>(P6, P6)</td>\n",
              "      <td>0</td>\n",
              "    </tr>\n",
              "    <tr>\n",
              "      <th>16</th>\n",
              "      <td>(P6, P6, P6)</td>\n",
              "      <td>0</td>\n",
              "    </tr>\n",
              "    <tr>\n",
              "      <th>17</th>\n",
              "      <td>(P5, P5)</td>\n",
              "      <td>0</td>\n",
              "    </tr>\n",
              "    <tr>\n",
              "      <th>18</th>\n",
              "      <td>(P5, P5, P5)</td>\n",
              "      <td>0</td>\n",
              "    </tr>\n",
              "    <tr>\n",
              "      <th>19</th>\n",
              "      <td>(P4, P4)</td>\n",
              "      <td>0</td>\n",
              "    </tr>\n",
              "    <tr>\n",
              "      <th>20</th>\n",
              "      <td>(P4, P4, P4)</td>\n",
              "      <td>0</td>\n",
              "    </tr>\n",
              "    <tr>\n",
              "      <th>21</th>\n",
              "      <td>(P2, P2)</td>\n",
              "      <td>0</td>\n",
              "    </tr>\n",
              "    <tr>\n",
              "      <th>22</th>\n",
              "      <td>(P2, P2, P2)</td>\n",
              "      <td>0</td>\n",
              "    </tr>\n",
              "  </tbody>\n",
              "</table>\n",
              "</div>"
            ],
            "text/plain": [
              "             key  data\n",
              "0          (P1,)     5\n",
              "1       (P1, P3)     1\n",
              "2          (P2,)     5\n",
              "3          (P3,)     5\n",
              "4          (P4,)     6\n",
              "5          (P5,)     4\n",
              "6       (P5, P2)     1\n",
              "7          (P6,)     5\n",
              "8       (P6, P1)     1\n",
              "9       (P6, P2)     1\n",
              "10      (P6, P5)     1\n",
              "11      (P1, P1)     0\n",
              "12  (P1, P1, P1)     0\n",
              "13      (P3, P3)     0\n",
              "14  (P3, P3, P3)     0\n",
              "15      (P6, P6)     0\n",
              "16  (P6, P6, P6)     0\n",
              "17      (P5, P5)     0\n",
              "18  (P5, P5, P5)     0\n",
              "19      (P4, P4)     0\n",
              "20  (P4, P4, P4)     0\n",
              "21      (P2, P2)     0\n",
              "22  (P2, P2, P2)     0"
            ]
          },
          "metadata": {
            "tags": []
          },
          "execution_count": 49
        }
      ]
    },
    {
      "cell_type": "code",
      "metadata": {
        "colab": {
          "base_uri": "https://localhost:8080/",
          "height": 378
        },
        "id": "A5vvdgdfdl30",
        "outputId": "2b698c94-af63-4474-db35-aaf9678e111c"
      },
      "source": [
        "data_count"
      ],
      "execution_count": null,
      "outputs": [
        {
          "output_type": "execute_result",
          "data": {
            "text/html": [
              "<div>\n",
              "<style scoped>\n",
              "    .dataframe tbody tr th:only-of-type {\n",
              "        vertical-align: middle;\n",
              "    }\n",
              "\n",
              "    .dataframe tbody tr th {\n",
              "        vertical-align: top;\n",
              "    }\n",
              "\n",
              "    .dataframe thead th {\n",
              "        text-align: right;\n",
              "    }\n",
              "</style>\n",
              "<table border=\"1\" class=\"dataframe\">\n",
              "  <thead>\n",
              "    <tr style=\"text-align: right;\">\n",
              "      <th></th>\n",
              "      <th>key</th>\n",
              "      <th>data</th>\n",
              "    </tr>\n",
              "  </thead>\n",
              "  <tbody>\n",
              "    <tr>\n",
              "      <th>0</th>\n",
              "      <td>(P1,)</td>\n",
              "      <td>5</td>\n",
              "    </tr>\n",
              "    <tr>\n",
              "      <th>1</th>\n",
              "      <td>(P1, P3)</td>\n",
              "      <td>1</td>\n",
              "    </tr>\n",
              "    <tr>\n",
              "      <th>2</th>\n",
              "      <td>(P2,)</td>\n",
              "      <td>5</td>\n",
              "    </tr>\n",
              "    <tr>\n",
              "      <th>3</th>\n",
              "      <td>(P3,)</td>\n",
              "      <td>5</td>\n",
              "    </tr>\n",
              "    <tr>\n",
              "      <th>4</th>\n",
              "      <td>(P4,)</td>\n",
              "      <td>6</td>\n",
              "    </tr>\n",
              "    <tr>\n",
              "      <th>5</th>\n",
              "      <td>(P5,)</td>\n",
              "      <td>4</td>\n",
              "    </tr>\n",
              "    <tr>\n",
              "      <th>6</th>\n",
              "      <td>(P5, P2)</td>\n",
              "      <td>1</td>\n",
              "    </tr>\n",
              "    <tr>\n",
              "      <th>7</th>\n",
              "      <td>(P6,)</td>\n",
              "      <td>5</td>\n",
              "    </tr>\n",
              "    <tr>\n",
              "      <th>8</th>\n",
              "      <td>(P6, P1)</td>\n",
              "      <td>1</td>\n",
              "    </tr>\n",
              "    <tr>\n",
              "      <th>9</th>\n",
              "      <td>(P6, P2)</td>\n",
              "      <td>1</td>\n",
              "    </tr>\n",
              "    <tr>\n",
              "      <th>10</th>\n",
              "      <td>(P6, P5)</td>\n",
              "      <td>1</td>\n",
              "    </tr>\n",
              "  </tbody>\n",
              "</table>\n",
              "</div>"
            ],
            "text/plain": [
              "         key  data\n",
              "0      (P1,)     5\n",
              "1   (P1, P3)     1\n",
              "2      (P2,)     5\n",
              "3      (P3,)     5\n",
              "4      (P4,)     6\n",
              "5      (P5,)     4\n",
              "6   (P5, P2)     1\n",
              "7      (P6,)     5\n",
              "8   (P6, P1)     1\n",
              "9   (P6, P2)     1\n",
              "10  (P6, P5)     1"
            ]
          },
          "metadata": {
            "tags": []
          },
          "execution_count": 50
        }
      ]
    },
    {
      "cell_type": "code",
      "metadata": {
        "colab": {
          "base_uri": "https://localhost:8080/"
        },
        "id": "f6ROtNf1XHpW",
        "outputId": "3decd353-d299-4ea9-903f-6b2a16c47fd7"
      },
      "source": [
        "#Calculating the support for all the sequences\n",
        "support = []\n",
        "element = []\n",
        "sequence = []\n",
        "n = len(data_count)\n",
        "\n",
        "for i in range(0,n):\n",
        "  a = str(data_count[\"key\"][i]).replace(\"(\",\"\").replace(\")\",\"\").replace(\"'\",\"\").replace(\",\",\"\")\n",
        "  for j in range(0,n):\n",
        "    b = str(data_count[\"key\"][j]).replace(\"(\",\"\").replace(\")\",\"\").replace(\"'\",\"\").replace(\",\",\"\")\n",
        "    if a in b:\n",
        "      if b[b.index(a)+len(a): ] != \"\":\n",
        "          element.append(a)\n",
        "          sequence.append(b[b.index(a)+len(a)+1: ])\n",
        "          d = data_count[\"data\"][j]/n\n",
        "          support.append(round(d,2))\n",
        "print(sequence)"
      ],
      "execution_count": null,
      "outputs": [
        {
          "output_type": "stream",
          "text": [
            "['P3', 'P2', 'P1', 'P2', 'P5']\n"
          ],
          "name": "stdout"
        }
      ]
    },
    {
      "cell_type": "code",
      "metadata": {
        "colab": {
          "base_uri": "https://localhost:8080/"
        },
        "id": "RBb-9FCX-G47",
        "outputId": "da81124e-c925-4374-8bdd-2285fc120c24"
      },
      "source": [
        "a = str(data_count[\"key\"][0]).replace(\"(\",\"\").replace(\")\",\"\").replace(\"'\",\"\").replace(\",\",\"\")\n",
        "b = str(data_count[\"key\"][1]).replace(\"(\",\"\").replace(\")\",\"\").replace(\"'\",\"\").replace(\",\",\"\")\n",
        "\n",
        "print(a)\n",
        "print(b)\n",
        "if b[b.index(a)+len(a): ] != \"\":\n",
        "  print(\"Yes\")\n",
        "  print(b[b.index(a)+len(a)+1: ])"
      ],
      "execution_count": null,
      "outputs": [
        {
          "output_type": "stream",
          "text": [
            "P1\n",
            "P1 P3\n",
            "Yes\n",
            "P3\n"
          ],
          "name": "stdout"
        }
      ]
    },
    {
      "cell_type": "code",
      "metadata": {
        "id": "5ixJyAR_mcvU"
      },
      "source": [
        "#Calculation for element count\n",
        "element_count = []\n",
        "for i in range(len(element)):\n",
        "  a = element[i]\n",
        "  for j in range(0,n):\n",
        "    b = str(data_count[\"key\"][j]).replace(\"(\",\"\").replace(\")\",\"\").replace(\"'\",\"\").replace(\",\",\"\")\n",
        "    if a == b:\n",
        "      element_count.append(data_count[\"data\"][j])"
      ],
      "execution_count": null,
      "outputs": []
    },
    {
      "cell_type": "code",
      "metadata": {
        "id": "T5ofxn7oXOKL"
      },
      "source": [
        "#Calculating the confidence for all the sequences\n",
        "confidence = []\n",
        "n = len(data_count)\n",
        "\n",
        "for i in range(len(sequence)):\n",
        "  a = sequence[i]\n",
        "  for j in range(0,n):\n",
        "    b = str(data_count[\"key\"][j]).replace(\"(\",\"\").replace(\")\",\"\").replace(\"'\",\"\").replace(\",\",\"\")\n",
        "    if a == b:\n",
        "      c = support[i]/data_count[\"data\"][j]\n",
        "      confidence.append(round(c,2))\n",
        "      break"
      ],
      "execution_count": null,
      "outputs": []
    },
    {
      "cell_type": "code",
      "metadata": {
        "id": "e9LON5GE1k6d"
      },
      "source": [
        "#Calculation for Lift\n",
        "n = len(data_count)\n",
        "lift = []\n",
        "\n",
        "for i in range(len(sequence)):\n",
        "  a = sequence[i]\n",
        "  for j in range(0,n):\n",
        "    b = str(data_count[\"key\"][j]).replace(\"(\",\"\").replace(\")\",\"\").replace(\"'\",\"\").replace(\",\",\"\")\n",
        "    if a == b:\n",
        "      num = support[i]/n\n",
        "      denom = element_count[i]/ ((n * data_count[\"data\"][j]) / n)\n",
        "      fin = (num/denom)\n",
        "      lift.append(round(fin,4))\n",
        "      break"
      ],
      "execution_count": null,
      "outputs": []
    },
    {
      "cell_type": "code",
      "metadata": {
        "id": "-9D6B-O2-SGs",
        "colab": {
          "base_uri": "https://localhost:8080/"
        },
        "outputId": "33e4ea3b-613e-4eff-8434-e07bb52869a2"
      },
      "source": [
        "print(len(sequence))\n",
        "print(len(element))\n",
        "print(len(confidence))\n",
        "print(len(lift))"
      ],
      "execution_count": null,
      "outputs": [
        {
          "output_type": "stream",
          "text": [
            "5\n",
            "5\n",
            "5\n",
            "5\n"
          ],
          "name": "stdout"
        }
      ]
    },
    {
      "cell_type": "code",
      "metadata": {
        "id": "zinay98cCrpL",
        "colab": {
          "base_uri": "https://localhost:8080/",
          "height": 198
        },
        "outputId": "a2f1e3ba-387e-4e6c-e66a-5759aa15bdaf"
      },
      "source": [
        "final = pd.DataFrame({\"element\": element,\"sequence\": sequence,\"support\":support,\"confidence\":confidence,\"lift\":lift},\n",
        "                     columns = [\"element\",\"sequence\",\"support\",\"confidence\",\"lift\"])\n",
        "\n",
        "final"
      ],
      "execution_count": null,
      "outputs": [
        {
          "output_type": "execute_result",
          "data": {
            "text/html": [
              "<div>\n",
              "<style scoped>\n",
              "    .dataframe tbody tr th:only-of-type {\n",
              "        vertical-align: middle;\n",
              "    }\n",
              "\n",
              "    .dataframe tbody tr th {\n",
              "        vertical-align: top;\n",
              "    }\n",
              "\n",
              "    .dataframe thead th {\n",
              "        text-align: right;\n",
              "    }\n",
              "</style>\n",
              "<table border=\"1\" class=\"dataframe\">\n",
              "  <thead>\n",
              "    <tr style=\"text-align: right;\">\n",
              "      <th></th>\n",
              "      <th>element</th>\n",
              "      <th>sequence</th>\n",
              "      <th>support</th>\n",
              "      <th>confidence</th>\n",
              "      <th>lift</th>\n",
              "    </tr>\n",
              "  </thead>\n",
              "  <tbody>\n",
              "    <tr>\n",
              "      <th>0</th>\n",
              "      <td>P1</td>\n",
              "      <td>P3</td>\n",
              "      <td>0.09</td>\n",
              "      <td>0.02</td>\n",
              "      <td>0.0082</td>\n",
              "    </tr>\n",
              "    <tr>\n",
              "      <th>1</th>\n",
              "      <td>P5</td>\n",
              "      <td>P2</td>\n",
              "      <td>0.09</td>\n",
              "      <td>0.02</td>\n",
              "      <td>0.0102</td>\n",
              "    </tr>\n",
              "    <tr>\n",
              "      <th>2</th>\n",
              "      <td>P6</td>\n",
              "      <td>P1</td>\n",
              "      <td>0.09</td>\n",
              "      <td>0.02</td>\n",
              "      <td>0.0082</td>\n",
              "    </tr>\n",
              "    <tr>\n",
              "      <th>3</th>\n",
              "      <td>P6</td>\n",
              "      <td>P2</td>\n",
              "      <td>0.09</td>\n",
              "      <td>0.02</td>\n",
              "      <td>0.0082</td>\n",
              "    </tr>\n",
              "    <tr>\n",
              "      <th>4</th>\n",
              "      <td>P6</td>\n",
              "      <td>P5</td>\n",
              "      <td>0.09</td>\n",
              "      <td>0.02</td>\n",
              "      <td>0.0065</td>\n",
              "    </tr>\n",
              "  </tbody>\n",
              "</table>\n",
              "</div>"
            ],
            "text/plain": [
              "  element sequence  support  confidence    lift\n",
              "0      P1       P3     0.09        0.02  0.0082\n",
              "1      P5       P2     0.09        0.02  0.0102\n",
              "2      P6       P1     0.09        0.02  0.0082\n",
              "3      P6       P2     0.09        0.02  0.0082\n",
              "4      P6       P5     0.09        0.02  0.0065"
            ]
          },
          "metadata": {
            "tags": []
          },
          "execution_count": 57
        }
      ]
    },
    {
      "cell_type": "code",
      "metadata": {
        "id": "kly-qBTYZ5L3",
        "colab": {
          "base_uri": "https://localhost:8080/"
        },
        "outputId": "4e2ae827-1dd6-43f0-c422-2157d5eb58ae"
      },
      "source": [
        "sum(final[\"lift\"])"
      ],
      "execution_count": null,
      "outputs": [
        {
          "output_type": "execute_result",
          "data": {
            "text/plain": [
              "0.041299999999999996"
            ]
          },
          "metadata": {
            "tags": []
          },
          "execution_count": 58
        }
      ]
    },
    {
      "cell_type": "code",
      "metadata": {
        "id": "aV2oaMCqwyRf"
      },
      "source": [
        ""
      ],
      "execution_count": null,
      "outputs": []
    }
  ]
}