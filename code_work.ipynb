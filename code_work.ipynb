{
  "nbformat": 4,
  "nbformat_minor": 0,
  "metadata": {
    "colab": {
      "name": "code_work.ipynb",
      "provenance": [],
      "collapsed_sections": [],
      "toc_visible": true
    },
    "kernelspec": {
      "display_name": "Python 3",
      "language": "python",
      "name": "python3"
    },
    "language_info": {
      "codemirror_mode": {
        "name": "ipython",
        "version": 3
      },
      "file_extension": ".py",
      "mimetype": "text/x-python",
      "name": "python",
      "nbconvert_exporter": "python",
      "pygments_lexer": "ipython3",
      "version": "3.8.5"
    }
  },
  "cells": [
    {
      "cell_type": "code",
      "metadata": {
        "id": "XVfe0oSUiNpy"
      },
      "source": [
        "import numpy as np\n",
        "import pandas as pd\n",
        "import warnings\n",
        "warnings.filterwarnings(\"ignore\")\n",
        " \n",
        "pd.pandas.set_option(\"display.max_rows\",None)"
      ],
      "execution_count": null,
      "outputs": []
    },
    {
      "cell_type": "code",
      "metadata": {
        "id": "hVsx326aR4eT",
        "colab": {
          "base_uri": "https://localhost:8080/"
        },
        "outputId": "e82c424d-0a19-408e-8fbc-538f4823584f"
      },
      "source": [
        "from google.colab import drive\n",
        "drive.mount('/content/drive')"
      ],
      "execution_count": null,
      "outputs": [
        {
          "output_type": "stream",
          "text": [
            "Mounted at /content/drive\n"
          ],
          "name": "stdout"
        }
      ]
    },
    {
      "cell_type": "code",
      "metadata": {
        "id": "q1auSuUEiO7q"
      },
      "source": [
        "data = pd.read_excel(\"/content/drive/MyDrive/diagnosis_data.xls\")"
      ],
      "execution_count": null,
      "outputs": []
    },
    {
      "cell_type": "code",
      "metadata": {
        "colab": {
          "base_uri": "https://localhost:8080/",
          "height": 650
        },
        "id": "stPfQmQgignS",
        "outputId": "e71416c3-5812-4683-946d-dcabc9dc2701"
      },
      "source": [
        "data.head()"
      ],
      "execution_count": null,
      "outputs": [
        {
          "output_type": "execute_result",
          "data": {
            "text/html": [
              "<div>\n",
              "<style scoped>\n",
              "    .dataframe tbody tr th:only-of-type {\n",
              "        vertical-align: middle;\n",
              "    }\n",
              "\n",
              "    .dataframe tbody tr th {\n",
              "        vertical-align: top;\n",
              "    }\n",
              "\n",
              "    .dataframe thead th {\n",
              "        text-align: right;\n",
              "    }\n",
              "</style>\n",
              "<table border=\"1\" class=\"dataframe\">\n",
              "  <thead>\n",
              "    <tr style=\"text-align: right;\">\n",
              "      <th></th>\n",
              "      <th>SPECIALITY_CODE</th>\n",
              "      <th>Unnamed: 1</th>\n",
              "      <th>PATIENT_NAME</th>\n",
              "      <th>SEX</th>\n",
              "      <th>AGE</th>\n",
              "      <th>ADM_TYPE</th>\n",
              "      <th>CURRPROCSURG</th>\n",
              "      <th>OPER_DT</th>\n",
              "      <th>SITTING_NUM</th>\n",
              "      <th>SITTING</th>\n",
              "      <th>NATURE_CODE</th>\n",
              "      <th>OPER_NO</th>\n",
              "      <th>SURG_NUM</th>\n",
              "      <th>SURG</th>\n",
              "      <th>OPERCODE</th>\n",
              "      <th>OPER_NAME</th>\n",
              "      <th>OPERCATEG</th>\n",
              "      <th>OPER_SUBCATEG</th>\n",
              "      <th>WEIGHT</th>\n",
              "      <th>HEIGHT</th>\n",
              "      <th>DIAGNOSIS</th>\n",
              "      <th>DIAGNOSIS_ICD_TEXT</th>\n",
              "    </tr>\n",
              "  </thead>\n",
              "  <tbody>\n",
              "    <tr>\n",
              "      <th>0</th>\n",
              "      <td>CARD</td>\n",
              "      <td>XYZ00001005</td>\n",
              "      <td>MAMTA DEVI</td>\n",
              "      <td>F</td>\n",
              "      <td>49</td>\n",
              "      <td>NaN</td>\n",
              "      <td>11-OCT-19:Coronary Angiogram,14-OCT-19:Valve R...</td>\n",
              "      <td>2019-10-11</td>\n",
              "      <td>1</td>\n",
              "      <td>1 of 1</td>\n",
              "      <td>ELECT</td>\n",
              "      <td>I191011009</td>\n",
              "      <td>1</td>\n",
              "      <td>1 of 1</td>\n",
              "      <td>CAGM</td>\n",
              "      <td>CORONARY ANGIOGRAM</td>\n",
              "      <td>DIAGNOSTICS</td>\n",
              "      <td>DIAGNOSTICS</td>\n",
              "      <td>80.0</td>\n",
              "      <td>158.0</td>\n",
              "      <td>CRHD SEVERE MS MILD MR MILD TR SEVERE PAH S/P ...</td>\n",
              "      <td>Disorders of both mitral and tricuspid valves</td>\n",
              "    </tr>\n",
              "    <tr>\n",
              "      <th>1</th>\n",
              "      <td>CARD</td>\n",
              "      <td>XYZ00005126</td>\n",
              "      <td>BASAVA RAJA KATANNANAVAR</td>\n",
              "      <td>M</td>\n",
              "      <td>44</td>\n",
              "      <td>NaN</td>\n",
              "      <td>07-JUN-19:Coronary Angiogram,13-JUN-19:Valve R...</td>\n",
              "      <td>2019-06-07</td>\n",
              "      <td>1</td>\n",
              "      <td>1 of 1</td>\n",
              "      <td>ELECT</td>\n",
              "      <td>I190607014</td>\n",
              "      <td>1</td>\n",
              "      <td>1 of 1</td>\n",
              "      <td>CAGM</td>\n",
              "      <td>CORONARY ANGIOGRAM</td>\n",
              "      <td>DIAGNOSTICS</td>\n",
              "      <td>DIAGNOSTICS</td>\n",
              "      <td>44.0</td>\n",
              "      <td>157.0</td>\n",
              "      <td>RHD: S/P CMV ( 2002), MOD- SEVERE MS, MILD AR,...</td>\n",
              "      <td>Atherosclerotic cardiovascular disease, so des...</td>\n",
              "    </tr>\n",
              "    <tr>\n",
              "      <th>2</th>\n",
              "      <td>CARD</td>\n",
              "      <td>XYZ00005235</td>\n",
              "      <td>NANDA KISHORE MISHRA</td>\n",
              "      <td>M</td>\n",
              "      <td>69</td>\n",
              "      <td>NaN</td>\n",
              "      <td>22-MAY-19:Coronary Angiogram</td>\n",
              "      <td>2019-05-22</td>\n",
              "      <td>1</td>\n",
              "      <td>1 of 1</td>\n",
              "      <td>ELECT</td>\n",
              "      <td>I190522015</td>\n",
              "      <td>1</td>\n",
              "      <td>1 of 1</td>\n",
              "      <td>CAGM</td>\n",
              "      <td>CORONARY ANGIOGRAM</td>\n",
              "      <td>DIAGNOSTICS</td>\n",
              "      <td>DIAGNOSTICS</td>\n",
              "      <td>63.0</td>\n",
              "      <td>160.0</td>\n",
              "      <td>NaN</td>\n",
              "      <td>NaN</td>\n",
              "    </tr>\n",
              "    <tr>\n",
              "      <th>3</th>\n",
              "      <td>CARD</td>\n",
              "      <td>XYZ00005578</td>\n",
              "      <td>SUBHA KANTA NAYAK</td>\n",
              "      <td>M</td>\n",
              "      <td>50</td>\n",
              "      <td>NaN</td>\n",
              "      <td>22-MAY-19:Coronary Angiogram,27-MAY-19:Valve R...</td>\n",
              "      <td>2019-05-22</td>\n",
              "      <td>1</td>\n",
              "      <td>1 of 1</td>\n",
              "      <td>ELECT</td>\n",
              "      <td>I190522017</td>\n",
              "      <td>1</td>\n",
              "      <td>1 of 1</td>\n",
              "      <td>CAGM</td>\n",
              "      <td>CORONARY ANGIOGRAM</td>\n",
              "      <td>DIAGNOSTICS</td>\n",
              "      <td>DIAGNOSTICS</td>\n",
              "      <td>78.0</td>\n",
              "      <td>171.0</td>\n",
              "      <td>NaN</td>\n",
              "      <td>NaN</td>\n",
              "    </tr>\n",
              "    <tr>\n",
              "      <th>4</th>\n",
              "      <td>CARD</td>\n",
              "      <td>XYZ00008058</td>\n",
              "      <td>ASHA RANI MAJHI</td>\n",
              "      <td>F</td>\n",
              "      <td>52</td>\n",
              "      <td>NaN</td>\n",
              "      <td>01-OCT-19:Coronary Angiogram</td>\n",
              "      <td>2019-10-01</td>\n",
              "      <td>1</td>\n",
              "      <td>1 of 1</td>\n",
              "      <td>ELECT</td>\n",
              "      <td>I191001024</td>\n",
              "      <td>1</td>\n",
              "      <td>1 of 1</td>\n",
              "      <td>CAGM</td>\n",
              "      <td>CORONARY ANGIOGRAM</td>\n",
              "      <td>DIAGNOSTICS</td>\n",
              "      <td>DIAGNOSTICS</td>\n",
              "      <td>48.0</td>\n",
              "      <td>146.0</td>\n",
              "      <td>CRHD SEVERE MR S/P EPS RFA AVNRT SLOW PATHWAY ...</td>\n",
              "      <td>Rheumatic mitral insufficiency</td>\n",
              "    </tr>\n",
              "  </tbody>\n",
              "</table>\n",
              "</div>"
            ],
            "text/plain": [
              "  SPECIALITY_CODE  ...                                 DIAGNOSIS_ICD_TEXT\n",
              "0            CARD  ...      Disorders of both mitral and tricuspid valves\n",
              "1            CARD  ...  Atherosclerotic cardiovascular disease, so des...\n",
              "2            CARD  ...                                                NaN\n",
              "3            CARD  ...                                                NaN\n",
              "4            CARD  ...                     Rheumatic mitral insufficiency\n",
              "\n",
              "[5 rows x 22 columns]"
            ]
          },
          "metadata": {
            "tags": []
          },
          "execution_count": 4
        }
      ]
    },
    {
      "cell_type": "code",
      "metadata": {
        "colab": {
          "base_uri": "https://localhost:8080/"
        },
        "id": "tVhTEn6-3fO8",
        "outputId": "31ef948b-e841-4c5e-a023-d2067782ea06"
      },
      "source": [
        "data.shape"
      ],
      "execution_count": null,
      "outputs": [
        {
          "output_type": "execute_result",
          "data": {
            "text/plain": [
              "(8694, 22)"
            ]
          },
          "metadata": {
            "tags": []
          },
          "execution_count": 5
        }
      ]
    },
    {
      "cell_type": "code",
      "metadata": {
        "colab": {
          "base_uri": "https://localhost:8080/"
        },
        "id": "nXsYEU5yROW3",
        "outputId": "3e961f71-b30f-4529-dbcb-275da4287830"
      },
      "source": [
        "data.columns"
      ],
      "execution_count": null,
      "outputs": [
        {
          "output_type": "execute_result",
          "data": {
            "text/plain": [
              "Index(['SPECIALITY_CODE', 'Unnamed: 1', 'PATIENT_NAME', 'SEX', 'AGE',\n",
              "       'ADM_TYPE', 'CURRPROCSURG', 'OPER_DT', 'SITTING_NUM', 'SITTING',\n",
              "       'NATURE_CODE', 'OPER_NO', 'SURG_NUM', 'SURG', 'OPERCODE', 'OPER_NAME',\n",
              "       'OPERCATEG', 'OPER_SUBCATEG', 'WEIGHT', 'HEIGHT', 'DIAGNOSIS',\n",
              "       'DIAGNOSIS_ICD_TEXT'],\n",
              "      dtype='object')"
            ]
          },
          "metadata": {
            "tags": []
          },
          "execution_count": 6
        }
      ]
    },
    {
      "cell_type": "code",
      "metadata": {
        "id": "LqKcLX436dQy"
      },
      "source": [
        "a = data[\"PATIENT_NAME\"].value_counts() > 1"
      ],
      "execution_count": null,
      "outputs": []
    },
    {
      "cell_type": "code",
      "metadata": {
        "id": "DGu11IEAqlfr"
      },
      "source": [
        "a = a.index"
      ],
      "execution_count": null,
      "outputs": []
    },
    {
      "cell_type": "code",
      "metadata": {
        "colab": {
          "base_uri": "https://localhost:8080/"
        },
        "id": "Y7XdCMYzsASB",
        "outputId": "5848f3a6-023a-4a9f-c089-d63ff04f87bc"
      },
      "source": [
        "a"
      ],
      "execution_count": null,
      "outputs": [
        {
          "output_type": "execute_result",
          "data": {
            "text/plain": [
              "Index(['AYUSH  DAS', 'JAYAMMA', 'PUNITH G CHANNAIAH', 'GANGAMMA', 'LAKSHMAMMA',\n",
              "       'ANIL KUMAR', 'PUSHPA DEVI', 'MANJULA', 'UTTAM GHOSH', 'ARPITA BERA',\n",
              "       ...\n",
              "       'ASIT KUMAR MANDAL', 'BIJOY DAS', 'PRATAP AGISHAM', 'JINIL KUMAR',\n",
              "       'PARAMESHWAR RANA', 'ALPANA RANI MANNA', 'SOUMYASHREE NAYAK',\n",
              "       'JAHEDA AKTER RESHMA', 'MUNIREDDY A', 'ANGITA UPADHYAY'],\n",
              "      dtype='object', length=6550)"
            ]
          },
          "metadata": {
            "tags": []
          },
          "execution_count": 52
        }
      ]
    },
    {
      "cell_type": "code",
      "metadata": {
        "id": "VjhQFM3lsC8H"
      },
      "source": [
        "final1 = pd.DataFrame()\n",
        "for i in range(len(a)):\n",
        "  b = a[i]\n",
        "  for j in range(len(data1)):\n",
        "    if b == data1[\"PATIENT_NAME\"][j]:\n",
        "      final1 = final1.append({\"PATIENT_NAME\":b,\"OPER_NAME\":data1[\"OPER_NAME\"][j],\"OPER_DT\":data1[\"OPER_DT\"][j]},ignore_index = True)\n",
        "      break\n"
      ],
      "execution_count": null,
      "outputs": []
    },
    {
      "cell_type": "code",
      "metadata": {
        "colab": {
          "base_uri": "https://localhost:8080/",
          "height": 204
        },
        "id": "nU2G2mtn-nnr",
        "outputId": "bf1c8902-55f0-4a22-cb5b-a1407585b583"
      },
      "source": [
        "final1.head()"
      ],
      "execution_count": null,
      "outputs": [
        {
          "output_type": "execute_result",
          "data": {
            "text/html": [
              "<div>\n",
              "<style scoped>\n",
              "    .dataframe tbody tr th:only-of-type {\n",
              "        vertical-align: middle;\n",
              "    }\n",
              "\n",
              "    .dataframe tbody tr th {\n",
              "        vertical-align: top;\n",
              "    }\n",
              "\n",
              "    .dataframe thead th {\n",
              "        text-align: right;\n",
              "    }\n",
              "</style>\n",
              "<table border=\"1\" class=\"dataframe\">\n",
              "  <thead>\n",
              "    <tr style=\"text-align: right;\">\n",
              "      <th></th>\n",
              "      <th>OPER_DT</th>\n",
              "      <th>OPER_NAME</th>\n",
              "      <th>PATIENT_NAME</th>\n",
              "    </tr>\n",
              "  </thead>\n",
              "  <tbody>\n",
              "    <tr>\n",
              "      <th>0</th>\n",
              "      <td>2019-08-13</td>\n",
              "      <td>ASD DEVICE</td>\n",
              "      <td>GANGAMMA</td>\n",
              "    </tr>\n",
              "    <tr>\n",
              "      <th>1</th>\n",
              "      <td>2019-05-06</td>\n",
              "      <td>ELECTRO PHYSIOLOGICAL STUDY</td>\n",
              "      <td>LAKSHMAMMA</td>\n",
              "    </tr>\n",
              "    <tr>\n",
              "      <th>2</th>\n",
              "      <td>2019-05-20</td>\n",
              "      <td>CORONARY ANGIOGRAM</td>\n",
              "      <td>ANIL KUMAR</td>\n",
              "    </tr>\n",
              "    <tr>\n",
              "      <th>3</th>\n",
              "      <td>2019-05-21</td>\n",
              "      <td>PERCUTANEOUSTRANSLUMINAL MITRAL COMMISSURECTOMY</td>\n",
              "      <td>PUSHPA DEVI</td>\n",
              "    </tr>\n",
              "    <tr>\n",
              "      <th>4</th>\n",
              "      <td>2019-08-03</td>\n",
              "      <td>ELECTRO PHYSIOLOGICAL STUDY</td>\n",
              "      <td>MANJULA</td>\n",
              "    </tr>\n",
              "  </tbody>\n",
              "</table>\n",
              "</div>"
            ],
            "text/plain": [
              "     OPER_DT                                        OPER_NAME PATIENT_NAME\n",
              "0 2019-08-13                                       ASD DEVICE     GANGAMMA\n",
              "1 2019-05-06                      ELECTRO PHYSIOLOGICAL STUDY   LAKSHMAMMA\n",
              "2 2019-05-20                               CORONARY ANGIOGRAM   ANIL KUMAR\n",
              "3 2019-05-21  PERCUTANEOUSTRANSLUMINAL MITRAL COMMISSURECTOMY  PUSHPA DEVI\n",
              "4 2019-08-03                      ELECTRO PHYSIOLOGICAL STUDY      MANJULA"
            ]
          },
          "metadata": {
            "tags": []
          },
          "execution_count": 54
        }
      ]
    },
    {
      "cell_type": "code",
      "metadata": {
        "colab": {
          "base_uri": "https://localhost:8080/"
        },
        "id": "2-vOEq68qHem",
        "outputId": "34f066fc-b4c2-4f7c-c87f-036c7ee2e192"
      },
      "source": [
        "len(final1)"
      ],
      "execution_count": null,
      "outputs": [
        {
          "output_type": "execute_result",
          "data": {
            "text/plain": [
              "1438"
            ]
          },
          "metadata": {
            "tags": []
          },
          "execution_count": 55
        }
      ]
    },
    {
      "cell_type": "code",
      "metadata": {
        "id": "vZrCQjaKYzY4"
      },
      "source": [
        "required = data[[\"OPER_DT\",\"PATIENT_NAME\",\"OPER_NAME\"]]"
      ],
      "execution_count": null,
      "outputs": []
    },
    {
      "cell_type": "code",
      "metadata": {
        "colab": {
          "base_uri": "https://localhost:8080/",
          "height": 198
        },
        "id": "P7rUF_ECSzYg",
        "outputId": "fdf64f29-f4b9-4a4c-8cbf-3f7a9dc0b5db"
      },
      "source": [
        "required.head()"
      ],
      "execution_count": null,
      "outputs": [
        {
          "output_type": "execute_result",
          "data": {
            "text/html": [
              "<div>\n",
              "<style scoped>\n",
              "    .dataframe tbody tr th:only-of-type {\n",
              "        vertical-align: middle;\n",
              "    }\n",
              "\n",
              "    .dataframe tbody tr th {\n",
              "        vertical-align: top;\n",
              "    }\n",
              "\n",
              "    .dataframe thead th {\n",
              "        text-align: right;\n",
              "    }\n",
              "</style>\n",
              "<table border=\"1\" class=\"dataframe\">\n",
              "  <thead>\n",
              "    <tr style=\"text-align: right;\">\n",
              "      <th></th>\n",
              "      <th>OPER_DT</th>\n",
              "      <th>PATIENT_NAME</th>\n",
              "      <th>OPER_NAME</th>\n",
              "    </tr>\n",
              "  </thead>\n",
              "  <tbody>\n",
              "    <tr>\n",
              "      <th>0</th>\n",
              "      <td>2019-10-11</td>\n",
              "      <td>MAMTA DEVI</td>\n",
              "      <td>CORONARY ANGIOGRAM</td>\n",
              "    </tr>\n",
              "    <tr>\n",
              "      <th>1</th>\n",
              "      <td>2019-06-07</td>\n",
              "      <td>BASAVA RAJA KATANNANAVAR</td>\n",
              "      <td>CORONARY ANGIOGRAM</td>\n",
              "    </tr>\n",
              "    <tr>\n",
              "      <th>2</th>\n",
              "      <td>2019-05-22</td>\n",
              "      <td>NANDA KISHORE MISHRA</td>\n",
              "      <td>CORONARY ANGIOGRAM</td>\n",
              "    </tr>\n",
              "    <tr>\n",
              "      <th>3</th>\n",
              "      <td>2019-05-22</td>\n",
              "      <td>SUBHA KANTA NAYAK</td>\n",
              "      <td>CORONARY ANGIOGRAM</td>\n",
              "    </tr>\n",
              "    <tr>\n",
              "      <th>4</th>\n",
              "      <td>2019-10-01</td>\n",
              "      <td>ASHA RANI MAJHI</td>\n",
              "      <td>CORONARY ANGIOGRAM</td>\n",
              "    </tr>\n",
              "  </tbody>\n",
              "</table>\n",
              "</div>"
            ],
            "text/plain": [
              "     OPER_DT              PATIENT_NAME           OPER_NAME\n",
              "0 2019-10-11                MAMTA DEVI  CORONARY ANGIOGRAM\n",
              "1 2019-06-07  BASAVA RAJA KATANNANAVAR  CORONARY ANGIOGRAM\n",
              "2 2019-05-22      NANDA KISHORE MISHRA  CORONARY ANGIOGRAM\n",
              "3 2019-05-22         SUBHA KANTA NAYAK  CORONARY ANGIOGRAM\n",
              "4 2019-10-01           ASHA RANI MAJHI  CORONARY ANGIOGRAM"
            ]
          },
          "metadata": {
            "tags": []
          },
          "execution_count": 18
        }
      ]
    },
    {
      "cell_type": "code",
      "metadata": {
        "colab": {
          "base_uri": "https://localhost:8080/"
        },
        "id": "KfC03h6ORUaC",
        "outputId": "ade785df-9ebb-438a-9189-177f22dd71f8"
      },
      "source": [
        "required.isnull().sum()"
      ],
      "execution_count": null,
      "outputs": [
        {
          "output_type": "execute_result",
          "data": {
            "text/plain": [
              "OPER_DT         0\n",
              "PATIENT_NAME    0\n",
              "OPER_NAME       0\n",
              "dtype: int64"
            ]
          },
          "metadata": {
            "tags": []
          },
          "execution_count": 19
        }
      ]
    },
    {
      "cell_type": "code",
      "metadata": {
        "id": "yWmdYewdjNzw"
      },
      "source": [
        "#data.rename(columns = {\"User id\":\"id\"},inplace=True)"
      ],
      "execution_count": null,
      "outputs": []
    },
    {
      "cell_type": "code",
      "metadata": {
        "id": "DNYC5gBC9AGi"
      },
      "source": [
        "#data[\"procedure\"] = data[\"procedure\"].astype(\"str\")"
      ],
      "execution_count": null,
      "outputs": []
    },
    {
      "cell_type": "code",
      "metadata": {
        "colab": {
          "base_uri": "https://localhost:8080/"
        },
        "id": "CdYn4rRzjQKj",
        "outputId": "2fccfb22-5c41-4600-e37d-0eec7fd7e31c"
      },
      "source": [
        "output = pd.DataFrame(columns=[\"id\",\"procedure\"])\n",
        "for i,j in data.groupby([\"PATIENT_NAME\",\"OPER_DT\"]):\n",
        "  col1 = j.iloc[0][\"PATIENT_NAME\"]\n",
        "  col2 = j[\"OPER_NAME\"].str.cat(sep = \",\")\n",
        "  output = output.append({\"id\":col1,\"procedure\":col2},ignore_index = True)\n",
        "print(output.head())"
      ],
      "execution_count": null,
      "outputs": [
        {
          "output_type": "stream",
          "text": [
            "                                id                     procedure\n",
            "0                       AKLEEM MO.            CORONARY ANGIOGRAM\n",
            "1                 ALAMGIR HOSSAIN             CORONARY ANGIOGRAM\n",
            "2                 ALAMGIR HOSSAIN              Off pump CABG X 2\n",
            "3                   DELUYAR BHUIYA  REMOVAL OF EMBEDDED IMPLANTS\n",
            "4   PEDDA  NARASIMHA REDDY MANDEM   RIGHT TOTAL KNEE REPLACEMENT\n"
          ],
          "name": "stdout"
        }
      ]
    },
    {
      "cell_type": "code",
      "metadata": {
        "colab": {
          "base_uri": "https://localhost:8080/"
        },
        "id": "xLZiIwU0Snf3",
        "outputId": "74087d8d-2401-4578-9cd0-a31b636be7b1"
      },
      "source": [
        "output.columns"
      ],
      "execution_count": null,
      "outputs": [
        {
          "output_type": "execute_result",
          "data": {
            "text/plain": [
              "Index(['id', 'procedure'], dtype='object')"
            ]
          },
          "metadata": {
            "tags": []
          },
          "execution_count": 32
        }
      ]
    },
    {
      "cell_type": "code",
      "metadata": {
        "colab": {
          "base_uri": "https://localhost:8080/"
        },
        "id": "WXBCNeIUjTIv",
        "outputId": "087eae71-0e03-4282-93df-12b04afdf560"
      },
      "source": [
        "unique_val = output[\"procedure\"].unique()\n",
        "len(unique_val)"
      ],
      "execution_count": null,
      "outputs": [
        {
          "output_type": "execute_result",
          "data": {
            "text/plain": [
              "570"
            ]
          },
          "metadata": {
            "tags": []
          },
          "execution_count": 33
        }
      ]
    },
    {
      "cell_type": "markdown",
      "metadata": {
        "id": "74HTU-nkj4eh"
      },
      "source": [
        "##Desired Output is stored in output1"
      ]
    },
    {
      "cell_type": "code",
      "metadata": {
        "id": "2_rf93-XNVmS"
      },
      "source": [
        "def convert(x):\n",
        "  return x.split(\",\")"
      ],
      "execution_count": null,
      "outputs": []
    },
    {
      "cell_type": "code",
      "metadata": {
        "id": "h5rrsbN9p9-O"
      },
      "source": [
        "output[\"procedure\"] = output[\"procedure\"].map(lambda x : convert(x))"
      ],
      "execution_count": null,
      "outputs": []
    },
    {
      "cell_type": "code",
      "metadata": {
        "colab": {
          "base_uri": "https://localhost:8080/",
          "height": 198
        },
        "id": "XAnbdMgIqHgL",
        "outputId": "3a68f21a-b350-406b-c0a1-1bca5c3d4ce4"
      },
      "source": [
        "output.head()"
      ],
      "execution_count": null,
      "outputs": [
        {
          "output_type": "execute_result",
          "data": {
            "text/html": [
              "<div>\n",
              "<style scoped>\n",
              "    .dataframe tbody tr th:only-of-type {\n",
              "        vertical-align: middle;\n",
              "    }\n",
              "\n",
              "    .dataframe tbody tr th {\n",
              "        vertical-align: top;\n",
              "    }\n",
              "\n",
              "    .dataframe thead th {\n",
              "        text-align: right;\n",
              "    }\n",
              "</style>\n",
              "<table border=\"1\" class=\"dataframe\">\n",
              "  <thead>\n",
              "    <tr style=\"text-align: right;\">\n",
              "      <th></th>\n",
              "      <th>id</th>\n",
              "      <th>procedure</th>\n",
              "    </tr>\n",
              "  </thead>\n",
              "  <tbody>\n",
              "    <tr>\n",
              "      <th>0</th>\n",
              "      <td>AKLEEM MO.</td>\n",
              "      <td>[CORONARY ANGIOGRAM]</td>\n",
              "    </tr>\n",
              "    <tr>\n",
              "      <th>1</th>\n",
              "      <td>ALAMGIR HOSSAIN</td>\n",
              "      <td>[CORONARY ANGIOGRAM]</td>\n",
              "    </tr>\n",
              "    <tr>\n",
              "      <th>2</th>\n",
              "      <td>ALAMGIR HOSSAIN</td>\n",
              "      <td>[Off pump CABG X 2]</td>\n",
              "    </tr>\n",
              "    <tr>\n",
              "      <th>3</th>\n",
              "      <td>DELUYAR BHUIYA</td>\n",
              "      <td>[REMOVAL OF EMBEDDED IMPLANTS]</td>\n",
              "    </tr>\n",
              "    <tr>\n",
              "      <th>4</th>\n",
              "      <td>PEDDA  NARASIMHA REDDY MANDEM</td>\n",
              "      <td>[RIGHT TOTAL KNEE REPLACEMENT]</td>\n",
              "    </tr>\n",
              "  </tbody>\n",
              "</table>\n",
              "</div>"
            ],
            "text/plain": [
              "                                id                       procedure\n",
              "0                       AKLEEM MO.            [CORONARY ANGIOGRAM]\n",
              "1                 ALAMGIR HOSSAIN             [CORONARY ANGIOGRAM]\n",
              "2                 ALAMGIR HOSSAIN              [Off pump CABG X 2]\n",
              "3                   DELUYAR BHUIYA  [REMOVAL OF EMBEDDED IMPLANTS]\n",
              "4   PEDDA  NARASIMHA REDDY MANDEM   [RIGHT TOTAL KNEE REPLACEMENT]"
            ]
          },
          "metadata": {
            "tags": []
          },
          "execution_count": 37
        }
      ]
    },
    {
      "cell_type": "code",
      "metadata": {
        "id": "1HMisf2HK2Du"
      },
      "source": [
        "output1 = output.groupby(\"id\")[\"procedure\"].apply(tuple).reset_index()"
      ],
      "execution_count": null,
      "outputs": []
    },
    {
      "cell_type": "code",
      "metadata": {
        "colab": {
          "base_uri": "https://localhost:8080/",
          "height": 198
        },
        "id": "P97rCcYEiLIO",
        "outputId": "c77894f9-b796-4aab-c96e-d7e8f5e2c5b1"
      },
      "source": [
        "output1.head()"
      ],
      "execution_count": null,
      "outputs": [
        {
          "output_type": "execute_result",
          "data": {
            "text/html": [
              "<div>\n",
              "<style scoped>\n",
              "    .dataframe tbody tr th:only-of-type {\n",
              "        vertical-align: middle;\n",
              "    }\n",
              "\n",
              "    .dataframe tbody tr th {\n",
              "        vertical-align: top;\n",
              "    }\n",
              "\n",
              "    .dataframe thead th {\n",
              "        text-align: right;\n",
              "    }\n",
              "</style>\n",
              "<table border=\"1\" class=\"dataframe\">\n",
              "  <thead>\n",
              "    <tr style=\"text-align: right;\">\n",
              "      <th></th>\n",
              "      <th>id</th>\n",
              "      <th>procedure</th>\n",
              "    </tr>\n",
              "  </thead>\n",
              "  <tbody>\n",
              "    <tr>\n",
              "      <th>0</th>\n",
              "      <td>AKLEEM MO.</td>\n",
              "      <td>([CORONARY ANGIOGRAM],)</td>\n",
              "    </tr>\n",
              "    <tr>\n",
              "      <th>1</th>\n",
              "      <td>ALAMGIR HOSSAIN</td>\n",
              "      <td>([CORONARY ANGIOGRAM], [Off pump CABG X 2])</td>\n",
              "    </tr>\n",
              "    <tr>\n",
              "      <th>2</th>\n",
              "      <td>DELUYAR BHUIYA</td>\n",
              "      <td>([REMOVAL OF EMBEDDED IMPLANTS],)</td>\n",
              "    </tr>\n",
              "    <tr>\n",
              "      <th>3</th>\n",
              "      <td>PEDDA  NARASIMHA REDDY MANDEM</td>\n",
              "      <td>([RIGHT TOTAL KNEE REPLACEMENT],)</td>\n",
              "    </tr>\n",
              "    <tr>\n",
              "      <th>4</th>\n",
              "      <td>PRABHABATI PATRA...</td>\n",
              "      <td>([PHACO + IOL],)</td>\n",
              "    </tr>\n",
              "  </tbody>\n",
              "</table>\n",
              "</div>"
            ],
            "text/plain": [
              "                                id                                    procedure\n",
              "0                       AKLEEM MO.                      ([CORONARY ANGIOGRAM],)\n",
              "1                 ALAMGIR HOSSAIN   ([CORONARY ANGIOGRAM], [Off pump CABG X 2])\n",
              "2                   DELUYAR BHUIYA            ([REMOVAL OF EMBEDDED IMPLANTS],)\n",
              "3   PEDDA  NARASIMHA REDDY MANDEM             ([RIGHT TOTAL KNEE REPLACEMENT],)\n",
              "4             PRABHABATI PATRA...                              ([PHACO + IOL],)"
            ]
          },
          "metadata": {
            "tags": []
          },
          "execution_count": 40
        }
      ]
    },
    {
      "cell_type": "code",
      "metadata": {
        "id": "w6tM1GtJHB6g"
      },
      "source": [
        "#Original Data\n",
        "data1 = pd.DataFrame(output[\"procedure\"])\n",
        "patients = len(data1)"
      ],
      "execution_count": null,
      "outputs": []
    },
    {
      "cell_type": "code",
      "metadata": {
        "colab": {
          "base_uri": "https://localhost:8080/",
          "height": 198
        },
        "id": "0l8viqgKkIhj",
        "outputId": "fad57e0d-96c9-43de-89e3-b25f440e4162"
      },
      "source": [
        "output1.head()"
      ],
      "execution_count": null,
      "outputs": [
        {
          "output_type": "execute_result",
          "data": {
            "text/html": [
              "<div>\n",
              "<style scoped>\n",
              "    .dataframe tbody tr th:only-of-type {\n",
              "        vertical-align: middle;\n",
              "    }\n",
              "\n",
              "    .dataframe tbody tr th {\n",
              "        vertical-align: top;\n",
              "    }\n",
              "\n",
              "    .dataframe thead th {\n",
              "        text-align: right;\n",
              "    }\n",
              "</style>\n",
              "<table border=\"1\" class=\"dataframe\">\n",
              "  <thead>\n",
              "    <tr style=\"text-align: right;\">\n",
              "      <th></th>\n",
              "      <th>id</th>\n",
              "      <th>procedure</th>\n",
              "    </tr>\n",
              "  </thead>\n",
              "  <tbody>\n",
              "    <tr>\n",
              "      <th>0</th>\n",
              "      <td>AKLEEM MO.</td>\n",
              "      <td>([CORONARY ANGIOGRAM],)</td>\n",
              "    </tr>\n",
              "    <tr>\n",
              "      <th>1</th>\n",
              "      <td>ALAMGIR HOSSAIN</td>\n",
              "      <td>([CORONARY ANGIOGRAM], [Off pump CABG X 2])</td>\n",
              "    </tr>\n",
              "    <tr>\n",
              "      <th>2</th>\n",
              "      <td>DELUYAR BHUIYA</td>\n",
              "      <td>([REMOVAL OF EMBEDDED IMPLANTS],)</td>\n",
              "    </tr>\n",
              "    <tr>\n",
              "      <th>3</th>\n",
              "      <td>PEDDA  NARASIMHA REDDY MANDEM</td>\n",
              "      <td>([RIGHT TOTAL KNEE REPLACEMENT],)</td>\n",
              "    </tr>\n",
              "    <tr>\n",
              "      <th>4</th>\n",
              "      <td>PRABHABATI PATRA...</td>\n",
              "      <td>([PHACO + IOL],)</td>\n",
              "    </tr>\n",
              "  </tbody>\n",
              "</table>\n",
              "</div>"
            ],
            "text/plain": [
              "                                id                                    procedure\n",
              "0                       AKLEEM MO.                      ([CORONARY ANGIOGRAM],)\n",
              "1                 ALAMGIR HOSSAIN   ([CORONARY ANGIOGRAM], [Off pump CABG X 2])\n",
              "2                   DELUYAR BHUIYA            ([REMOVAL OF EMBEDDED IMPLANTS],)\n",
              "3   PEDDA  NARASIMHA REDDY MANDEM             ([RIGHT TOTAL KNEE REPLACEMENT],)\n",
              "4             PRABHABATI PATRA...                              ([PHACO + IOL],)"
            ]
          },
          "metadata": {
            "tags": []
          },
          "execution_count": 42
        }
      ]
    },
    {
      "cell_type": "markdown",
      "metadata": {
        "id": "-sIaJ7T9kOFI"
      },
      "source": [
        "##Getting Count of Sequences of Task1 present in data_count variable\n"
      ]
    },
    {
      "cell_type": "code",
      "metadata": {
        "id": "MfAA6KzcTn59"
      },
      "source": [
        "seq = []\n",
        "for i in range(len(output[\"procedure\"])):\n",
        "  a = str(output[\"procedure\"][i]).replace('(','').replace(')','').replace(\"[\",\"\").replace(\"]\",\"\").replace(\"'\",\"\")\n",
        "  a = a.replace(\" \",\"\")\n",
        "  a = (a.split(\",\"))\n",
        "  seq.append(a)"
      ],
      "execution_count": null,
      "outputs": []
    },
    {
      "cell_type": "code",
      "metadata": {
        "id": "uSifBNBVaYYE"
      },
      "source": [
        "seq"
      ],
      "execution_count": null,
      "outputs": []
    },
    {
      "cell_type": "markdown",
      "metadata": {
        "id": "H225G4vLkIPL"
      },
      "source": [
        "##Combinations for the Data"
      ]
    },
    {
      "cell_type": "code",
      "metadata": {
        "id": "32AWodyuOg3G"
      },
      "source": [
        "from itertools import combinations\n",
        "fii = []\n",
        "for i in range(len(seq)):\n",
        "  for j in range(1,5):\n",
        "    comb = combinations(seq[i],j)\n",
        "    fii.append(comb)"
      ],
      "execution_count": null,
      "outputs": []
    },
    {
      "cell_type": "code",
      "metadata": {
        "id": "b9Bds_3sOtoh"
      },
      "source": [
        "final_seq = []\n",
        "for i in fii:\n",
        "  for j in i:\n",
        "    final_seq.append(j)"
      ],
      "execution_count": null,
      "outputs": []
    },
    {
      "cell_type": "code",
      "metadata": {
        "id": "YosB9UyRZWcA"
      },
      "source": [
        "ones = np.ones(len(final_seq)).astype(\"int\")"
      ],
      "execution_count": null,
      "outputs": []
    },
    {
      "cell_type": "code",
      "metadata": {
        "id": "Y_sSrIatDTT_"
      },
      "source": [
        "data_final = pd.DataFrame({\"key\":final_seq,\"count\":ones},columns = [\"key\",\"count\"])"
      ],
      "execution_count": null,
      "outputs": []
    },
    {
      "cell_type": "code",
      "metadata": {
        "id": "wtY4-4UVyUqo"
      },
      "source": [
        "data_final = data_final.groupby(\"key\").sum().reset_index()"
      ],
      "execution_count": null,
      "outputs": []
    },
    {
      "cell_type": "code",
      "metadata": {
        "colab": {
          "base_uri": "https://localhost:8080/",
          "height": 198
        },
        "id": "Yw60_S5781c0",
        "outputId": "3eb0294a-8ca4-42c9-c9fa-548c715418d6"
      },
      "source": [
        "data_final.head()"
      ],
      "execution_count": null,
      "outputs": [
        {
          "output_type": "execute_result",
          "data": {
            "text/html": [
              "<div>\n",
              "<style scoped>\n",
              "    .dataframe tbody tr th:only-of-type {\n",
              "        vertical-align: middle;\n",
              "    }\n",
              "\n",
              "    .dataframe tbody tr th {\n",
              "        vertical-align: top;\n",
              "    }\n",
              "\n",
              "    .dataframe thead th {\n",
              "        text-align: right;\n",
              "    }\n",
              "</style>\n",
              "<table border=\"1\" class=\"dataframe\">\n",
              "  <thead>\n",
              "    <tr style=\"text-align: right;\">\n",
              "      <th></th>\n",
              "      <th>key</th>\n",
              "      <th>count</th>\n",
              "    </tr>\n",
              "  </thead>\n",
              "  <tbody>\n",
              "    <tr>\n",
              "      <th>0</th>\n",
              "      <td>(\"HEANEYSHYSTERECTOMY/NDVH\",)</td>\n",
              "      <td>1</td>\n",
              "    </tr>\n",
              "    <tr>\n",
              "      <th>1</th>\n",
              "      <td>(ADENOIDECTOMY,)</td>\n",
              "      <td>1</td>\n",
              "    </tr>\n",
              "    <tr>\n",
              "      <th>2</th>\n",
              "      <td>(ADENOTONSILLECTOMY,)</td>\n",
              "      <td>27</td>\n",
              "    </tr>\n",
              "    <tr>\n",
              "      <th>3</th>\n",
              "      <td>(ANTERIORCERVICALDISCECTOMY,)</td>\n",
              "      <td>95</td>\n",
              "    </tr>\n",
              "    <tr>\n",
              "      <th>4</th>\n",
              "      <td>(ANTERIORCERVICALDISCECTOMY, BoneGrafting&amp;Plat...</td>\n",
              "      <td>1</td>\n",
              "    </tr>\n",
              "  </tbody>\n",
              "</table>\n",
              "</div>"
            ],
            "text/plain": [
              "                                                 key  count\n",
              "0                      (\"HEANEYSHYSTERECTOMY/NDVH\",)      1\n",
              "1                                   (ADENOIDECTOMY,)      1\n",
              "2                              (ADENOTONSILLECTOMY,)     27\n",
              "3                      (ANTERIORCERVICALDISCECTOMY,)     95\n",
              "4  (ANTERIORCERVICALDISCECTOMY, BoneGrafting&Plat...      1"
            ]
          },
          "metadata": {
            "tags": []
          },
          "execution_count": 54
        }
      ]
    },
    {
      "cell_type": "code",
      "metadata": {
        "id": "z5SR9YwwCv2-"
      },
      "source": [
        "data_fin = list(data_final[\"key\"])"
      ],
      "execution_count": null,
      "outputs": []
    },
    {
      "cell_type": "markdown",
      "metadata": {
        "id": "bSJguMSHVtpt"
      },
      "source": [
        "##Generate and test"
      ]
    },
    {
      "cell_type": "code",
      "metadata": {
        "id": "YwaWbKb_kz-T",
        "colab": {
          "base_uri": "https://localhost:8080/",
          "height": 244
        },
        "outputId": "db6b17f3-ab81-4dbf-c1d0-b5959c0f5331"
      },
      "source": [
        "from itertools import permutations\n",
        "values = []\n",
        " \n",
        "for i in range(1,len(unique_val)+1):\n",
        "  if i<=3:\n",
        "    perm = permutations(unique_val,i)\n",
        "    for j in perm:\n",
        "      if j in data_fin:\n",
        "        #print(j)\n",
        "        values.append(j)"
      ],
      "execution_count": null,
      "outputs": [
        {
          "output_type": "error",
          "ename": "KeyboardInterrupt",
          "evalue": "ignored",
          "traceback": [
            "\u001b[0;31m---------------------------------------------------------------------------\u001b[0m",
            "\u001b[0;31mKeyboardInterrupt\u001b[0m                         Traceback (most recent call last)",
            "\u001b[0;32m<ipython-input-57-2a4077b7881c>\u001b[0m in \u001b[0;36m<module>\u001b[0;34m()\u001b[0m\n\u001b[1;32m      6\u001b[0m     \u001b[0mperm\u001b[0m \u001b[0;34m=\u001b[0m \u001b[0mpermutations\u001b[0m\u001b[0;34m(\u001b[0m\u001b[0munique_val\u001b[0m\u001b[0;34m,\u001b[0m\u001b[0mi\u001b[0m\u001b[0;34m)\u001b[0m\u001b[0;34m\u001b[0m\u001b[0;34m\u001b[0m\u001b[0m\n\u001b[1;32m      7\u001b[0m     \u001b[0;32mfor\u001b[0m \u001b[0mj\u001b[0m \u001b[0;32min\u001b[0m \u001b[0mperm\u001b[0m\u001b[0;34m:\u001b[0m\u001b[0;34m\u001b[0m\u001b[0;34m\u001b[0m\u001b[0m\n\u001b[0;32m----> 8\u001b[0;31m       \u001b[0;32mif\u001b[0m \u001b[0mj\u001b[0m \u001b[0;32min\u001b[0m \u001b[0mdata_fin\u001b[0m\u001b[0;34m:\u001b[0m\u001b[0;34m\u001b[0m\u001b[0;34m\u001b[0m\u001b[0m\n\u001b[0m\u001b[1;32m      9\u001b[0m         \u001b[0;31m#print(j)\u001b[0m\u001b[0;34m\u001b[0m\u001b[0;34m\u001b[0m\u001b[0;34m\u001b[0m\u001b[0m\n\u001b[1;32m     10\u001b[0m         \u001b[0mvalues\u001b[0m\u001b[0;34m.\u001b[0m\u001b[0mappend\u001b[0m\u001b[0;34m(\u001b[0m\u001b[0mj\u001b[0m\u001b[0;34m)\u001b[0m\u001b[0;34m\u001b[0m\u001b[0;34m\u001b[0m\u001b[0m\n",
            "\u001b[0;31mKeyboardInterrupt\u001b[0m: "
          ]
        }
      ]
    },
    {
      "cell_type": "code",
      "metadata": {
        "colab": {
          "base_uri": "https://localhost:8080/"
        },
        "id": "jmlzzJnRl7kF",
        "outputId": "8d5c456d-acf2-4662-d349-59315371c2f9"
      },
      "source": [
        "len(values)"
      ],
      "execution_count": null,
      "outputs": [
        {
          "output_type": "execute_result",
          "data": {
            "text/plain": [
              "37"
            ]
          },
          "metadata": {
            "tags": []
          },
          "execution_count": 26
        }
      ]
    },
    {
      "cell_type": "code",
      "metadata": {
        "id": "zKKi-kguhhj1",
        "colab": {
          "base_uri": "https://localhost:8080/"
        },
        "outputId": "88b68f0f-ab4c-405f-bbf7-8b2250cc40c3"
      },
      "source": [
        "data_comb = list(data_final[\"key\"])\n",
        " \n",
        "for element in data_comb:\n",
        "  if element not in values:\n",
        "    print(element)"
      ],
      "execution_count": null,
      "outputs": [
        {
          "output_type": "stream",
          "text": [
            "('5', '5')\n",
            "('5', '6', '5')\n"
          ],
          "name": "stdout"
        }
      ]
    },
    {
      "cell_type": "code",
      "metadata": {
        "id": "6sngAFmKFjAp",
        "colab": {
          "base_uri": "https://localhost:8080/"
        },
        "outputId": "61fdd144-637c-47b3-8e5e-96fd1d279f94"
      },
      "source": [
        "len(data_final)"
      ],
      "execution_count": null,
      "outputs": [
        {
          "output_type": "execute_result",
          "data": {
            "text/plain": [
              "39"
            ]
          },
          "metadata": {
            "tags": []
          },
          "execution_count": 28
        }
      ]
    },
    {
      "cell_type": "markdown",
      "metadata": {
        "id": "NktkX43Zk84B"
      },
      "source": [
        "##Association Rules "
      ]
    },
    {
      "cell_type": "markdown",
      "metadata": {
        "id": "58EuGSsVwrFs"
      },
      "source": [
        "##Support"
      ]
    },
    {
      "cell_type": "code",
      "metadata": {
        "id": "f6ROtNf1XHpW"
      },
      "source": [
        "#Calculating the support for all the sequences\n",
        "support = []\n",
        "element = []\n",
        "sequence = []\n",
        "n = len(output1)\n",
        "\n",
        "for i in range(len(data_final)):\n",
        "  a = str(data_final[\"key\"][i]).replace(\"(\",\"\").replace(\")\",\"\").replace(\"'\",\"\").replace(\",\",\"\")\n",
        "  for j in unique_val:\n",
        "    for k in range(len(data_final)):\n",
        "      b = str(data_final[\"key\"][k]).replace(\"(\",\"\").replace(\")\",\"\").replace(\"'\",\"\").replace(\",\",\"\")\n",
        "      c = a + \" \" +j\n",
        "      if a != j:\n",
        "        if c in b:\n",
        "          d = data_final[\"count\"].where(data_final[\"key\"] == tuple(map(str, c.split(' '))))\n",
        "          d = d.dropna()\n",
        "          element.append(a)\n",
        "          sequence.append(j)\n",
        "          support.append(round(d.iloc[0]/n,4))\n",
        "          break"
      ],
      "execution_count": null,
      "outputs": []
    },
    {
      "cell_type": "code",
      "metadata": {
        "id": "boT86IvJO-c3"
      },
      "source": [
        "final = pd.DataFrame({\"element\":element,\"sequence\":sequence,\"support\":support})"
      ],
      "execution_count": null,
      "outputs": []
    },
    {
      "cell_type": "code",
      "metadata": {
        "colab": {
          "base_uri": "https://localhost:8080/",
          "height": 1000
        },
        "id": "Q_oUfumYS-Ye",
        "outputId": "356925d8-11d1-47e3-e2cd-709ce676ebe0"
      },
      "source": [
        "final"
      ],
      "execution_count": null,
      "outputs": [
        {
          "output_type": "execute_result",
          "data": {
            "text/html": [
              "<div>\n",
              "<style scoped>\n",
              "    .dataframe tbody tr th:only-of-type {\n",
              "        vertical-align: middle;\n",
              "    }\n",
              "\n",
              "    .dataframe tbody tr th {\n",
              "        vertical-align: top;\n",
              "    }\n",
              "\n",
              "    .dataframe thead th {\n",
              "        text-align: right;\n",
              "    }\n",
              "</style>\n",
              "<table border=\"1\" class=\"dataframe\">\n",
              "  <thead>\n",
              "    <tr style=\"text-align: right;\">\n",
              "      <th></th>\n",
              "      <th>element</th>\n",
              "      <th>sequence</th>\n",
              "      <th>support</th>\n",
              "    </tr>\n",
              "  </thead>\n",
              "  <tbody>\n",
              "    <tr>\n",
              "      <th>0</th>\n",
              "      <td>1</td>\n",
              "      <td>2</td>\n",
              "      <td>0.1667</td>\n",
              "    </tr>\n",
              "    <tr>\n",
              "      <th>1</th>\n",
              "      <td>1</td>\n",
              "      <td>5</td>\n",
              "      <td>0.0833</td>\n",
              "    </tr>\n",
              "    <tr>\n",
              "      <th>2</th>\n",
              "      <td>1</td>\n",
              "      <td>4</td>\n",
              "      <td>0.1667</td>\n",
              "    </tr>\n",
              "    <tr>\n",
              "      <th>3</th>\n",
              "      <td>1</td>\n",
              "      <td>3</td>\n",
              "      <td>0.1667</td>\n",
              "    </tr>\n",
              "    <tr>\n",
              "      <th>4</th>\n",
              "      <td>1 2</td>\n",
              "      <td>4</td>\n",
              "      <td>0.0833</td>\n",
              "    </tr>\n",
              "    <tr>\n",
              "      <th>5</th>\n",
              "      <td>1 3</td>\n",
              "      <td>5</td>\n",
              "      <td>0.0833</td>\n",
              "    </tr>\n",
              "    <tr>\n",
              "      <th>6</th>\n",
              "      <td>1 4</td>\n",
              "      <td>3</td>\n",
              "      <td>0.0833</td>\n",
              "    </tr>\n",
              "    <tr>\n",
              "      <th>7</th>\n",
              "      <td>2</td>\n",
              "      <td>6</td>\n",
              "      <td>0.1667</td>\n",
              "    </tr>\n",
              "    <tr>\n",
              "      <th>8</th>\n",
              "      <td>2</td>\n",
              "      <td>5</td>\n",
              "      <td>0.1667</td>\n",
              "    </tr>\n",
              "    <tr>\n",
              "      <th>9</th>\n",
              "      <td>2</td>\n",
              "      <td>4</td>\n",
              "      <td>0.2500</td>\n",
              "    </tr>\n",
              "    <tr>\n",
              "      <th>10</th>\n",
              "      <td>2</td>\n",
              "      <td>3</td>\n",
              "      <td>0.0833</td>\n",
              "    </tr>\n",
              "    <tr>\n",
              "      <th>11</th>\n",
              "      <td>2 3</td>\n",
              "      <td>4</td>\n",
              "      <td>0.0833</td>\n",
              "    </tr>\n",
              "    <tr>\n",
              "      <th>12</th>\n",
              "      <td>2 6</td>\n",
              "      <td>5</td>\n",
              "      <td>0.1667</td>\n",
              "    </tr>\n",
              "    <tr>\n",
              "      <th>13</th>\n",
              "      <td>3</td>\n",
              "      <td>2</td>\n",
              "      <td>0.0833</td>\n",
              "    </tr>\n",
              "    <tr>\n",
              "      <th>14</th>\n",
              "      <td>3</td>\n",
              "      <td>6</td>\n",
              "      <td>0.0833</td>\n",
              "    </tr>\n",
              "    <tr>\n",
              "      <th>15</th>\n",
              "      <td>3</td>\n",
              "      <td>5</td>\n",
              "      <td>0.1667</td>\n",
              "    </tr>\n",
              "    <tr>\n",
              "      <th>16</th>\n",
              "      <td>3</td>\n",
              "      <td>4</td>\n",
              "      <td>0.2500</td>\n",
              "    </tr>\n",
              "    <tr>\n",
              "      <th>17</th>\n",
              "      <td>3</td>\n",
              "      <td>1</td>\n",
              "      <td>0.0833</td>\n",
              "    </tr>\n",
              "    <tr>\n",
              "      <th>18</th>\n",
              "      <td>3 2</td>\n",
              "      <td>4</td>\n",
              "      <td>0.0833</td>\n",
              "    </tr>\n",
              "    <tr>\n",
              "      <th>19</th>\n",
              "      <td>3 5</td>\n",
              "      <td>6</td>\n",
              "      <td>0.0833</td>\n",
              "    </tr>\n",
              "    <tr>\n",
              "      <th>20</th>\n",
              "      <td>4</td>\n",
              "      <td>3</td>\n",
              "      <td>0.1667</td>\n",
              "    </tr>\n",
              "    <tr>\n",
              "      <th>21</th>\n",
              "      <td>4</td>\n",
              "      <td>1</td>\n",
              "      <td>0.0833</td>\n",
              "    </tr>\n",
              "    <tr>\n",
              "      <th>22</th>\n",
              "      <td>4 3</td>\n",
              "      <td>1</td>\n",
              "      <td>0.0833</td>\n",
              "    </tr>\n",
              "    <tr>\n",
              "      <th>23</th>\n",
              "      <td>5</td>\n",
              "      <td>6</td>\n",
              "      <td>0.1667</td>\n",
              "    </tr>\n",
              "    <tr>\n",
              "      <th>24</th>\n",
              "      <td>5 6</td>\n",
              "      <td>5</td>\n",
              "      <td>0.0833</td>\n",
              "    </tr>\n",
              "    <tr>\n",
              "      <th>25</th>\n",
              "      <td>6</td>\n",
              "      <td>2</td>\n",
              "      <td>0.0833</td>\n",
              "    </tr>\n",
              "    <tr>\n",
              "      <th>26</th>\n",
              "      <td>6</td>\n",
              "      <td>5</td>\n",
              "      <td>0.2500</td>\n",
              "    </tr>\n",
              "    <tr>\n",
              "      <th>27</th>\n",
              "      <td>6</td>\n",
              "      <td>4</td>\n",
              "      <td>0.0833</td>\n",
              "    </tr>\n",
              "    <tr>\n",
              "      <th>28</th>\n",
              "      <td>6</td>\n",
              "      <td>3</td>\n",
              "      <td>0.0833</td>\n",
              "    </tr>\n",
              "    <tr>\n",
              "      <th>29</th>\n",
              "      <td>6</td>\n",
              "      <td>1</td>\n",
              "      <td>0.0833</td>\n",
              "    </tr>\n",
              "    <tr>\n",
              "      <th>30</th>\n",
              "      <td>6 1</td>\n",
              "      <td>2</td>\n",
              "      <td>0.0833</td>\n",
              "    </tr>\n",
              "    <tr>\n",
              "      <th>31</th>\n",
              "      <td>6 3</td>\n",
              "      <td>4</td>\n",
              "      <td>0.0833</td>\n",
              "    </tr>\n",
              "  </tbody>\n",
              "</table>\n",
              "</div>"
            ],
            "text/plain": [
              "   element sequence  support\n",
              "0        1        2   0.1667\n",
              "1        1        5   0.0833\n",
              "2        1        4   0.1667\n",
              "3        1        3   0.1667\n",
              "4      1 2        4   0.0833\n",
              "5      1 3        5   0.0833\n",
              "6      1 4        3   0.0833\n",
              "7        2        6   0.1667\n",
              "8        2        5   0.1667\n",
              "9        2        4   0.2500\n",
              "10       2        3   0.0833\n",
              "11     2 3        4   0.0833\n",
              "12     2 6        5   0.1667\n",
              "13       3        2   0.0833\n",
              "14       3        6   0.0833\n",
              "15       3        5   0.1667\n",
              "16       3        4   0.2500\n",
              "17       3        1   0.0833\n",
              "18     3 2        4   0.0833\n",
              "19     3 5        6   0.0833\n",
              "20       4        3   0.1667\n",
              "21       4        1   0.0833\n",
              "22     4 3        1   0.0833\n",
              "23       5        6   0.1667\n",
              "24     5 6        5   0.0833\n",
              "25       6        2   0.0833\n",
              "26       6        5   0.2500\n",
              "27       6        4   0.0833\n",
              "28       6        3   0.0833\n",
              "29       6        1   0.0833\n",
              "30     6 1        2   0.0833\n",
              "31     6 3        4   0.0833"
            ]
          },
          "metadata": {
            "tags": []
          },
          "execution_count": 31
        }
      ]
    },
    {
      "cell_type": "code",
      "metadata": {
        "id": "J_mS4FKcTHFE"
      },
      "source": [
        "new_inter = final.copy()"
      ],
      "execution_count": null,
      "outputs": []
    },
    {
      "cell_type": "code",
      "metadata": {
        "id": "5ixJyAR_mcvU"
      },
      "source": [
        "#Calculation used for support of X and Support of Y\n",
        "element_support = []\n",
        "sequence_support = []\n",
        "n = len(output1)\n",
        "\n",
        "k = 0\n",
        "for i in range(len(element)):\n",
        "  a = element[i]\n",
        "  c = sequence[k]\n",
        "  k += 1\n",
        "  flag = flag1 = False\n",
        "\n",
        "  for j in range(len(data_final)):\n",
        "    b = str(data_final[\"key\"][j]).replace(\"(\",\"\").replace(\")\",\"\").replace(\"'\",\"\").replace(\",\",\"\")\n",
        "    if a == b:\n",
        "      element_support.append(data_final[\"count\"][j]/n)\n",
        "      flag = True\n",
        "    \n",
        "    if c == b:\n",
        "      sequence_support.append(data_final[\"count\"][j]/n)\n",
        "      flag1 = True\n",
        "    \n",
        "    if flag == True and flag1 == True:\n",
        "      break\n"
      ],
      "execution_count": null,
      "outputs": []
    },
    {
      "cell_type": "code",
      "metadata": {
        "id": "T5ofxn7oXOKL"
      },
      "source": [
        "#Calculating the confidence for all the sequences\n",
        "final[\"confidence\"] = round(final[\"support\"]/pd.Series(element_support),4)"
      ],
      "execution_count": null,
      "outputs": []
    },
    {
      "cell_type": "markdown",
      "metadata": {
        "id": "bawe1boVnBxY"
      },
      "source": [
        "##Lift"
      ]
    },
    {
      "cell_type": "code",
      "metadata": {
        "id": "e9LON5GE1k6d"
      },
      "source": [
        "#Calculation for Lift\n",
        "n = len(output1)\n",
        "num = final[\"support\"]\n",
        "denom = pd.Series(element_support) / pd.Series(sequence_support)\n",
        "fin = num/denom\n",
        "final[\"lift\"] = round(fin,4)"
      ],
      "execution_count": null,
      "outputs": []
    },
    {
      "cell_type": "code",
      "metadata": {
        "colab": {
          "base_uri": "https://localhost:8080/",
          "height": 1000
        },
        "id": "2GuF064KS5vh",
        "outputId": "ff2677ac-8de2-489a-b2ee-55dcaade8a1b"
      },
      "source": [
        "final"
      ],
      "execution_count": null,
      "outputs": [
        {
          "output_type": "execute_result",
          "data": {
            "text/html": [
              "<div>\n",
              "<style scoped>\n",
              "    .dataframe tbody tr th:only-of-type {\n",
              "        vertical-align: middle;\n",
              "    }\n",
              "\n",
              "    .dataframe tbody tr th {\n",
              "        vertical-align: top;\n",
              "    }\n",
              "\n",
              "    .dataframe thead th {\n",
              "        text-align: right;\n",
              "    }\n",
              "</style>\n",
              "<table border=\"1\" class=\"dataframe\">\n",
              "  <thead>\n",
              "    <tr style=\"text-align: right;\">\n",
              "      <th></th>\n",
              "      <th>element</th>\n",
              "      <th>sequence</th>\n",
              "      <th>support</th>\n",
              "      <th>confidence</th>\n",
              "      <th>lift</th>\n",
              "    </tr>\n",
              "  </thead>\n",
              "  <tbody>\n",
              "    <tr>\n",
              "      <th>0</th>\n",
              "      <td>1</td>\n",
              "      <td>2</td>\n",
              "      <td>0.1667</td>\n",
              "      <td>0.4001</td>\n",
              "      <td>0.2000</td>\n",
              "    </tr>\n",
              "    <tr>\n",
              "      <th>1</th>\n",
              "      <td>1</td>\n",
              "      <td>5</td>\n",
              "      <td>0.0833</td>\n",
              "      <td>0.1999</td>\n",
              "      <td>0.1000</td>\n",
              "    </tr>\n",
              "    <tr>\n",
              "      <th>2</th>\n",
              "      <td>1</td>\n",
              "      <td>4</td>\n",
              "      <td>0.1667</td>\n",
              "      <td>0.4001</td>\n",
              "      <td>0.2000</td>\n",
              "    </tr>\n",
              "    <tr>\n",
              "      <th>3</th>\n",
              "      <td>1</td>\n",
              "      <td>3</td>\n",
              "      <td>0.1667</td>\n",
              "      <td>0.4001</td>\n",
              "      <td>0.2334</td>\n",
              "    </tr>\n",
              "    <tr>\n",
              "      <th>4</th>\n",
              "      <td>1 2</td>\n",
              "      <td>4</td>\n",
              "      <td>0.0833</td>\n",
              "      <td>0.4998</td>\n",
              "      <td>0.2499</td>\n",
              "    </tr>\n",
              "    <tr>\n",
              "      <th>5</th>\n",
              "      <td>1 3</td>\n",
              "      <td>5</td>\n",
              "      <td>0.0833</td>\n",
              "      <td>0.4998</td>\n",
              "      <td>0.2499</td>\n",
              "    </tr>\n",
              "    <tr>\n",
              "      <th>6</th>\n",
              "      <td>1 4</td>\n",
              "      <td>3</td>\n",
              "      <td>0.0833</td>\n",
              "      <td>0.4998</td>\n",
              "      <td>0.2916</td>\n",
              "    </tr>\n",
              "    <tr>\n",
              "      <th>7</th>\n",
              "      <td>2</td>\n",
              "      <td>6</td>\n",
              "      <td>0.1667</td>\n",
              "      <td>0.3334</td>\n",
              "      <td>0.1667</td>\n",
              "    </tr>\n",
              "    <tr>\n",
              "      <th>8</th>\n",
              "      <td>2</td>\n",
              "      <td>5</td>\n",
              "      <td>0.1667</td>\n",
              "      <td>0.3334</td>\n",
              "      <td>0.1667</td>\n",
              "    </tr>\n",
              "    <tr>\n",
              "      <th>9</th>\n",
              "      <td>2</td>\n",
              "      <td>4</td>\n",
              "      <td>0.2500</td>\n",
              "      <td>0.5000</td>\n",
              "      <td>0.2500</td>\n",
              "    </tr>\n",
              "    <tr>\n",
              "      <th>10</th>\n",
              "      <td>2</td>\n",
              "      <td>3</td>\n",
              "      <td>0.0833</td>\n",
              "      <td>0.1666</td>\n",
              "      <td>0.0972</td>\n",
              "    </tr>\n",
              "    <tr>\n",
              "      <th>11</th>\n",
              "      <td>2 3</td>\n",
              "      <td>4</td>\n",
              "      <td>0.0833</td>\n",
              "      <td>0.9996</td>\n",
              "      <td>0.4998</td>\n",
              "    </tr>\n",
              "    <tr>\n",
              "      <th>12</th>\n",
              "      <td>2 6</td>\n",
              "      <td>5</td>\n",
              "      <td>0.1667</td>\n",
              "      <td>1.0002</td>\n",
              "      <td>0.5001</td>\n",
              "    </tr>\n",
              "    <tr>\n",
              "      <th>13</th>\n",
              "      <td>3</td>\n",
              "      <td>2</td>\n",
              "      <td>0.0833</td>\n",
              "      <td>0.1428</td>\n",
              "      <td>0.0714</td>\n",
              "    </tr>\n",
              "    <tr>\n",
              "      <th>14</th>\n",
              "      <td>3</td>\n",
              "      <td>6</td>\n",
              "      <td>0.0833</td>\n",
              "      <td>0.1428</td>\n",
              "      <td>0.0714</td>\n",
              "    </tr>\n",
              "    <tr>\n",
              "      <th>15</th>\n",
              "      <td>3</td>\n",
              "      <td>5</td>\n",
              "      <td>0.1667</td>\n",
              "      <td>0.2858</td>\n",
              "      <td>0.1429</td>\n",
              "    </tr>\n",
              "    <tr>\n",
              "      <th>16</th>\n",
              "      <td>3</td>\n",
              "      <td>4</td>\n",
              "      <td>0.2500</td>\n",
              "      <td>0.4286</td>\n",
              "      <td>0.2143</td>\n",
              "    </tr>\n",
              "    <tr>\n",
              "      <th>17</th>\n",
              "      <td>3</td>\n",
              "      <td>1</td>\n",
              "      <td>0.0833</td>\n",
              "      <td>0.1428</td>\n",
              "      <td>0.0595</td>\n",
              "    </tr>\n",
              "    <tr>\n",
              "      <th>18</th>\n",
              "      <td>3 2</td>\n",
              "      <td>4</td>\n",
              "      <td>0.0833</td>\n",
              "      <td>0.9996</td>\n",
              "      <td>0.4998</td>\n",
              "    </tr>\n",
              "    <tr>\n",
              "      <th>19</th>\n",
              "      <td>3 5</td>\n",
              "      <td>6</td>\n",
              "      <td>0.0833</td>\n",
              "      <td>0.4998</td>\n",
              "      <td>0.2499</td>\n",
              "    </tr>\n",
              "    <tr>\n",
              "      <th>20</th>\n",
              "      <td>4</td>\n",
              "      <td>3</td>\n",
              "      <td>0.1667</td>\n",
              "      <td>0.3334</td>\n",
              "      <td>0.1945</td>\n",
              "    </tr>\n",
              "    <tr>\n",
              "      <th>21</th>\n",
              "      <td>4</td>\n",
              "      <td>1</td>\n",
              "      <td>0.0833</td>\n",
              "      <td>0.1666</td>\n",
              "      <td>0.0694</td>\n",
              "    </tr>\n",
              "    <tr>\n",
              "      <th>22</th>\n",
              "      <td>4 3</td>\n",
              "      <td>1</td>\n",
              "      <td>0.0833</td>\n",
              "      <td>0.4998</td>\n",
              "      <td>0.2082</td>\n",
              "    </tr>\n",
              "    <tr>\n",
              "      <th>23</th>\n",
              "      <td>5</td>\n",
              "      <td>6</td>\n",
              "      <td>0.1667</td>\n",
              "      <td>0.3334</td>\n",
              "      <td>0.1667</td>\n",
              "    </tr>\n",
              "    <tr>\n",
              "      <th>24</th>\n",
              "      <td>5 6</td>\n",
              "      <td>5</td>\n",
              "      <td>0.0833</td>\n",
              "      <td>0.4998</td>\n",
              "      <td>0.2499</td>\n",
              "    </tr>\n",
              "    <tr>\n",
              "      <th>25</th>\n",
              "      <td>6</td>\n",
              "      <td>2</td>\n",
              "      <td>0.0833</td>\n",
              "      <td>0.1666</td>\n",
              "      <td>0.0833</td>\n",
              "    </tr>\n",
              "    <tr>\n",
              "      <th>26</th>\n",
              "      <td>6</td>\n",
              "      <td>5</td>\n",
              "      <td>0.2500</td>\n",
              "      <td>0.5000</td>\n",
              "      <td>0.2500</td>\n",
              "    </tr>\n",
              "    <tr>\n",
              "      <th>27</th>\n",
              "      <td>6</td>\n",
              "      <td>4</td>\n",
              "      <td>0.0833</td>\n",
              "      <td>0.1666</td>\n",
              "      <td>0.0833</td>\n",
              "    </tr>\n",
              "    <tr>\n",
              "      <th>28</th>\n",
              "      <td>6</td>\n",
              "      <td>3</td>\n",
              "      <td>0.0833</td>\n",
              "      <td>0.1666</td>\n",
              "      <td>0.0972</td>\n",
              "    </tr>\n",
              "    <tr>\n",
              "      <th>29</th>\n",
              "      <td>6</td>\n",
              "      <td>1</td>\n",
              "      <td>0.0833</td>\n",
              "      <td>0.1666</td>\n",
              "      <td>0.0694</td>\n",
              "    </tr>\n",
              "    <tr>\n",
              "      <th>30</th>\n",
              "      <td>6 1</td>\n",
              "      <td>2</td>\n",
              "      <td>0.0833</td>\n",
              "      <td>0.9996</td>\n",
              "      <td>0.4998</td>\n",
              "    </tr>\n",
              "    <tr>\n",
              "      <th>31</th>\n",
              "      <td>6 3</td>\n",
              "      <td>4</td>\n",
              "      <td>0.0833</td>\n",
              "      <td>0.9996</td>\n",
              "      <td>0.4998</td>\n",
              "    </tr>\n",
              "  </tbody>\n",
              "</table>\n",
              "</div>"
            ],
            "text/plain": [
              "   element sequence  support  confidence    lift\n",
              "0        1        2   0.1667      0.4001  0.2000\n",
              "1        1        5   0.0833      0.1999  0.1000\n",
              "2        1        4   0.1667      0.4001  0.2000\n",
              "3        1        3   0.1667      0.4001  0.2334\n",
              "4      1 2        4   0.0833      0.4998  0.2499\n",
              "5      1 3        5   0.0833      0.4998  0.2499\n",
              "6      1 4        3   0.0833      0.4998  0.2916\n",
              "7        2        6   0.1667      0.3334  0.1667\n",
              "8        2        5   0.1667      0.3334  0.1667\n",
              "9        2        4   0.2500      0.5000  0.2500\n",
              "10       2        3   0.0833      0.1666  0.0972\n",
              "11     2 3        4   0.0833      0.9996  0.4998\n",
              "12     2 6        5   0.1667      1.0002  0.5001\n",
              "13       3        2   0.0833      0.1428  0.0714\n",
              "14       3        6   0.0833      0.1428  0.0714\n",
              "15       3        5   0.1667      0.2858  0.1429\n",
              "16       3        4   0.2500      0.4286  0.2143\n",
              "17       3        1   0.0833      0.1428  0.0595\n",
              "18     3 2        4   0.0833      0.9996  0.4998\n",
              "19     3 5        6   0.0833      0.4998  0.2499\n",
              "20       4        3   0.1667      0.3334  0.1945\n",
              "21       4        1   0.0833      0.1666  0.0694\n",
              "22     4 3        1   0.0833      0.4998  0.2082\n",
              "23       5        6   0.1667      0.3334  0.1667\n",
              "24     5 6        5   0.0833      0.4998  0.2499\n",
              "25       6        2   0.0833      0.1666  0.0833\n",
              "26       6        5   0.2500      0.5000  0.2500\n",
              "27       6        4   0.0833      0.1666  0.0833\n",
              "28       6        3   0.0833      0.1666  0.0972\n",
              "29       6        1   0.0833      0.1666  0.0694\n",
              "30     6 1        2   0.0833      0.9996  0.4998\n",
              "31     6 3        4   0.0833      0.9996  0.4998"
            ]
          },
          "metadata": {
            "tags": []
          },
          "execution_count": 36
        }
      ]
    },
    {
      "cell_type": "code",
      "metadata": {
        "id": "4ifPMigJPTiZ"
      },
      "source": [
        "## e -> s"
      ],
      "execution_count": null,
      "outputs": []
    },
    {
      "cell_type": "code",
      "metadata": {
        "id": "zinay98cCrpL"
      },
      "source": [
        "final\n",
        "e_to_s = list()\n",
        "e_to_s = final.lift"
      ],
      "execution_count": null,
      "outputs": []
    },
    {
      "cell_type": "code",
      "metadata": {
        "colab": {
          "base_uri": "https://localhost:8080/",
          "height": 408
        },
        "id": "L2HkbuwkJggD",
        "outputId": "00a9463a-2e7e-4144-fd2f-a3e51f9acb88"
      },
      "source": [
        "output1"
      ],
      "execution_count": null,
      "outputs": [
        {
          "output_type": "execute_result",
          "data": {
            "text/html": [
              "<div>\n",
              "<style scoped>\n",
              "    .dataframe tbody tr th:only-of-type {\n",
              "        vertical-align: middle;\n",
              "    }\n",
              "\n",
              "    .dataframe tbody tr th {\n",
              "        vertical-align: top;\n",
              "    }\n",
              "\n",
              "    .dataframe thead th {\n",
              "        text-align: right;\n",
              "    }\n",
              "</style>\n",
              "<table border=\"1\" class=\"dataframe\">\n",
              "  <thead>\n",
              "    <tr style=\"text-align: right;\">\n",
              "      <th></th>\n",
              "      <th>id</th>\n",
              "      <th>procedure</th>\n",
              "    </tr>\n",
              "  </thead>\n",
              "  <tbody>\n",
              "    <tr>\n",
              "      <th>0</th>\n",
              "      <td>1</td>\n",
              "      <td>([2, 6], [5])</td>\n",
              "    </tr>\n",
              "    <tr>\n",
              "      <th>1</th>\n",
              "      <td>2</td>\n",
              "      <td>([4], [3], [1])</td>\n",
              "    </tr>\n",
              "    <tr>\n",
              "      <th>2</th>\n",
              "      <td>3</td>\n",
              "      <td>([3], [2], [4])</td>\n",
              "    </tr>\n",
              "    <tr>\n",
              "      <th>3</th>\n",
              "      <td>4</td>\n",
              "      <td>([1, 4], [3])</td>\n",
              "    </tr>\n",
              "    <tr>\n",
              "      <th>4</th>\n",
              "      <td>5</td>\n",
              "      <td>([5], [6], [5])</td>\n",
              "    </tr>\n",
              "    <tr>\n",
              "      <th>5</th>\n",
              "      <td>6</td>\n",
              "      <td>([1], [2], [4])</td>\n",
              "    </tr>\n",
              "    <tr>\n",
              "      <th>6</th>\n",
              "      <td>7</td>\n",
              "      <td>([6], [3, 4])</td>\n",
              "    </tr>\n",
              "    <tr>\n",
              "      <th>7</th>\n",
              "      <td>8</td>\n",
              "      <td>([2], [3, 4])</td>\n",
              "    </tr>\n",
              "    <tr>\n",
              "      <th>8</th>\n",
              "      <td>9</td>\n",
              "      <td>([2], [6], [5])</td>\n",
              "    </tr>\n",
              "    <tr>\n",
              "      <th>9</th>\n",
              "      <td>10</td>\n",
              "      <td>([1, 3], [5])</td>\n",
              "    </tr>\n",
              "    <tr>\n",
              "      <th>10</th>\n",
              "      <td>11</td>\n",
              "      <td>([6], [1], [2])</td>\n",
              "    </tr>\n",
              "    <tr>\n",
              "      <th>11</th>\n",
              "      <td>12</td>\n",
              "      <td>([3], [5, 6])</td>\n",
              "    </tr>\n",
              "  </tbody>\n",
              "</table>\n",
              "</div>"
            ],
            "text/plain": [
              "    id        procedure\n",
              "0    1    ([2, 6], [5])\n",
              "1    2  ([4], [3], [1])\n",
              "2    3  ([3], [2], [4])\n",
              "3    4    ([1, 4], [3])\n",
              "4    5  ([5], [6], [5])\n",
              "5    6  ([1], [2], [4])\n",
              "6    7    ([6], [3, 4])\n",
              "7    8    ([2], [3, 4])\n",
              "8    9  ([2], [6], [5])\n",
              "9   10    ([1, 3], [5])\n",
              "10  11  ([6], [1], [2])\n",
              "11  12    ([3], [5, 6])"
            ]
          },
          "metadata": {
            "tags": []
          },
          "execution_count": 39
        }
      ]
    },
    {
      "cell_type": "markdown",
      "metadata": {
        "id": "gyRwAZqaTZOA"
      },
      "source": [
        "##New Interesting Measures"
      ]
    },
    {
      "cell_type": "markdown",
      "metadata": {
        "id": "N5BoPtreFT14"
      },
      "source": [
        "# New Section"
      ]
    },
    {
      "cell_type": "code",
      "metadata": {
        "id": "QPC3tU4yTRYH"
      },
      "source": [
        "P = pd.Series(element_support) * len(output1)\n",
        "N = pd.Series(sequence_support) * len(output1)"
      ],
      "execution_count": null,
      "outputs": []
    },
    {
      "cell_type": "code",
      "metadata": {
        "id": "b4QAMyQgTVk0"
      },
      "source": [
        "p = []\n",
        "n = []\n",
        "for i in range(len(final)):\n",
        "  a = final[\"element\"][i]\n",
        "  b = final[\"sequence\"][i]\n",
        "  count = 0\n",
        "  count1 = 0\n",
        "  for j in range(len(final)):\n",
        "    if a == final[\"element\"][j]:\n",
        "      count += 1\n",
        "    if b == final[\"sequence\"][j]:\n",
        "      count1 += 1\n",
        "  p.append(count)\n",
        "  n.append(count1)"
      ],
      "execution_count": null,
      "outputs": []
    },
    {
      "cell_type": "code",
      "metadata": {
        "id": "JO0bytFiTYLX"
      },
      "source": [
        "p = pd.Series(p)\n",
        "n = pd.Series(n)"
      ],
      "execution_count": null,
      "outputs": []
    },
    {
      "cell_type": "code",
      "metadata": {
        "id": "mLvSrTvCTfZw"
      },
      "source": [
        "new_inter[\"g\"] = round(p/(p+n+2),3)\n",
        "new_inter[\"wLap\"] = round((p+1)*(P+N)/(p+n+2)*P,3)\n",
        "new_inter[\"LS\"] = round(p*N/(n*P),3)\n",
        "new_inter[\"Rss\"] = round((p/P) - (n/N),3)\n",
        "new_inter[\"MS\"] = round(p/(n+P),3)"
      ],
      "execution_count": null,
      "outputs": []
    },
    {
      "cell_type": "code",
      "metadata": {
        "id": "dffzs5uIT0Xf"
      },
      "source": [
        "Cohen = ((P+N)*(p/(p+n))) - P / (((P+N)/2) * ((p+n+P)/(p+n))) - P\n",
        "Coleman = (((P+N) * (p/(p+n))) - P) / N"
      ],
      "execution_count": null,
      "outputs": []
    },
    {
      "cell_type": "code",
      "metadata": {
        "id": "UkXICpHpT33G"
      },
      "source": [
        "new_inter[\"C1\"] = round(Coleman * (2 + Cohen)/3,3)\n",
        "new_inter[\"C2\"] = round(Coleman * 0.5*(1+(p/P)),3)"
      ],
      "execution_count": null,
      "outputs": []
    },
    {
      "cell_type": "code",
      "metadata": {
        "id": "jPtejzmSPTia",
        "colab": {
          "base_uri": "https://localhost:8080/",
          "height": 1000
        },
        "outputId": "de30008c-ea7f-4c9c-fae0-cb15ed705307"
      },
      "source": [
        "new_inter"
      ],
      "execution_count": null,
      "outputs": [
        {
          "output_type": "execute_result",
          "data": {
            "text/html": [
              "<div>\n",
              "<style scoped>\n",
              "    .dataframe tbody tr th:only-of-type {\n",
              "        vertical-align: middle;\n",
              "    }\n",
              "\n",
              "    .dataframe tbody tr th {\n",
              "        vertical-align: top;\n",
              "    }\n",
              "\n",
              "    .dataframe thead th {\n",
              "        text-align: right;\n",
              "    }\n",
              "</style>\n",
              "<table border=\"1\" class=\"dataframe\">\n",
              "  <thead>\n",
              "    <tr style=\"text-align: right;\">\n",
              "      <th></th>\n",
              "      <th>element</th>\n",
              "      <th>sequence</th>\n",
              "      <th>support</th>\n",
              "      <th>g</th>\n",
              "      <th>wLap</th>\n",
              "      <th>LS</th>\n",
              "      <th>Rss</th>\n",
              "      <th>MS</th>\n",
              "      <th>C1</th>\n",
              "      <th>C2</th>\n",
              "    </tr>\n",
              "  </thead>\n",
              "  <tbody>\n",
              "    <tr>\n",
              "      <th>0</th>\n",
              "      <td>1</td>\n",
              "      <td>2</td>\n",
              "      <td>0.1667</td>\n",
              "      <td>0.400</td>\n",
              "      <td>27.500</td>\n",
              "      <td>1.200</td>\n",
              "      <td>0.133</td>\n",
              "      <td>0.444</td>\n",
              "      <td>0.054</td>\n",
              "      <td>0.075</td>\n",
              "    </tr>\n",
              "    <tr>\n",
              "      <th>1</th>\n",
              "      <td>1</td>\n",
              "      <td>5</td>\n",
              "      <td>0.0833</td>\n",
              "      <td>0.308</td>\n",
              "      <td>21.154</td>\n",
              "      <td>0.686</td>\n",
              "      <td>-0.367</td>\n",
              "      <td>0.333</td>\n",
              "      <td>-0.021</td>\n",
              "      <td>-0.150</td>\n",
              "    </tr>\n",
              "    <tr>\n",
              "      <th>2</th>\n",
              "      <td>1</td>\n",
              "      <td>4</td>\n",
              "      <td>0.1667</td>\n",
              "      <td>0.286</td>\n",
              "      <td>19.643</td>\n",
              "      <td>0.600</td>\n",
              "      <td>-0.533</td>\n",
              "      <td>0.308</td>\n",
              "      <td>-0.002</td>\n",
              "      <td>-0.200</td>\n",
              "    </tr>\n",
              "    <tr>\n",
              "      <th>3</th>\n",
              "      <td>1</td>\n",
              "      <td>3</td>\n",
              "      <td>0.1667</td>\n",
              "      <td>0.364</td>\n",
              "      <td>27.273</td>\n",
              "      <td>1.120</td>\n",
              "      <td>0.086</td>\n",
              "      <td>0.400</td>\n",
              "      <td>0.029</td>\n",
              "      <td>0.043</td>\n",
              "    </tr>\n",
              "    <tr>\n",
              "      <th>4</th>\n",
              "      <td>1 2</td>\n",
              "      <td>4</td>\n",
              "      <td>0.0833</td>\n",
              "      <td>0.091</td>\n",
              "      <td>2.909</td>\n",
              "      <td>0.375</td>\n",
              "      <td>-0.833</td>\n",
              "      <td>0.100</td>\n",
              "      <td>-0.030</td>\n",
              "      <td>-0.139</td>\n",
              "    </tr>\n",
              "    <tr>\n",
              "      <th>5</th>\n",
              "      <td>1 3</td>\n",
              "      <td>5</td>\n",
              "      <td>0.0833</td>\n",
              "      <td>0.100</td>\n",
              "      <td>3.200</td>\n",
              "      <td>0.429</td>\n",
              "      <td>-0.667</td>\n",
              "      <td>0.111</td>\n",
              "      <td>-0.033</td>\n",
              "      <td>-0.125</td>\n",
              "    </tr>\n",
              "    <tr>\n",
              "      <th>6</th>\n",
              "      <td>1 4</td>\n",
              "      <td>3</td>\n",
              "      <td>0.0833</td>\n",
              "      <td>0.125</td>\n",
              "      <td>4.500</td>\n",
              "      <td>0.700</td>\n",
              "      <td>-0.214</td>\n",
              "      <td>0.143</td>\n",
              "      <td>-0.028</td>\n",
              "      <td>-0.054</td>\n",
              "    </tr>\n",
              "    <tr>\n",
              "      <th>7</th>\n",
              "      <td>2</td>\n",
              "      <td>6</td>\n",
              "      <td>0.1667</td>\n",
              "      <td>0.400</td>\n",
              "      <td>36.000</td>\n",
              "      <td>1.000</td>\n",
              "      <td>0.000</td>\n",
              "      <td>0.400</td>\n",
              "      <td>0.000</td>\n",
              "      <td>0.000</td>\n",
              "    </tr>\n",
              "    <tr>\n",
              "      <th>8</th>\n",
              "      <td>2</td>\n",
              "      <td>5</td>\n",
              "      <td>0.1667</td>\n",
              "      <td>0.308</td>\n",
              "      <td>27.692</td>\n",
              "      <td>0.571</td>\n",
              "      <td>-0.500</td>\n",
              "      <td>0.308</td>\n",
              "      <td>0.026</td>\n",
              "      <td>-0.227</td>\n",
              "    </tr>\n",
              "    <tr>\n",
              "      <th>9</th>\n",
              "      <td>2</td>\n",
              "      <td>4</td>\n",
              "      <td>0.2500</td>\n",
              "      <td>0.286</td>\n",
              "      <td>25.714</td>\n",
              "      <td>0.500</td>\n",
              "      <td>-0.667</td>\n",
              "      <td>0.286</td>\n",
              "      <td>0.074</td>\n",
              "      <td>-0.278</td>\n",
              "    </tr>\n",
              "    <tr>\n",
              "      <th>10</th>\n",
              "      <td>2</td>\n",
              "      <td>3</td>\n",
              "      <td>0.0833</td>\n",
              "      <td>0.364</td>\n",
              "      <td>35.455</td>\n",
              "      <td>0.933</td>\n",
              "      <td>-0.048</td>\n",
              "      <td>0.364</td>\n",
              "      <td>-0.013</td>\n",
              "      <td>-0.026</td>\n",
              "    </tr>\n",
              "    <tr>\n",
              "      <th>11</th>\n",
              "      <td>2 3</td>\n",
              "      <td>4</td>\n",
              "      <td>0.0833</td>\n",
              "      <td>0.091</td>\n",
              "      <td>1.273</td>\n",
              "      <td>0.750</td>\n",
              "      <td>-0.333</td>\n",
              "      <td>0.111</td>\n",
              "      <td>-0.019</td>\n",
              "      <td>-0.037</td>\n",
              "    </tr>\n",
              "    <tr>\n",
              "      <th>12</th>\n",
              "      <td>2 6</td>\n",
              "      <td>5</td>\n",
              "      <td>0.1667</td>\n",
              "      <td>0.100</td>\n",
              "      <td>3.200</td>\n",
              "      <td>0.429</td>\n",
              "      <td>-0.667</td>\n",
              "      <td>0.111</td>\n",
              "      <td>-0.033</td>\n",
              "      <td>-0.125</td>\n",
              "    </tr>\n",
              "    <tr>\n",
              "      <th>13</th>\n",
              "      <td>3</td>\n",
              "      <td>2</td>\n",
              "      <td>0.0833</td>\n",
              "      <td>0.455</td>\n",
              "      <td>49.636</td>\n",
              "      <td>1.071</td>\n",
              "      <td>0.048</td>\n",
              "      <td>0.455</td>\n",
              "      <td>0.020</td>\n",
              "      <td>0.032</td>\n",
              "    </tr>\n",
              "    <tr>\n",
              "      <th>14</th>\n",
              "      <td>3</td>\n",
              "      <td>6</td>\n",
              "      <td>0.0833</td>\n",
              "      <td>0.455</td>\n",
              "      <td>49.636</td>\n",
              "      <td>1.071</td>\n",
              "      <td>0.048</td>\n",
              "      <td>0.455</td>\n",
              "      <td>0.020</td>\n",
              "      <td>0.032</td>\n",
              "    </tr>\n",
              "    <tr>\n",
              "      <th>15</th>\n",
              "      <td>3</td>\n",
              "      <td>5</td>\n",
              "      <td>0.1667</td>\n",
              "      <td>0.357</td>\n",
              "      <td>39.000</td>\n",
              "      <td>0.612</td>\n",
              "      <td>-0.452</td>\n",
              "      <td>0.357</td>\n",
              "      <td>0.023</td>\n",
              "      <td>-0.226</td>\n",
              "    </tr>\n",
              "    <tr>\n",
              "      <th>16</th>\n",
              "      <td>3</td>\n",
              "      <td>4</td>\n",
              "      <td>0.2500</td>\n",
              "      <td>0.333</td>\n",
              "      <td>36.400</td>\n",
              "      <td>0.536</td>\n",
              "      <td>-0.619</td>\n",
              "      <td>0.333</td>\n",
              "      <td>0.078</td>\n",
              "      <td>-0.286</td>\n",
              "    </tr>\n",
              "    <tr>\n",
              "      <th>17</th>\n",
              "      <td>3</td>\n",
              "      <td>1</td>\n",
              "      <td>0.0833</td>\n",
              "      <td>0.455</td>\n",
              "      <td>45.818</td>\n",
              "      <td>0.893</td>\n",
              "      <td>-0.086</td>\n",
              "      <td>0.455</td>\n",
              "      <td>-0.022</td>\n",
              "      <td>-0.057</td>\n",
              "    </tr>\n",
              "    <tr>\n",
              "      <th>18</th>\n",
              "      <td>3 2</td>\n",
              "      <td>4</td>\n",
              "      <td>0.0833</td>\n",
              "      <td>0.091</td>\n",
              "      <td>1.273</td>\n",
              "      <td>0.750</td>\n",
              "      <td>-0.333</td>\n",
              "      <td>0.111</td>\n",
              "      <td>-0.019</td>\n",
              "      <td>-0.037</td>\n",
              "    </tr>\n",
              "    <tr>\n",
              "      <th>19</th>\n",
              "      <td>3 5</td>\n",
              "      <td>6</td>\n",
              "      <td>0.0833</td>\n",
              "      <td>0.143</td>\n",
              "      <td>4.571</td>\n",
              "      <td>0.750</td>\n",
              "      <td>-0.167</td>\n",
              "      <td>0.167</td>\n",
              "      <td>-0.028</td>\n",
              "      <td>-0.050</td>\n",
              "    </tr>\n",
              "    <tr>\n",
              "      <th>20</th>\n",
              "      <td>4</td>\n",
              "      <td>3</td>\n",
              "      <td>0.1667</td>\n",
              "      <td>0.222</td>\n",
              "      <td>26.000</td>\n",
              "      <td>0.467</td>\n",
              "      <td>-0.381</td>\n",
              "      <td>0.182</td>\n",
              "      <td>0.085</td>\n",
              "      <td>-0.218</td>\n",
              "    </tr>\n",
              "    <tr>\n",
              "      <th>21</th>\n",
              "      <td>4</td>\n",
              "      <td>1</td>\n",
              "      <td>0.0833</td>\n",
              "      <td>0.250</td>\n",
              "      <td>24.750</td>\n",
              "      <td>0.417</td>\n",
              "      <td>-0.467</td>\n",
              "      <td>0.200</td>\n",
              "      <td>0.137</td>\n",
              "      <td>-0.311</td>\n",
              "    </tr>\n",
              "    <tr>\n",
              "      <th>22</th>\n",
              "      <td>4 3</td>\n",
              "      <td>1</td>\n",
              "      <td>0.0833</td>\n",
              "      <td>0.143</td>\n",
              "      <td>4.000</td>\n",
              "      <td>0.625</td>\n",
              "      <td>-0.300</td>\n",
              "      <td>0.167</td>\n",
              "      <td>-0.040</td>\n",
              "      <td>-0.090</td>\n",
              "    </tr>\n",
              "    <tr>\n",
              "      <th>23</th>\n",
              "      <td>5</td>\n",
              "      <td>6</td>\n",
              "      <td>0.1667</td>\n",
              "      <td>0.143</td>\n",
              "      <td>20.571</td>\n",
              "      <td>0.250</td>\n",
              "      <td>-0.500</td>\n",
              "      <td>0.100</td>\n",
              "      <td>0.411</td>\n",
              "      <td>-0.350</td>\n",
              "    </tr>\n",
              "    <tr>\n",
              "      <th>24</th>\n",
              "      <td>5 6</td>\n",
              "      <td>5</td>\n",
              "      <td>0.0833</td>\n",
              "      <td>0.100</td>\n",
              "      <td>3.200</td>\n",
              "      <td>0.429</td>\n",
              "      <td>-0.667</td>\n",
              "      <td>0.111</td>\n",
              "      <td>-0.033</td>\n",
              "      <td>-0.125</td>\n",
              "    </tr>\n",
              "    <tr>\n",
              "      <th>25</th>\n",
              "      <td>6</td>\n",
              "      <td>2</td>\n",
              "      <td>0.0833</td>\n",
              "      <td>0.455</td>\n",
              "      <td>39.273</td>\n",
              "      <td>1.250</td>\n",
              "      <td>0.167</td>\n",
              "      <td>0.500</td>\n",
              "      <td>0.077</td>\n",
              "      <td>0.102</td>\n",
              "    </tr>\n",
              "    <tr>\n",
              "      <th>26</th>\n",
              "      <td>6</td>\n",
              "      <td>5</td>\n",
              "      <td>0.2500</td>\n",
              "      <td>0.357</td>\n",
              "      <td>30.857</td>\n",
              "      <td>0.714</td>\n",
              "      <td>-0.333</td>\n",
              "      <td>0.385</td>\n",
              "      <td>-0.019</td>\n",
              "      <td>-0.153</td>\n",
              "    </tr>\n",
              "    <tr>\n",
              "      <th>27</th>\n",
              "      <td>6</td>\n",
              "      <td>4</td>\n",
              "      <td>0.0833</td>\n",
              "      <td>0.333</td>\n",
              "      <td>28.800</td>\n",
              "      <td>0.625</td>\n",
              "      <td>-0.500</td>\n",
              "      <td>0.357</td>\n",
              "      <td>0.005</td>\n",
              "      <td>-0.212</td>\n",
              "    </tr>\n",
              "    <tr>\n",
              "      <th>28</th>\n",
              "      <td>6</td>\n",
              "      <td>3</td>\n",
              "      <td>0.0833</td>\n",
              "      <td>0.417</td>\n",
              "      <td>39.000</td>\n",
              "      <td>1.167</td>\n",
              "      <td>0.119</td>\n",
              "      <td>0.455</td>\n",
              "      <td>0.046</td>\n",
              "      <td>0.065</td>\n",
              "    </tr>\n",
              "    <tr>\n",
              "      <th>29</th>\n",
              "      <td>6</td>\n",
              "      <td>1</td>\n",
              "      <td>0.0833</td>\n",
              "      <td>0.455</td>\n",
              "      <td>36.000</td>\n",
              "      <td>1.042</td>\n",
              "      <td>0.033</td>\n",
              "      <td>0.500</td>\n",
              "      <td>0.011</td>\n",
              "      <td>0.020</td>\n",
              "    </tr>\n",
              "    <tr>\n",
              "      <th>30</th>\n",
              "      <td>6 1</td>\n",
              "      <td>2</td>\n",
              "      <td>0.0833</td>\n",
              "      <td>0.143</td>\n",
              "      <td>2.000</td>\n",
              "      <td>1.500</td>\n",
              "      <td>0.333</td>\n",
              "      <td>0.200</td>\n",
              "      <td>0.048</td>\n",
              "      <td>0.067</td>\n",
              "    </tr>\n",
              "    <tr>\n",
              "      <th>31</th>\n",
              "      <td>6 3</td>\n",
              "      <td>4</td>\n",
              "      <td>0.0833</td>\n",
              "      <td>0.091</td>\n",
              "      <td>1.273</td>\n",
              "      <td>0.750</td>\n",
              "      <td>-0.333</td>\n",
              "      <td>0.111</td>\n",
              "      <td>-0.019</td>\n",
              "      <td>-0.037</td>\n",
              "    </tr>\n",
              "  </tbody>\n",
              "</table>\n",
              "</div>"
            ],
            "text/plain": [
              "   element sequence  support      g    wLap     LS    Rss     MS     C1     C2\n",
              "0        1        2   0.1667  0.400  27.500  1.200  0.133  0.444  0.054  0.075\n",
              "1        1        5   0.0833  0.308  21.154  0.686 -0.367  0.333 -0.021 -0.150\n",
              "2        1        4   0.1667  0.286  19.643  0.600 -0.533  0.308 -0.002 -0.200\n",
              "3        1        3   0.1667  0.364  27.273  1.120  0.086  0.400  0.029  0.043\n",
              "4      1 2        4   0.0833  0.091   2.909  0.375 -0.833  0.100 -0.030 -0.139\n",
              "5      1 3        5   0.0833  0.100   3.200  0.429 -0.667  0.111 -0.033 -0.125\n",
              "6      1 4        3   0.0833  0.125   4.500  0.700 -0.214  0.143 -0.028 -0.054\n",
              "7        2        6   0.1667  0.400  36.000  1.000  0.000  0.400  0.000  0.000\n",
              "8        2        5   0.1667  0.308  27.692  0.571 -0.500  0.308  0.026 -0.227\n",
              "9        2        4   0.2500  0.286  25.714  0.500 -0.667  0.286  0.074 -0.278\n",
              "10       2        3   0.0833  0.364  35.455  0.933 -0.048  0.364 -0.013 -0.026\n",
              "11     2 3        4   0.0833  0.091   1.273  0.750 -0.333  0.111 -0.019 -0.037\n",
              "12     2 6        5   0.1667  0.100   3.200  0.429 -0.667  0.111 -0.033 -0.125\n",
              "13       3        2   0.0833  0.455  49.636  1.071  0.048  0.455  0.020  0.032\n",
              "14       3        6   0.0833  0.455  49.636  1.071  0.048  0.455  0.020  0.032\n",
              "15       3        5   0.1667  0.357  39.000  0.612 -0.452  0.357  0.023 -0.226\n",
              "16       3        4   0.2500  0.333  36.400  0.536 -0.619  0.333  0.078 -0.286\n",
              "17       3        1   0.0833  0.455  45.818  0.893 -0.086  0.455 -0.022 -0.057\n",
              "18     3 2        4   0.0833  0.091   1.273  0.750 -0.333  0.111 -0.019 -0.037\n",
              "19     3 5        6   0.0833  0.143   4.571  0.750 -0.167  0.167 -0.028 -0.050\n",
              "20       4        3   0.1667  0.222  26.000  0.467 -0.381  0.182  0.085 -0.218\n",
              "21       4        1   0.0833  0.250  24.750  0.417 -0.467  0.200  0.137 -0.311\n",
              "22     4 3        1   0.0833  0.143   4.000  0.625 -0.300  0.167 -0.040 -0.090\n",
              "23       5        6   0.1667  0.143  20.571  0.250 -0.500  0.100  0.411 -0.350\n",
              "24     5 6        5   0.0833  0.100   3.200  0.429 -0.667  0.111 -0.033 -0.125\n",
              "25       6        2   0.0833  0.455  39.273  1.250  0.167  0.500  0.077  0.102\n",
              "26       6        5   0.2500  0.357  30.857  0.714 -0.333  0.385 -0.019 -0.153\n",
              "27       6        4   0.0833  0.333  28.800  0.625 -0.500  0.357  0.005 -0.212\n",
              "28       6        3   0.0833  0.417  39.000  1.167  0.119  0.455  0.046  0.065\n",
              "29       6        1   0.0833  0.455  36.000  1.042  0.033  0.500  0.011  0.020\n",
              "30     6 1        2   0.0833  0.143   2.000  1.500  0.333  0.200  0.048  0.067\n",
              "31     6 3        4   0.0833  0.091   1.273  0.750 -0.333  0.111 -0.019 -0.037"
            ]
          },
          "metadata": {
            "tags": []
          },
          "execution_count": 46
        }
      ]
    },
    {
      "cell_type": "code",
      "metadata": {
        "id": "lIc2pzVtPTia"
      },
      "source": [
        ""
      ],
      "execution_count": null,
      "outputs": []
    },
    {
      "cell_type": "code",
      "metadata": {
        "id": "LyZBGx4EPqUr"
      },
      "source": [
        "conf_thresh = 0.4\n",
        "lift_thresh = 1.0\n",
        "filter = pd.DataFrame([final.loc[i] for i in range(len(final)) if final[\"confidence\"][i] >= conf_thresh and final[\"lift\"][i] >= lift_thresh]).reset_index(drop = True)"
      ],
      "execution_count": null,
      "outputs": []
    },
    {
      "cell_type": "code",
      "metadata": {
        "colab": {
          "base_uri": "https://localhost:8080/",
          "height": 32
        },
        "id": "b3BnSiV5iK88",
        "outputId": "52ae6314-8d04-4883-dda5-809250c6952e"
      },
      "source": [
        "filter"
      ],
      "execution_count": null,
      "outputs": [
        {
          "output_type": "execute_result",
          "data": {
            "text/html": [
              "<div>\n",
              "<style scoped>\n",
              "    .dataframe tbody tr th:only-of-type {\n",
              "        vertical-align: middle;\n",
              "    }\n",
              "\n",
              "    .dataframe tbody tr th {\n",
              "        vertical-align: top;\n",
              "    }\n",
              "\n",
              "    .dataframe thead th {\n",
              "        text-align: right;\n",
              "    }\n",
              "</style>\n",
              "<table border=\"1\" class=\"dataframe\">\n",
              "  <thead>\n",
              "    <tr style=\"text-align: right;\">\n",
              "      <th></th>\n",
              "    </tr>\n",
              "  </thead>\n",
              "  <tbody>\n",
              "  </tbody>\n",
              "</table>\n",
              "</div>"
            ],
            "text/plain": [
              "Empty DataFrame\n",
              "Columns: []\n",
              "Index: []"
            ]
          },
          "metadata": {
            "tags": []
          },
          "execution_count": 48
        }
      ]
    },
    {
      "cell_type": "code",
      "metadata": {
        "id": "Pf6hvJLDPTib"
      },
      "source": [
        "# Creation of the categories."
      ],
      "execution_count": null,
      "outputs": []
    },
    {
      "cell_type": "code",
      "metadata": {
        "id": "B-KYkcFHkFHl",
        "scrolled": true,
        "colab": {
          "base_uri": "https://localhost:8080/",
          "height": 645
        },
        "outputId": "308186ac-ff9d-471d-d953-f7e00926f51a"
      },
      "source": [
        "data_cate = pd.read_excel(\"/content/drive/MyDrive/hospital_trial_extra.xlsx\")\n",
        "print(data_cate)\n",
        "data_cate.rename(columns = {\"User id\":\"id\"},inplace=True)\n",
        "data_cate"
      ],
      "execution_count": null,
      "outputs": [
        {
          "output_type": "stream",
          "text": [
            "    User id gender place  age\n",
            "0         1      F     R   11\n",
            "1         2      F     U   77\n",
            "2         3      F     R   18\n",
            "3         4      F     R   16\n",
            "4         5      F     U   88\n",
            "5         6      M     U   18\n",
            "6         7      F     R   13\n",
            "7         8      M     U   16\n",
            "8         9      M     U   12\n",
            "9        10      F     U   61\n",
            "10       11      F     U   62\n",
            "11       12      M     U   15\n"
          ],
          "name": "stdout"
        },
        {
          "output_type": "execute_result",
          "data": {
            "text/html": [
              "<div>\n",
              "<style scoped>\n",
              "    .dataframe tbody tr th:only-of-type {\n",
              "        vertical-align: middle;\n",
              "    }\n",
              "\n",
              "    .dataframe tbody tr th {\n",
              "        vertical-align: top;\n",
              "    }\n",
              "\n",
              "    .dataframe thead th {\n",
              "        text-align: right;\n",
              "    }\n",
              "</style>\n",
              "<table border=\"1\" class=\"dataframe\">\n",
              "  <thead>\n",
              "    <tr style=\"text-align: right;\">\n",
              "      <th></th>\n",
              "      <th>id</th>\n",
              "      <th>gender</th>\n",
              "      <th>place</th>\n",
              "      <th>age</th>\n",
              "    </tr>\n",
              "  </thead>\n",
              "  <tbody>\n",
              "    <tr>\n",
              "      <th>0</th>\n",
              "      <td>1</td>\n",
              "      <td>F</td>\n",
              "      <td>R</td>\n",
              "      <td>11</td>\n",
              "    </tr>\n",
              "    <tr>\n",
              "      <th>1</th>\n",
              "      <td>2</td>\n",
              "      <td>F</td>\n",
              "      <td>U</td>\n",
              "      <td>77</td>\n",
              "    </tr>\n",
              "    <tr>\n",
              "      <th>2</th>\n",
              "      <td>3</td>\n",
              "      <td>F</td>\n",
              "      <td>R</td>\n",
              "      <td>18</td>\n",
              "    </tr>\n",
              "    <tr>\n",
              "      <th>3</th>\n",
              "      <td>4</td>\n",
              "      <td>F</td>\n",
              "      <td>R</td>\n",
              "      <td>16</td>\n",
              "    </tr>\n",
              "    <tr>\n",
              "      <th>4</th>\n",
              "      <td>5</td>\n",
              "      <td>F</td>\n",
              "      <td>U</td>\n",
              "      <td>88</td>\n",
              "    </tr>\n",
              "    <tr>\n",
              "      <th>5</th>\n",
              "      <td>6</td>\n",
              "      <td>M</td>\n",
              "      <td>U</td>\n",
              "      <td>18</td>\n",
              "    </tr>\n",
              "    <tr>\n",
              "      <th>6</th>\n",
              "      <td>7</td>\n",
              "      <td>F</td>\n",
              "      <td>R</td>\n",
              "      <td>13</td>\n",
              "    </tr>\n",
              "    <tr>\n",
              "      <th>7</th>\n",
              "      <td>8</td>\n",
              "      <td>M</td>\n",
              "      <td>U</td>\n",
              "      <td>16</td>\n",
              "    </tr>\n",
              "    <tr>\n",
              "      <th>8</th>\n",
              "      <td>9</td>\n",
              "      <td>M</td>\n",
              "      <td>U</td>\n",
              "      <td>12</td>\n",
              "    </tr>\n",
              "    <tr>\n",
              "      <th>9</th>\n",
              "      <td>10</td>\n",
              "      <td>F</td>\n",
              "      <td>U</td>\n",
              "      <td>61</td>\n",
              "    </tr>\n",
              "    <tr>\n",
              "      <th>10</th>\n",
              "      <td>11</td>\n",
              "      <td>F</td>\n",
              "      <td>U</td>\n",
              "      <td>62</td>\n",
              "    </tr>\n",
              "    <tr>\n",
              "      <th>11</th>\n",
              "      <td>12</td>\n",
              "      <td>M</td>\n",
              "      <td>U</td>\n",
              "      <td>15</td>\n",
              "    </tr>\n",
              "  </tbody>\n",
              "</table>\n",
              "</div>"
            ],
            "text/plain": [
              "    id gender place  age\n",
              "0    1      F     R   11\n",
              "1    2      F     U   77\n",
              "2    3      F     R   18\n",
              "3    4      F     R   16\n",
              "4    5      F     U   88\n",
              "5    6      M     U   18\n",
              "6    7      F     R   13\n",
              "7    8      M     U   16\n",
              "8    9      M     U   12\n",
              "9   10      F     U   61\n",
              "10  11      F     U   62\n",
              "11  12      M     U   15"
            ]
          },
          "metadata": {
            "tags": []
          },
          "execution_count": 50
        }
      ]
    },
    {
      "cell_type": "code",
      "metadata": {
        "colab": {
          "base_uri": "https://localhost:8080/",
          "height": 72
        },
        "id": "8aZI-jDPPTib",
        "outputId": "a096974a-2708-48cc-c11d-b477f103b168"
      },
      "source": [
        "'''\n",
        "C1 = F : R : 1-18\n",
        "C2 = F : R : 19-35\n",
        "C3 = F : R : 35-60\n",
        "C4 = F : R : >60\n",
        "C5 = F : U : 1-18\n",
        "C6 = F : U : 19-35\n",
        "C7 = F : U : 35-60\n",
        "C8 = F : U : >60\n",
        "C9 = M : R :1-18\n",
        "C10 = M : R : 19-35\n",
        "C11 = M : R : 35-60\n",
        "C12 = M : R : >60\n",
        "C13 = M : U : 1-18\n",
        "C14 = M : U : 19-35\n",
        "C15 = M : U : 35-60\n",
        "C16 = M : U : >60\n",
        "\n",
        "'''"
      ],
      "execution_count": null,
      "outputs": [
        {
          "output_type": "execute_result",
          "data": {
            "application/vnd.google.colaboratory.intrinsic+json": {
              "type": "string"
            },
            "text/plain": [
              "'\\nC1 = F : R : 1-18\\nC2 = F : R : 19-35\\nC3 = F : R : 35-60\\nC4 = F : R : >60\\nC5 = F : U : 1-18\\nC6 = F : U : 19-35\\nC7 = F : U : 35-60\\nC8 = F : U : >60\\nC9 = M : R :1-18\\nC10 = M : R : 19-35\\nC11 = M : R : 35-60\\nC12 = M : R : >60\\nC13 = M : U : 1-18\\nC14 = M : U : 19-35\\nC15 = M : U : 35-60\\nC16 = M : U : >60\\n\\n'"
            ]
          },
          "metadata": {
            "tags": []
          },
          "execution_count": 51
        }
      ]
    },
    {
      "cell_type": "code",
      "metadata": {
        "colab": {
          "base_uri": "https://localhost:8080/",
          "height": 645
        },
        "id": "Esvm_7HFPTic",
        "outputId": "15d2bc09-c0b9-44d3-f758-0288bdb678f6"
      },
      "source": [
        "samp_categ = pd.read_excel(\"/content/drive/MyDrive/sample_class.xlsx\")\n",
        "print(samp_categ)\n",
        "samp_categ.rename(columns = {\"User id\":\"id\"},inplace=True)\n",
        "samp_categ"
      ],
      "execution_count": null,
      "outputs": [
        {
          "output_type": "stream",
          "text": [
            "    User id gender place  age\n",
            "0         1      F     R   11\n",
            "1         2      F     U   79\n",
            "2         3      F     R   18\n",
            "3         4      F     R   80\n",
            "4         5      F     U   40\n",
            "5         6      M     R   18\n",
            "6         7      F     R   13\n",
            "7         8      M     U   16\n",
            "8         9      M     R   70\n",
            "9        10      F     U   61\n",
            "10       11      M     U   37\n",
            "11       12      M     U   75\n"
          ],
          "name": "stdout"
        },
        {
          "output_type": "execute_result",
          "data": {
            "text/html": [
              "<div>\n",
              "<style scoped>\n",
              "    .dataframe tbody tr th:only-of-type {\n",
              "        vertical-align: middle;\n",
              "    }\n",
              "\n",
              "    .dataframe tbody tr th {\n",
              "        vertical-align: top;\n",
              "    }\n",
              "\n",
              "    .dataframe thead th {\n",
              "        text-align: right;\n",
              "    }\n",
              "</style>\n",
              "<table border=\"1\" class=\"dataframe\">\n",
              "  <thead>\n",
              "    <tr style=\"text-align: right;\">\n",
              "      <th></th>\n",
              "      <th>id</th>\n",
              "      <th>gender</th>\n",
              "      <th>place</th>\n",
              "      <th>age</th>\n",
              "    </tr>\n",
              "  </thead>\n",
              "  <tbody>\n",
              "    <tr>\n",
              "      <th>0</th>\n",
              "      <td>1</td>\n",
              "      <td>F</td>\n",
              "      <td>R</td>\n",
              "      <td>11</td>\n",
              "    </tr>\n",
              "    <tr>\n",
              "      <th>1</th>\n",
              "      <td>2</td>\n",
              "      <td>F</td>\n",
              "      <td>U</td>\n",
              "      <td>79</td>\n",
              "    </tr>\n",
              "    <tr>\n",
              "      <th>2</th>\n",
              "      <td>3</td>\n",
              "      <td>F</td>\n",
              "      <td>R</td>\n",
              "      <td>18</td>\n",
              "    </tr>\n",
              "    <tr>\n",
              "      <th>3</th>\n",
              "      <td>4</td>\n",
              "      <td>F</td>\n",
              "      <td>R</td>\n",
              "      <td>80</td>\n",
              "    </tr>\n",
              "    <tr>\n",
              "      <th>4</th>\n",
              "      <td>5</td>\n",
              "      <td>F</td>\n",
              "      <td>U</td>\n",
              "      <td>40</td>\n",
              "    </tr>\n",
              "    <tr>\n",
              "      <th>5</th>\n",
              "      <td>6</td>\n",
              "      <td>M</td>\n",
              "      <td>R</td>\n",
              "      <td>18</td>\n",
              "    </tr>\n",
              "    <tr>\n",
              "      <th>6</th>\n",
              "      <td>7</td>\n",
              "      <td>F</td>\n",
              "      <td>R</td>\n",
              "      <td>13</td>\n",
              "    </tr>\n",
              "    <tr>\n",
              "      <th>7</th>\n",
              "      <td>8</td>\n",
              "      <td>M</td>\n",
              "      <td>U</td>\n",
              "      <td>16</td>\n",
              "    </tr>\n",
              "    <tr>\n",
              "      <th>8</th>\n",
              "      <td>9</td>\n",
              "      <td>M</td>\n",
              "      <td>R</td>\n",
              "      <td>70</td>\n",
              "    </tr>\n",
              "    <tr>\n",
              "      <th>9</th>\n",
              "      <td>10</td>\n",
              "      <td>F</td>\n",
              "      <td>U</td>\n",
              "      <td>61</td>\n",
              "    </tr>\n",
              "    <tr>\n",
              "      <th>10</th>\n",
              "      <td>11</td>\n",
              "      <td>M</td>\n",
              "      <td>U</td>\n",
              "      <td>37</td>\n",
              "    </tr>\n",
              "    <tr>\n",
              "      <th>11</th>\n",
              "      <td>12</td>\n",
              "      <td>M</td>\n",
              "      <td>U</td>\n",
              "      <td>75</td>\n",
              "    </tr>\n",
              "  </tbody>\n",
              "</table>\n",
              "</div>"
            ],
            "text/plain": [
              "    id gender place  age\n",
              "0    1      F     R   11\n",
              "1    2      F     U   79\n",
              "2    3      F     R   18\n",
              "3    4      F     R   80\n",
              "4    5      F     U   40\n",
              "5    6      M     R   18\n",
              "6    7      F     R   13\n",
              "7    8      M     U   16\n",
              "8    9      M     R   70\n",
              "9   10      F     U   61\n",
              "10  11      M     U   37\n",
              "11  12      M     U   75"
            ]
          },
          "metadata": {
            "tags": []
          },
          "execution_count": 52
        }
      ]
    },
    {
      "cell_type": "code",
      "metadata": {
        "colab": {
          "base_uri": "https://localhost:8080/",
          "height": 408
        },
        "id": "UogJ2M8pPTic",
        "outputId": "bf61f8bb-4ef7-4629-a09b-d8c1d25ecbbe"
      },
      "source": [
        "category = pd.Series([])\n",
        "for i in range(len(samp_categ)):\n",
        "    if (samp_categ['gender'][i]== 'F') :\n",
        "      if (samp_categ['place'][i]== 'R'):\n",
        "        if (samp_categ['age'][i] >=1) & (samp_categ['age'][i]<=18):\n",
        "          category[i] = \"C1\"\n",
        "        elif (samp_categ['age'][i] >=19) & (samp_categ['age'][i]<=35):\n",
        "          category[i] = \"C2\"\n",
        "        elif (samp_categ['age'][i] >=36) & (samp_categ['age'][i]<=60):\n",
        "          category[i] = \"C3\"\n",
        "        else :\n",
        "          category[i] = \"C4\"\n",
        "      else:\n",
        "        if (samp_categ['age'][i] >=1) & (samp_categ['age'][i]<=18):\n",
        "          category[i] = \"C5\"\n",
        "        elif (samp_categ['age'][i] >=19) & (samp_categ['age'][i]<=35):\n",
        "          category[i] = \"C6\"\n",
        "        elif (samp_categ['age'][i] >=36) & (samp_categ['age'][i]<=60):\n",
        "          category[i] = \"C7\"\n",
        "        else :\n",
        "          category[i] = \"C8\"\n",
        "    else:\n",
        "      if (samp_categ['place'][i]== 'R'):\n",
        "        if (samp_categ['age'][i] >=1) & (samp_categ['age'][i]<=18):\n",
        "          category[i] = \"C9\"\n",
        "        elif (samp_categ['age'][i] >=19) & (samp_categ['age'][i]<=35):\n",
        "          category[i] = \"C10\"\n",
        "        elif (samp_categ['age'][i] >=36) & (samp_categ['age'][i]<=60):\n",
        "          category[i] = \"C11\"\n",
        "        else :\n",
        "          category[i] = \"C12\"\n",
        "      else:\n",
        "        if (samp_categ['age'][i] >=1) & (samp_categ['age'][i]<=18):\n",
        "          category[i] = \"C13\"\n",
        "        elif (samp_categ['age'][i] >=19) & (samp_categ['age'][i]<=35):\n",
        "          category[i] = \"C14\"\n",
        "        elif (samp_categ['age'][i] >=36) & (samp_categ['age'][i]<=60):\n",
        "          category[i] = \"C15\"\n",
        "        else :\n",
        "          category[i] = \"C16\"\n",
        "\n",
        "samp_categ.insert(4, \"Category\", category)\n",
        "samp_categ.insert(5,\"procedure\",seq) \n",
        "samp_categ"
      ],
      "execution_count": null,
      "outputs": [
        {
          "output_type": "execute_result",
          "data": {
            "text/html": [
              "<div>\n",
              "<style scoped>\n",
              "    .dataframe tbody tr th:only-of-type {\n",
              "        vertical-align: middle;\n",
              "    }\n",
              "\n",
              "    .dataframe tbody tr th {\n",
              "        vertical-align: top;\n",
              "    }\n",
              "\n",
              "    .dataframe thead th {\n",
              "        text-align: right;\n",
              "    }\n",
              "</style>\n",
              "<table border=\"1\" class=\"dataframe\">\n",
              "  <thead>\n",
              "    <tr style=\"text-align: right;\">\n",
              "      <th></th>\n",
              "      <th>id</th>\n",
              "      <th>gender</th>\n",
              "      <th>place</th>\n",
              "      <th>age</th>\n",
              "      <th>Category</th>\n",
              "      <th>procedure</th>\n",
              "    </tr>\n",
              "  </thead>\n",
              "  <tbody>\n",
              "    <tr>\n",
              "      <th>0</th>\n",
              "      <td>1</td>\n",
              "      <td>F</td>\n",
              "      <td>R</td>\n",
              "      <td>11</td>\n",
              "      <td>C1</td>\n",
              "      <td>[2, 6, 5]</td>\n",
              "    </tr>\n",
              "    <tr>\n",
              "      <th>1</th>\n",
              "      <td>2</td>\n",
              "      <td>F</td>\n",
              "      <td>U</td>\n",
              "      <td>79</td>\n",
              "      <td>C8</td>\n",
              "      <td>[4, 3, 1]</td>\n",
              "    </tr>\n",
              "    <tr>\n",
              "      <th>2</th>\n",
              "      <td>3</td>\n",
              "      <td>F</td>\n",
              "      <td>R</td>\n",
              "      <td>18</td>\n",
              "      <td>C1</td>\n",
              "      <td>[3, 2, 4]</td>\n",
              "    </tr>\n",
              "    <tr>\n",
              "      <th>3</th>\n",
              "      <td>4</td>\n",
              "      <td>F</td>\n",
              "      <td>R</td>\n",
              "      <td>80</td>\n",
              "      <td>C4</td>\n",
              "      <td>[1, 4, 3]</td>\n",
              "    </tr>\n",
              "    <tr>\n",
              "      <th>4</th>\n",
              "      <td>5</td>\n",
              "      <td>F</td>\n",
              "      <td>U</td>\n",
              "      <td>40</td>\n",
              "      <td>C7</td>\n",
              "      <td>[5, 6, 5]</td>\n",
              "    </tr>\n",
              "    <tr>\n",
              "      <th>5</th>\n",
              "      <td>6</td>\n",
              "      <td>M</td>\n",
              "      <td>R</td>\n",
              "      <td>18</td>\n",
              "      <td>C9</td>\n",
              "      <td>[1, 2, 4]</td>\n",
              "    </tr>\n",
              "    <tr>\n",
              "      <th>6</th>\n",
              "      <td>7</td>\n",
              "      <td>F</td>\n",
              "      <td>R</td>\n",
              "      <td>13</td>\n",
              "      <td>C1</td>\n",
              "      <td>[6, 3, 4]</td>\n",
              "    </tr>\n",
              "    <tr>\n",
              "      <th>7</th>\n",
              "      <td>8</td>\n",
              "      <td>M</td>\n",
              "      <td>U</td>\n",
              "      <td>16</td>\n",
              "      <td>C13</td>\n",
              "      <td>[2, 3, 4]</td>\n",
              "    </tr>\n",
              "    <tr>\n",
              "      <th>8</th>\n",
              "      <td>9</td>\n",
              "      <td>M</td>\n",
              "      <td>R</td>\n",
              "      <td>70</td>\n",
              "      <td>C12</td>\n",
              "      <td>[2, 6, 5]</td>\n",
              "    </tr>\n",
              "    <tr>\n",
              "      <th>9</th>\n",
              "      <td>10</td>\n",
              "      <td>F</td>\n",
              "      <td>U</td>\n",
              "      <td>61</td>\n",
              "      <td>C8</td>\n",
              "      <td>[1, 3, 5]</td>\n",
              "    </tr>\n",
              "    <tr>\n",
              "      <th>10</th>\n",
              "      <td>11</td>\n",
              "      <td>M</td>\n",
              "      <td>U</td>\n",
              "      <td>37</td>\n",
              "      <td>C15</td>\n",
              "      <td>[6, 1, 2]</td>\n",
              "    </tr>\n",
              "    <tr>\n",
              "      <th>11</th>\n",
              "      <td>12</td>\n",
              "      <td>M</td>\n",
              "      <td>U</td>\n",
              "      <td>75</td>\n",
              "      <td>C16</td>\n",
              "      <td>[3, 5, 6]</td>\n",
              "    </tr>\n",
              "  </tbody>\n",
              "</table>\n",
              "</div>"
            ],
            "text/plain": [
              "    id gender place  age Category  procedure\n",
              "0    1      F     R   11       C1  [2, 6, 5]\n",
              "1    2      F     U   79       C8  [4, 3, 1]\n",
              "2    3      F     R   18       C1  [3, 2, 4]\n",
              "3    4      F     R   80       C4  [1, 4, 3]\n",
              "4    5      F     U   40       C7  [5, 6, 5]\n",
              "5    6      M     R   18       C9  [1, 2, 4]\n",
              "6    7      F     R   13       C1  [6, 3, 4]\n",
              "7    8      M     U   16      C13  [2, 3, 4]\n",
              "8    9      M     R   70      C12  [2, 6, 5]\n",
              "9   10      F     U   61       C8  [1, 3, 5]\n",
              "10  11      M     U   37      C15  [6, 1, 2]\n",
              "11  12      M     U   75      C16  [3, 5, 6]"
            ]
          },
          "metadata": {
            "tags": []
          },
          "execution_count": 53
        }
      ]
    },
    {
      "cell_type": "code",
      "metadata": {
        "id": "U8bHVf9KPTid"
      },
      "source": [
        "'''\n",
        "samp_categ.to_excel(\"All_gender_classification.xlsx\",\n",
        "             sheet_name='Sheet_1')  \n",
        "       '''      "
      ],
      "execution_count": null,
      "outputs": []
    },
    {
      "cell_type": "code",
      "metadata": {
        "colab": {
          "base_uri": "https://localhost:8080/",
          "height": 408
        },
        "id": "HDPekcXPPTid",
        "outputId": "ca279095-dfd4-4656-89fa-2315710f02c7"
      },
      "source": [
        "category = pd.Series([])\n",
        "for i in range(len(data_cate)):\n",
        "    if (data_cate['gender'][i]== 'F') :\n",
        "      if (data_cate['place'][i]== 'R'):\n",
        "        if (data_cate['age'][i] >=1) & (data_cate['age'][i]<=18):\n",
        "          category[i] = \"C1\"\n",
        "        elif (data_cate['age'][i] >=19) & (data_cate['age'][i]<=35):\n",
        "          category[i] = \"C2\"\n",
        "        elif (data_cate['age'][i] >=36) & (data_cate['age'][i]<=60):\n",
        "          category[i] = \"C3\"\n",
        "        else :\n",
        "          category[i] = \"C4\"\n",
        "      else:\n",
        "        if (data_cate['age'][i] >=1) & (data_cate['age'][i]<=18):\n",
        "          category[i] = \"C5\"\n",
        "        elif (data_cate['age'][i] >=19) & (data_cate['age'][i]<=35):\n",
        "          category[i] = \"C6\"\n",
        "        elif (data_cate['age'][i] >=36) & (data_cate['age'][i]<=60):\n",
        "          category[i] = \"C7\"\n",
        "        else :\n",
        "          category[i] = \"C8\"\n",
        "    else:\n",
        "      if (data_cate['place'][i]== 'R'):\n",
        "        if (data_cate['age'][i] >=1) & (data_cate['age'][i]<=18):\n",
        "          category[i] = \"C9\"\n",
        "        elif (data_cate['age'][i] >=19) & (data_cate['age'][i]<=35):\n",
        "          category[i] = \"C10\"\n",
        "        elif (data_cate['age'][i] >=36) & (data_cate['age'][i]<=60):\n",
        "          category[i] = \"C11\"\n",
        "        else :\n",
        "          category[i] = \"C12\"\n",
        "      else:\n",
        "        if (data_cate['age'][i] >=1) & (data_cate['age'][i]<=18):\n",
        "          category[i] = \"C13\"\n",
        "        elif (data_cate['age'][i] >=19) & (data_cate['age'][i]<=35):\n",
        "          category[i] = \"C14\"\n",
        "        elif (data_cate['age'][i] >=36) & (data_cate['age'][i]<=60):\n",
        "          category[i] = \"C15\"\n",
        "        else :\n",
        "          category[i] = \"C16\"\n",
        "\n",
        "data_cate.insert(4, \"Category\", category)\n",
        "data_cate.insert(5,\"procedure\",seq) \n",
        "data_cate"
      ],
      "execution_count": null,
      "outputs": [
        {
          "output_type": "execute_result",
          "data": {
            "text/html": [
              "<div>\n",
              "<style scoped>\n",
              "    .dataframe tbody tr th:only-of-type {\n",
              "        vertical-align: middle;\n",
              "    }\n",
              "\n",
              "    .dataframe tbody tr th {\n",
              "        vertical-align: top;\n",
              "    }\n",
              "\n",
              "    .dataframe thead th {\n",
              "        text-align: right;\n",
              "    }\n",
              "</style>\n",
              "<table border=\"1\" class=\"dataframe\">\n",
              "  <thead>\n",
              "    <tr style=\"text-align: right;\">\n",
              "      <th></th>\n",
              "      <th>id</th>\n",
              "      <th>gender</th>\n",
              "      <th>place</th>\n",
              "      <th>age</th>\n",
              "      <th>Category</th>\n",
              "      <th>procedure</th>\n",
              "    </tr>\n",
              "  </thead>\n",
              "  <tbody>\n",
              "    <tr>\n",
              "      <th>0</th>\n",
              "      <td>1</td>\n",
              "      <td>F</td>\n",
              "      <td>R</td>\n",
              "      <td>11</td>\n",
              "      <td>C1</td>\n",
              "      <td>[2, 6, 5]</td>\n",
              "    </tr>\n",
              "    <tr>\n",
              "      <th>1</th>\n",
              "      <td>2</td>\n",
              "      <td>F</td>\n",
              "      <td>U</td>\n",
              "      <td>77</td>\n",
              "      <td>C8</td>\n",
              "      <td>[4, 3, 1]</td>\n",
              "    </tr>\n",
              "    <tr>\n",
              "      <th>2</th>\n",
              "      <td>3</td>\n",
              "      <td>F</td>\n",
              "      <td>R</td>\n",
              "      <td>18</td>\n",
              "      <td>C1</td>\n",
              "      <td>[3, 2, 4]</td>\n",
              "    </tr>\n",
              "    <tr>\n",
              "      <th>3</th>\n",
              "      <td>4</td>\n",
              "      <td>F</td>\n",
              "      <td>R</td>\n",
              "      <td>16</td>\n",
              "      <td>C1</td>\n",
              "      <td>[1, 4, 3]</td>\n",
              "    </tr>\n",
              "    <tr>\n",
              "      <th>4</th>\n",
              "      <td>5</td>\n",
              "      <td>F</td>\n",
              "      <td>U</td>\n",
              "      <td>88</td>\n",
              "      <td>C8</td>\n",
              "      <td>[5, 6, 5]</td>\n",
              "    </tr>\n",
              "    <tr>\n",
              "      <th>5</th>\n",
              "      <td>6</td>\n",
              "      <td>M</td>\n",
              "      <td>U</td>\n",
              "      <td>18</td>\n",
              "      <td>C13</td>\n",
              "      <td>[1, 2, 4]</td>\n",
              "    </tr>\n",
              "    <tr>\n",
              "      <th>6</th>\n",
              "      <td>7</td>\n",
              "      <td>F</td>\n",
              "      <td>R</td>\n",
              "      <td>13</td>\n",
              "      <td>C1</td>\n",
              "      <td>[6, 3, 4]</td>\n",
              "    </tr>\n",
              "    <tr>\n",
              "      <th>7</th>\n",
              "      <td>8</td>\n",
              "      <td>M</td>\n",
              "      <td>U</td>\n",
              "      <td>16</td>\n",
              "      <td>C13</td>\n",
              "      <td>[2, 3, 4]</td>\n",
              "    </tr>\n",
              "    <tr>\n",
              "      <th>8</th>\n",
              "      <td>9</td>\n",
              "      <td>M</td>\n",
              "      <td>U</td>\n",
              "      <td>12</td>\n",
              "      <td>C13</td>\n",
              "      <td>[2, 6, 5]</td>\n",
              "    </tr>\n",
              "    <tr>\n",
              "      <th>9</th>\n",
              "      <td>10</td>\n",
              "      <td>F</td>\n",
              "      <td>U</td>\n",
              "      <td>61</td>\n",
              "      <td>C8</td>\n",
              "      <td>[1, 3, 5]</td>\n",
              "    </tr>\n",
              "    <tr>\n",
              "      <th>10</th>\n",
              "      <td>11</td>\n",
              "      <td>F</td>\n",
              "      <td>U</td>\n",
              "      <td>62</td>\n",
              "      <td>C8</td>\n",
              "      <td>[6, 1, 2]</td>\n",
              "    </tr>\n",
              "    <tr>\n",
              "      <th>11</th>\n",
              "      <td>12</td>\n",
              "      <td>M</td>\n",
              "      <td>U</td>\n",
              "      <td>15</td>\n",
              "      <td>C13</td>\n",
              "      <td>[3, 5, 6]</td>\n",
              "    </tr>\n",
              "  </tbody>\n",
              "</table>\n",
              "</div>"
            ],
            "text/plain": [
              "    id gender place  age Category  procedure\n",
              "0    1      F     R   11       C1  [2, 6, 5]\n",
              "1    2      F     U   77       C8  [4, 3, 1]\n",
              "2    3      F     R   18       C1  [3, 2, 4]\n",
              "3    4      F     R   16       C1  [1, 4, 3]\n",
              "4    5      F     U   88       C8  [5, 6, 5]\n",
              "5    6      M     U   18      C13  [1, 2, 4]\n",
              "6    7      F     R   13       C1  [6, 3, 4]\n",
              "7    8      M     U   16      C13  [2, 3, 4]\n",
              "8    9      M     U   12      C13  [2, 6, 5]\n",
              "9   10      F     U   61       C8  [1, 3, 5]\n",
              "10  11      F     U   62       C8  [6, 1, 2]\n",
              "11  12      M     U   15      C13  [3, 5, 6]"
            ]
          },
          "metadata": {
            "tags": []
          },
          "execution_count": 55
        }
      ]
    },
    {
      "cell_type": "code",
      "metadata": {
        "id": "u7W2XMS9PTie"
      },
      "source": [
        ""
      ],
      "execution_count": null,
      "outputs": []
    },
    {
      "cell_type": "code",
      "metadata": {
        "id": "eKZN-PdZPTie"
      },
      "source": [
        "'''\n",
        "data_cate.to_excel(\"Gender_Categorization.xlsx\",\n",
        "             sheet_name='Sheet_1')  \n",
        "'''"
      ],
      "execution_count": null,
      "outputs": []
    },
    {
      "cell_type": "code",
      "metadata": {
        "id": "BqvLHe_OPTif"
      },
      "source": [
        "final = pd.DataFrame({\"C1\":0,\"C8\":0,\"C13\":0,\"element\": element,\"sequence\": sequence,\"support\":support,\"confidence\":final.confidence,\"lift\":final.lift})\n",
        "#final"
      ],
      "execution_count": null,
      "outputs": []
    },
    {
      "cell_type": "code",
      "metadata": {
        "colab": {
          "base_uri": "https://localhost:8080/"
        },
        "id": "IM6UBMQWPTif",
        "outputId": "edb8629b-3d8e-409f-99e9-222efab5846e"
      },
      "source": [
        "uniq_cate = list(set(data_cate.Category))\n",
        "index = data_cate.index\n",
        "index\n",
        "for cat in uniq_cate:\n",
        "    condition = data_cate[\"Category\"] == cat\n",
        "    indices = index[condition]\n",
        "    indices_list = indices.tolist()\n",
        "    print(cat,indices_list)\n",
        "    for i in range (len(final)):\n",
        "        a = final[\"element\"][i][0:1]\n",
        "        b = \"\"\n",
        "        s = final[\"sequence\"][i]\n",
        "        if len(final[\"element\"][i]) > 1:\n",
        "            b = final[\"element\"][i][2:3]\n",
        "            #print(len(b))\n",
        "        for l in indices_list:\n",
        "            if (a in data_cate[\"procedure\"][l]) and (s in data_cate[\"procedure\"][l]) and (data_cate[\"procedure\"][l].index(a) < data_cate[\"procedure\"][l].index(s)):\n",
        "                if b == \"\":\n",
        "                    final[cat][i] = final[cat][i] + 1\n",
        "                    #print(final[cat][i])\n",
        "                elif (b in data_cate[\"procedure\"][l]) and (data_cate[\"procedure\"][l].index(a) < data_cate[\"procedure\"][l].index(b)):\n",
        "                    final[cat][i] = final[cat][i] + 1\n",
        "#final"
      ],
      "execution_count": null,
      "outputs": [
        {
          "output_type": "stream",
          "text": [
            "C13 [5, 7, 8, 11]\n",
            "C1 [0, 2, 3, 6]\n",
            "C8 [1, 4, 9, 10]\n"
          ],
          "name": "stdout"
        }
      ]
    },
    {
      "cell_type": "code",
      "metadata": {
        "id": "cSjPCCOAPTig"
      },
      "source": [
        ""
      ],
      "execution_count": null,
      "outputs": []
    },
    {
      "cell_type": "code",
      "metadata": {
        "id": "YZcM44IzPTig"
      },
      "source": [
        "final[\"C1_support\"] = final.C1/len(output1)\n",
        "final[\"C8_support\"] = final.C8/len(output1)\n",
        "final[\"C13_support\"] = final.C13/len(output1)\n",
        "\n",
        "final[\"C1_conf\"] = final[\"C1_support\"]/element_support\n",
        "final[\"C8_conf\"] = final[\"C8_support\"]/element_support\n",
        "final[\"C13_conf\"] = final[\"C13_support\"]/element_support\n",
        "\n",
        "#final"
      ],
      "execution_count": null,
      "outputs": []
    },
    {
      "cell_type": "code",
      "metadata": {
        "id": "GG0E8Ba8PTig"
      },
      "source": [
        "def lift(vari):\n",
        "    a = pd.Series(element_support)\n",
        "    b = len(output1) * pd.Series(sequence_support)\n",
        "    numi = vari/len(output1)\n",
        "    denomi = (a / b)/len(output1)\n",
        "    out = numi/denomi\n",
        "    return(out)\n",
        "    "
      ],
      "execution_count": null,
      "outputs": []
    },
    {
      "cell_type": "code",
      "metadata": {
        "id": "Y558tYasPTih"
      },
      "source": [
        "final[\"C1_lift\"] = lift(final.C1_support)\n",
        "final[\"C8_lift\"] = lift(final.C8_support)\n",
        "final[\"C13_lift\"] = lift(final.C13_support)\n"
      ],
      "execution_count": null,
      "outputs": []
    },
    {
      "cell_type": "code",
      "metadata": {
        "id": "8rvuQzc3PTih"
      },
      "source": [
        "## Corresponding categoriy lifts w.r.t element and sequence.\n",
        "## c ^ e -> s"
      ],
      "execution_count": null,
      "outputs": []
    },
    {
      "cell_type": "code",
      "metadata": {
        "id": "7aVsJgR7PTih"
      },
      "source": [
        "c_and_e_to_s = final[['element','sequence','C1_support','C8_support','C13_support','C1_conf','C8_conf','C13_conf','C1_lift','C8_lift','C13_lift']] "
      ],
      "execution_count": null,
      "outputs": []
    },
    {
      "cell_type": "code",
      "metadata": {
        "id": "U89W-vEQPTih"
      },
      "source": [
        "conf_thresh = 0.4\n",
        "lift_thresh = 1.0\n",
        "c_and_e_to_s_filter = pd.DataFrame([c_and_e_to_s.loc[i] for i in range(len(c_and_e_to_s)) if (c_and_e_to_s[\"C1_conf\"][i] >= conf_thresh or c_and_e_to_s[\"C8_conf\"][i] >= conf_thresh or c_and_e_to_s[\"C13_conf\"][i] >= conf_thresh) and (c_and_e_to_s[\"C1_lift\"][i] >= lift_thresh or c_and_e_to_s[\"C8_lift\"][i] >= lift_thresh or c_and_e_to_s[\"C13_lift\"][i] >= lift_thresh)]).reset_index(drop = True)"
      ],
      "execution_count": null,
      "outputs": []
    },
    {
      "cell_type": "code",
      "metadata": {
        "scrolled": true,
        "colab": {
          "base_uri": "https://localhost:8080/",
          "height": 1000
        },
        "id": "b1Y0MjiEPTii",
        "outputId": "311a9130-bed2-4887-8d1b-08843c36b880"
      },
      "source": [
        "c_and_e_to_s"
      ],
      "execution_count": null,
      "outputs": [
        {
          "output_type": "execute_result",
          "data": {
            "text/html": [
              "<div>\n",
              "<style scoped>\n",
              "    .dataframe tbody tr th:only-of-type {\n",
              "        vertical-align: middle;\n",
              "    }\n",
              "\n",
              "    .dataframe tbody tr th {\n",
              "        vertical-align: top;\n",
              "    }\n",
              "\n",
              "    .dataframe thead th {\n",
              "        text-align: right;\n",
              "    }\n",
              "</style>\n",
              "<table border=\"1\" class=\"dataframe\">\n",
              "  <thead>\n",
              "    <tr style=\"text-align: right;\">\n",
              "      <th></th>\n",
              "      <th>element</th>\n",
              "      <th>sequence</th>\n",
              "      <th>C1_support</th>\n",
              "      <th>C8_support</th>\n",
              "      <th>C13_support</th>\n",
              "      <th>C1_conf</th>\n",
              "      <th>C8_conf</th>\n",
              "      <th>C13_conf</th>\n",
              "      <th>C1_lift</th>\n",
              "      <th>C8_lift</th>\n",
              "      <th>C13_lift</th>\n",
              "    </tr>\n",
              "  </thead>\n",
              "  <tbody>\n",
              "    <tr>\n",
              "      <th>0</th>\n",
              "      <td>1</td>\n",
              "      <td>2</td>\n",
              "      <td>0.000000</td>\n",
              "      <td>0.083333</td>\n",
              "      <td>0.083333</td>\n",
              "      <td>0.000000</td>\n",
              "      <td>0.200000</td>\n",
              "      <td>0.200000</td>\n",
              "      <td>0.000000</td>\n",
              "      <td>1.200000</td>\n",
              "      <td>1.200000</td>\n",
              "    </tr>\n",
              "    <tr>\n",
              "      <th>1</th>\n",
              "      <td>1</td>\n",
              "      <td>5</td>\n",
              "      <td>0.000000</td>\n",
              "      <td>0.083333</td>\n",
              "      <td>0.000000</td>\n",
              "      <td>0.000000</td>\n",
              "      <td>0.200000</td>\n",
              "      <td>0.000000</td>\n",
              "      <td>0.000000</td>\n",
              "      <td>1.200000</td>\n",
              "      <td>0.000000</td>\n",
              "    </tr>\n",
              "    <tr>\n",
              "      <th>2</th>\n",
              "      <td>1</td>\n",
              "      <td>4</td>\n",
              "      <td>0.083333</td>\n",
              "      <td>0.000000</td>\n",
              "      <td>0.083333</td>\n",
              "      <td>0.200000</td>\n",
              "      <td>0.000000</td>\n",
              "      <td>0.200000</td>\n",
              "      <td>1.200000</td>\n",
              "      <td>0.000000</td>\n",
              "      <td>1.200000</td>\n",
              "    </tr>\n",
              "    <tr>\n",
              "      <th>3</th>\n",
              "      <td>1</td>\n",
              "      <td>3</td>\n",
              "      <td>0.083333</td>\n",
              "      <td>0.083333</td>\n",
              "      <td>0.000000</td>\n",
              "      <td>0.200000</td>\n",
              "      <td>0.200000</td>\n",
              "      <td>0.000000</td>\n",
              "      <td>1.400000</td>\n",
              "      <td>1.400000</td>\n",
              "      <td>0.000000</td>\n",
              "    </tr>\n",
              "    <tr>\n",
              "      <th>4</th>\n",
              "      <td>1 2</td>\n",
              "      <td>4</td>\n",
              "      <td>0.000000</td>\n",
              "      <td>0.000000</td>\n",
              "      <td>0.083333</td>\n",
              "      <td>0.000000</td>\n",
              "      <td>0.000000</td>\n",
              "      <td>0.500000</td>\n",
              "      <td>0.000000</td>\n",
              "      <td>0.000000</td>\n",
              "      <td>3.000000</td>\n",
              "    </tr>\n",
              "    <tr>\n",
              "      <th>5</th>\n",
              "      <td>1 3</td>\n",
              "      <td>5</td>\n",
              "      <td>0.000000</td>\n",
              "      <td>0.083333</td>\n",
              "      <td>0.000000</td>\n",
              "      <td>0.000000</td>\n",
              "      <td>0.500000</td>\n",
              "      <td>0.000000</td>\n",
              "      <td>0.000000</td>\n",
              "      <td>3.000000</td>\n",
              "      <td>0.000000</td>\n",
              "    </tr>\n",
              "    <tr>\n",
              "      <th>6</th>\n",
              "      <td>1 4</td>\n",
              "      <td>3</td>\n",
              "      <td>0.083333</td>\n",
              "      <td>0.000000</td>\n",
              "      <td>0.000000</td>\n",
              "      <td>0.500000</td>\n",
              "      <td>0.000000</td>\n",
              "      <td>0.000000</td>\n",
              "      <td>3.500000</td>\n",
              "      <td>0.000000</td>\n",
              "      <td>0.000000</td>\n",
              "    </tr>\n",
              "    <tr>\n",
              "      <th>7</th>\n",
              "      <td>2</td>\n",
              "      <td>6</td>\n",
              "      <td>0.083333</td>\n",
              "      <td>0.000000</td>\n",
              "      <td>0.083333</td>\n",
              "      <td>0.166667</td>\n",
              "      <td>0.000000</td>\n",
              "      <td>0.166667</td>\n",
              "      <td>1.000000</td>\n",
              "      <td>0.000000</td>\n",
              "      <td>1.000000</td>\n",
              "    </tr>\n",
              "    <tr>\n",
              "      <th>8</th>\n",
              "      <td>2</td>\n",
              "      <td>5</td>\n",
              "      <td>0.083333</td>\n",
              "      <td>0.000000</td>\n",
              "      <td>0.083333</td>\n",
              "      <td>0.166667</td>\n",
              "      <td>0.000000</td>\n",
              "      <td>0.166667</td>\n",
              "      <td>1.000000</td>\n",
              "      <td>0.000000</td>\n",
              "      <td>1.000000</td>\n",
              "    </tr>\n",
              "    <tr>\n",
              "      <th>9</th>\n",
              "      <td>2</td>\n",
              "      <td>4</td>\n",
              "      <td>0.083333</td>\n",
              "      <td>0.000000</td>\n",
              "      <td>0.166667</td>\n",
              "      <td>0.166667</td>\n",
              "      <td>0.000000</td>\n",
              "      <td>0.333333</td>\n",
              "      <td>1.000000</td>\n",
              "      <td>0.000000</td>\n",
              "      <td>2.000000</td>\n",
              "    </tr>\n",
              "    <tr>\n",
              "      <th>10</th>\n",
              "      <td>2</td>\n",
              "      <td>3</td>\n",
              "      <td>0.000000</td>\n",
              "      <td>0.000000</td>\n",
              "      <td>0.083333</td>\n",
              "      <td>0.000000</td>\n",
              "      <td>0.000000</td>\n",
              "      <td>0.166667</td>\n",
              "      <td>0.000000</td>\n",
              "      <td>0.000000</td>\n",
              "      <td>1.166667</td>\n",
              "    </tr>\n",
              "    <tr>\n",
              "      <th>11</th>\n",
              "      <td>2 3</td>\n",
              "      <td>4</td>\n",
              "      <td>0.000000</td>\n",
              "      <td>0.000000</td>\n",
              "      <td>0.083333</td>\n",
              "      <td>0.000000</td>\n",
              "      <td>0.000000</td>\n",
              "      <td>1.000000</td>\n",
              "      <td>0.000000</td>\n",
              "      <td>0.000000</td>\n",
              "      <td>6.000000</td>\n",
              "    </tr>\n",
              "    <tr>\n",
              "      <th>12</th>\n",
              "      <td>2 6</td>\n",
              "      <td>5</td>\n",
              "      <td>0.083333</td>\n",
              "      <td>0.000000</td>\n",
              "      <td>0.083333</td>\n",
              "      <td>0.500000</td>\n",
              "      <td>0.000000</td>\n",
              "      <td>0.500000</td>\n",
              "      <td>3.000000</td>\n",
              "      <td>0.000000</td>\n",
              "      <td>3.000000</td>\n",
              "    </tr>\n",
              "    <tr>\n",
              "      <th>13</th>\n",
              "      <td>3</td>\n",
              "      <td>2</td>\n",
              "      <td>0.083333</td>\n",
              "      <td>0.000000</td>\n",
              "      <td>0.000000</td>\n",
              "      <td>0.142857</td>\n",
              "      <td>0.000000</td>\n",
              "      <td>0.000000</td>\n",
              "      <td>0.857143</td>\n",
              "      <td>0.000000</td>\n",
              "      <td>0.000000</td>\n",
              "    </tr>\n",
              "    <tr>\n",
              "      <th>14</th>\n",
              "      <td>3</td>\n",
              "      <td>6</td>\n",
              "      <td>0.000000</td>\n",
              "      <td>0.000000</td>\n",
              "      <td>0.083333</td>\n",
              "      <td>0.000000</td>\n",
              "      <td>0.000000</td>\n",
              "      <td>0.142857</td>\n",
              "      <td>0.000000</td>\n",
              "      <td>0.000000</td>\n",
              "      <td>0.857143</td>\n",
              "    </tr>\n",
              "    <tr>\n",
              "      <th>15</th>\n",
              "      <td>3</td>\n",
              "      <td>5</td>\n",
              "      <td>0.000000</td>\n",
              "      <td>0.083333</td>\n",
              "      <td>0.083333</td>\n",
              "      <td>0.000000</td>\n",
              "      <td>0.142857</td>\n",
              "      <td>0.142857</td>\n",
              "      <td>0.000000</td>\n",
              "      <td>0.857143</td>\n",
              "      <td>0.857143</td>\n",
              "    </tr>\n",
              "    <tr>\n",
              "      <th>16</th>\n",
              "      <td>3</td>\n",
              "      <td>4</td>\n",
              "      <td>0.166667</td>\n",
              "      <td>0.000000</td>\n",
              "      <td>0.083333</td>\n",
              "      <td>0.285714</td>\n",
              "      <td>0.000000</td>\n",
              "      <td>0.142857</td>\n",
              "      <td>1.714286</td>\n",
              "      <td>0.000000</td>\n",
              "      <td>0.857143</td>\n",
              "    </tr>\n",
              "    <tr>\n",
              "      <th>17</th>\n",
              "      <td>3</td>\n",
              "      <td>1</td>\n",
              "      <td>0.000000</td>\n",
              "      <td>0.083333</td>\n",
              "      <td>0.000000</td>\n",
              "      <td>0.000000</td>\n",
              "      <td>0.142857</td>\n",
              "      <td>0.000000</td>\n",
              "      <td>0.000000</td>\n",
              "      <td>0.714286</td>\n",
              "      <td>0.000000</td>\n",
              "    </tr>\n",
              "    <tr>\n",
              "      <th>18</th>\n",
              "      <td>3 2</td>\n",
              "      <td>4</td>\n",
              "      <td>0.083333</td>\n",
              "      <td>0.000000</td>\n",
              "      <td>0.000000</td>\n",
              "      <td>1.000000</td>\n",
              "      <td>0.000000</td>\n",
              "      <td>0.000000</td>\n",
              "      <td>6.000000</td>\n",
              "      <td>0.000000</td>\n",
              "      <td>0.000000</td>\n",
              "    </tr>\n",
              "    <tr>\n",
              "      <th>19</th>\n",
              "      <td>3 5</td>\n",
              "      <td>6</td>\n",
              "      <td>0.000000</td>\n",
              "      <td>0.000000</td>\n",
              "      <td>0.083333</td>\n",
              "      <td>0.000000</td>\n",
              "      <td>0.000000</td>\n",
              "      <td>0.500000</td>\n",
              "      <td>0.000000</td>\n",
              "      <td>0.000000</td>\n",
              "      <td>3.000000</td>\n",
              "    </tr>\n",
              "    <tr>\n",
              "      <th>20</th>\n",
              "      <td>4</td>\n",
              "      <td>3</td>\n",
              "      <td>0.083333</td>\n",
              "      <td>0.083333</td>\n",
              "      <td>0.000000</td>\n",
              "      <td>0.166667</td>\n",
              "      <td>0.166667</td>\n",
              "      <td>0.000000</td>\n",
              "      <td>1.166667</td>\n",
              "      <td>1.166667</td>\n",
              "      <td>0.000000</td>\n",
              "    </tr>\n",
              "    <tr>\n",
              "      <th>21</th>\n",
              "      <td>4</td>\n",
              "      <td>1</td>\n",
              "      <td>0.000000</td>\n",
              "      <td>0.083333</td>\n",
              "      <td>0.000000</td>\n",
              "      <td>0.000000</td>\n",
              "      <td>0.166667</td>\n",
              "      <td>0.000000</td>\n",
              "      <td>0.000000</td>\n",
              "      <td>0.833333</td>\n",
              "      <td>0.000000</td>\n",
              "    </tr>\n",
              "    <tr>\n",
              "      <th>22</th>\n",
              "      <td>4 3</td>\n",
              "      <td>1</td>\n",
              "      <td>0.000000</td>\n",
              "      <td>0.083333</td>\n",
              "      <td>0.000000</td>\n",
              "      <td>0.000000</td>\n",
              "      <td>0.500000</td>\n",
              "      <td>0.000000</td>\n",
              "      <td>0.000000</td>\n",
              "      <td>2.500000</td>\n",
              "      <td>0.000000</td>\n",
              "    </tr>\n",
              "    <tr>\n",
              "      <th>23</th>\n",
              "      <td>5</td>\n",
              "      <td>6</td>\n",
              "      <td>0.000000</td>\n",
              "      <td>0.083333</td>\n",
              "      <td>0.083333</td>\n",
              "      <td>0.000000</td>\n",
              "      <td>0.166667</td>\n",
              "      <td>0.166667</td>\n",
              "      <td>0.000000</td>\n",
              "      <td>1.000000</td>\n",
              "      <td>1.000000</td>\n",
              "    </tr>\n",
              "    <tr>\n",
              "      <th>24</th>\n",
              "      <td>5 6</td>\n",
              "      <td>5</td>\n",
              "      <td>0.000000</td>\n",
              "      <td>0.000000</td>\n",
              "      <td>0.000000</td>\n",
              "      <td>0.000000</td>\n",
              "      <td>0.000000</td>\n",
              "      <td>0.000000</td>\n",
              "      <td>0.000000</td>\n",
              "      <td>0.000000</td>\n",
              "      <td>0.000000</td>\n",
              "    </tr>\n",
              "    <tr>\n",
              "      <th>25</th>\n",
              "      <td>6</td>\n",
              "      <td>2</td>\n",
              "      <td>0.000000</td>\n",
              "      <td>0.083333</td>\n",
              "      <td>0.000000</td>\n",
              "      <td>0.000000</td>\n",
              "      <td>0.166667</td>\n",
              "      <td>0.000000</td>\n",
              "      <td>0.000000</td>\n",
              "      <td>1.000000</td>\n",
              "      <td>0.000000</td>\n",
              "    </tr>\n",
              "    <tr>\n",
              "      <th>26</th>\n",
              "      <td>6</td>\n",
              "      <td>5</td>\n",
              "      <td>0.083333</td>\n",
              "      <td>0.000000</td>\n",
              "      <td>0.083333</td>\n",
              "      <td>0.166667</td>\n",
              "      <td>0.000000</td>\n",
              "      <td>0.166667</td>\n",
              "      <td>1.000000</td>\n",
              "      <td>0.000000</td>\n",
              "      <td>1.000000</td>\n",
              "    </tr>\n",
              "    <tr>\n",
              "      <th>27</th>\n",
              "      <td>6</td>\n",
              "      <td>4</td>\n",
              "      <td>0.083333</td>\n",
              "      <td>0.000000</td>\n",
              "      <td>0.000000</td>\n",
              "      <td>0.166667</td>\n",
              "      <td>0.000000</td>\n",
              "      <td>0.000000</td>\n",
              "      <td>1.000000</td>\n",
              "      <td>0.000000</td>\n",
              "      <td>0.000000</td>\n",
              "    </tr>\n",
              "    <tr>\n",
              "      <th>28</th>\n",
              "      <td>6</td>\n",
              "      <td>3</td>\n",
              "      <td>0.083333</td>\n",
              "      <td>0.000000</td>\n",
              "      <td>0.000000</td>\n",
              "      <td>0.166667</td>\n",
              "      <td>0.000000</td>\n",
              "      <td>0.000000</td>\n",
              "      <td>1.166667</td>\n",
              "      <td>0.000000</td>\n",
              "      <td>0.000000</td>\n",
              "    </tr>\n",
              "    <tr>\n",
              "      <th>29</th>\n",
              "      <td>6</td>\n",
              "      <td>1</td>\n",
              "      <td>0.000000</td>\n",
              "      <td>0.083333</td>\n",
              "      <td>0.000000</td>\n",
              "      <td>0.000000</td>\n",
              "      <td>0.166667</td>\n",
              "      <td>0.000000</td>\n",
              "      <td>0.000000</td>\n",
              "      <td>0.833333</td>\n",
              "      <td>0.000000</td>\n",
              "    </tr>\n",
              "    <tr>\n",
              "      <th>30</th>\n",
              "      <td>6 1</td>\n",
              "      <td>2</td>\n",
              "      <td>0.000000</td>\n",
              "      <td>0.083333</td>\n",
              "      <td>0.000000</td>\n",
              "      <td>0.000000</td>\n",
              "      <td>1.000000</td>\n",
              "      <td>0.000000</td>\n",
              "      <td>0.000000</td>\n",
              "      <td>6.000000</td>\n",
              "      <td>0.000000</td>\n",
              "    </tr>\n",
              "    <tr>\n",
              "      <th>31</th>\n",
              "      <td>6 3</td>\n",
              "      <td>4</td>\n",
              "      <td>0.083333</td>\n",
              "      <td>0.000000</td>\n",
              "      <td>0.000000</td>\n",
              "      <td>1.000000</td>\n",
              "      <td>0.000000</td>\n",
              "      <td>0.000000</td>\n",
              "      <td>6.000000</td>\n",
              "      <td>0.000000</td>\n",
              "      <td>0.000000</td>\n",
              "    </tr>\n",
              "  </tbody>\n",
              "</table>\n",
              "</div>"
            ],
            "text/plain": [
              "   element sequence  C1_support  ...   C1_lift   C8_lift  C13_lift\n",
              "0        1        2    0.000000  ...  0.000000  1.200000  1.200000\n",
              "1        1        5    0.000000  ...  0.000000  1.200000  0.000000\n",
              "2        1        4    0.083333  ...  1.200000  0.000000  1.200000\n",
              "3        1        3    0.083333  ...  1.400000  1.400000  0.000000\n",
              "4      1 2        4    0.000000  ...  0.000000  0.000000  3.000000\n",
              "5      1 3        5    0.000000  ...  0.000000  3.000000  0.000000\n",
              "6      1 4        3    0.083333  ...  3.500000  0.000000  0.000000\n",
              "7        2        6    0.083333  ...  1.000000  0.000000  1.000000\n",
              "8        2        5    0.083333  ...  1.000000  0.000000  1.000000\n",
              "9        2        4    0.083333  ...  1.000000  0.000000  2.000000\n",
              "10       2        3    0.000000  ...  0.000000  0.000000  1.166667\n",
              "11     2 3        4    0.000000  ...  0.000000  0.000000  6.000000\n",
              "12     2 6        5    0.083333  ...  3.000000  0.000000  3.000000\n",
              "13       3        2    0.083333  ...  0.857143  0.000000  0.000000\n",
              "14       3        6    0.000000  ...  0.000000  0.000000  0.857143\n",
              "15       3        5    0.000000  ...  0.000000  0.857143  0.857143\n",
              "16       3        4    0.166667  ...  1.714286  0.000000  0.857143\n",
              "17       3        1    0.000000  ...  0.000000  0.714286  0.000000\n",
              "18     3 2        4    0.083333  ...  6.000000  0.000000  0.000000\n",
              "19     3 5        6    0.000000  ...  0.000000  0.000000  3.000000\n",
              "20       4        3    0.083333  ...  1.166667  1.166667  0.000000\n",
              "21       4        1    0.000000  ...  0.000000  0.833333  0.000000\n",
              "22     4 3        1    0.000000  ...  0.000000  2.500000  0.000000\n",
              "23       5        6    0.000000  ...  0.000000  1.000000  1.000000\n",
              "24     5 6        5    0.000000  ...  0.000000  0.000000  0.000000\n",
              "25       6        2    0.000000  ...  0.000000  1.000000  0.000000\n",
              "26       6        5    0.083333  ...  1.000000  0.000000  1.000000\n",
              "27       6        4    0.083333  ...  1.000000  0.000000  0.000000\n",
              "28       6        3    0.083333  ...  1.166667  0.000000  0.000000\n",
              "29       6        1    0.000000  ...  0.000000  0.833333  0.000000\n",
              "30     6 1        2    0.000000  ...  0.000000  6.000000  0.000000\n",
              "31     6 3        4    0.083333  ...  6.000000  0.000000  0.000000\n",
              "\n",
              "[32 rows x 11 columns]"
            ]
          },
          "metadata": {
            "tags": []
          },
          "execution_count": 65
        }
      ]
    },
    {
      "cell_type": "code",
      "metadata": {
        "id": "y4TCPjzxPTii"
      },
      "source": [
        "'''\n",
        "c_and_e_to_s_filter.to_excel(\"C^E_S.xlsx\",\n",
        "             sheet_name='Sheet_1')  \n",
        "  '''"
      ],
      "execution_count": null,
      "outputs": []
    },
    {
      "cell_type": "code",
      "metadata": {
        "colab": {
          "base_uri": "https://localhost:8080/",
          "height": 408
        },
        "id": "6l6dK_rxPTii",
        "outputId": "4456250a-9450-4fa3-d853-1a370e321e5e"
      },
      "source": [
        "data_cate"
      ],
      "execution_count": null,
      "outputs": [
        {
          "output_type": "execute_result",
          "data": {
            "text/html": [
              "<div>\n",
              "<style scoped>\n",
              "    .dataframe tbody tr th:only-of-type {\n",
              "        vertical-align: middle;\n",
              "    }\n",
              "\n",
              "    .dataframe tbody tr th {\n",
              "        vertical-align: top;\n",
              "    }\n",
              "\n",
              "    .dataframe thead th {\n",
              "        text-align: right;\n",
              "    }\n",
              "</style>\n",
              "<table border=\"1\" class=\"dataframe\">\n",
              "  <thead>\n",
              "    <tr style=\"text-align: right;\">\n",
              "      <th></th>\n",
              "      <th>id</th>\n",
              "      <th>gender</th>\n",
              "      <th>place</th>\n",
              "      <th>age</th>\n",
              "      <th>Category</th>\n",
              "      <th>procedure</th>\n",
              "    </tr>\n",
              "  </thead>\n",
              "  <tbody>\n",
              "    <tr>\n",
              "      <th>0</th>\n",
              "      <td>1</td>\n",
              "      <td>F</td>\n",
              "      <td>R</td>\n",
              "      <td>11</td>\n",
              "      <td>C1</td>\n",
              "      <td>[2, 6, 5]</td>\n",
              "    </tr>\n",
              "    <tr>\n",
              "      <th>1</th>\n",
              "      <td>2</td>\n",
              "      <td>F</td>\n",
              "      <td>U</td>\n",
              "      <td>77</td>\n",
              "      <td>C8</td>\n",
              "      <td>[4, 3, 1]</td>\n",
              "    </tr>\n",
              "    <tr>\n",
              "      <th>2</th>\n",
              "      <td>3</td>\n",
              "      <td>F</td>\n",
              "      <td>R</td>\n",
              "      <td>18</td>\n",
              "      <td>C1</td>\n",
              "      <td>[3, 2, 4]</td>\n",
              "    </tr>\n",
              "    <tr>\n",
              "      <th>3</th>\n",
              "      <td>4</td>\n",
              "      <td>F</td>\n",
              "      <td>R</td>\n",
              "      <td>16</td>\n",
              "      <td>C1</td>\n",
              "      <td>[1, 4, 3]</td>\n",
              "    </tr>\n",
              "    <tr>\n",
              "      <th>4</th>\n",
              "      <td>5</td>\n",
              "      <td>F</td>\n",
              "      <td>U</td>\n",
              "      <td>88</td>\n",
              "      <td>C8</td>\n",
              "      <td>[5, 6, 5]</td>\n",
              "    </tr>\n",
              "    <tr>\n",
              "      <th>5</th>\n",
              "      <td>6</td>\n",
              "      <td>M</td>\n",
              "      <td>U</td>\n",
              "      <td>18</td>\n",
              "      <td>C13</td>\n",
              "      <td>[1, 2, 4]</td>\n",
              "    </tr>\n",
              "    <tr>\n",
              "      <th>6</th>\n",
              "      <td>7</td>\n",
              "      <td>F</td>\n",
              "      <td>R</td>\n",
              "      <td>13</td>\n",
              "      <td>C1</td>\n",
              "      <td>[6, 3, 4]</td>\n",
              "    </tr>\n",
              "    <tr>\n",
              "      <th>7</th>\n",
              "      <td>8</td>\n",
              "      <td>M</td>\n",
              "      <td>U</td>\n",
              "      <td>16</td>\n",
              "      <td>C13</td>\n",
              "      <td>[2, 3, 4]</td>\n",
              "    </tr>\n",
              "    <tr>\n",
              "      <th>8</th>\n",
              "      <td>9</td>\n",
              "      <td>M</td>\n",
              "      <td>U</td>\n",
              "      <td>12</td>\n",
              "      <td>C13</td>\n",
              "      <td>[2, 6, 5]</td>\n",
              "    </tr>\n",
              "    <tr>\n",
              "      <th>9</th>\n",
              "      <td>10</td>\n",
              "      <td>F</td>\n",
              "      <td>U</td>\n",
              "      <td>61</td>\n",
              "      <td>C8</td>\n",
              "      <td>[1, 3, 5]</td>\n",
              "    </tr>\n",
              "    <tr>\n",
              "      <th>10</th>\n",
              "      <td>11</td>\n",
              "      <td>F</td>\n",
              "      <td>U</td>\n",
              "      <td>62</td>\n",
              "      <td>C8</td>\n",
              "      <td>[6, 1, 2]</td>\n",
              "    </tr>\n",
              "    <tr>\n",
              "      <th>11</th>\n",
              "      <td>12</td>\n",
              "      <td>M</td>\n",
              "      <td>U</td>\n",
              "      <td>15</td>\n",
              "      <td>C13</td>\n",
              "      <td>[3, 5, 6]</td>\n",
              "    </tr>\n",
              "  </tbody>\n",
              "</table>\n",
              "</div>"
            ],
            "text/plain": [
              "    id gender place  age Category  procedure\n",
              "0    1      F     R   11       C1  [2, 6, 5]\n",
              "1    2      F     U   77       C8  [4, 3, 1]\n",
              "2    3      F     R   18       C1  [3, 2, 4]\n",
              "3    4      F     R   16       C1  [1, 4, 3]\n",
              "4    5      F     U   88       C8  [5, 6, 5]\n",
              "5    6      M     U   18      C13  [1, 2, 4]\n",
              "6    7      F     R   13       C1  [6, 3, 4]\n",
              "7    8      M     U   16      C13  [2, 3, 4]\n",
              "8    9      M     U   12      C13  [2, 6, 5]\n",
              "9   10      F     U   61       C8  [1, 3, 5]\n",
              "10  11      F     U   62       C8  [6, 1, 2]\n",
              "11  12      M     U   15      C13  [3, 5, 6]"
            ]
          },
          "metadata": {
            "tags": []
          },
          "execution_count": 67
        }
      ]
    },
    {
      "cell_type": "code",
      "metadata": {
        "id": "oj1OpqMsPTii"
      },
      "source": [
        "def CountFrequency(my_list):\n",
        "  \n",
        "    # Creating an empty dictionary \n",
        "    freq = {\"1\":0,\"2\":0,\"3\":0,\"4\":0,\"5\":0,\"6\":0}\n",
        "    for item in my_list:\n",
        "        if (item in freq):\n",
        "            freq[item] += 1\n",
        "        else:\n",
        "            freq[item] = 1\n",
        "    return(freq)\n",
        "        "
      ],
      "execution_count": null,
      "outputs": []
    },
    {
      "cell_type": "code",
      "metadata": {
        "colab": {
          "base_uri": "https://localhost:8080/"
        },
        "id": "7h_bM2NGPTij",
        "outputId": "3683324b-c0f2-4131-9e01-f2da6f756917"
      },
      "source": [
        "cate_seq = pd.DataFrame()\n",
        "cate_seq[\"procedure\"] = range(0,7)\n",
        "count_var = list()\n",
        "cate_wise = list(set(data_cate.Category))\n",
        "index = data_cate.index\n",
        "index\n",
        "supx = list()\n",
        "sup_x = list()\n",
        "for cat in uniq_cate:\n",
        "    condition = data_cate[\"Category\"] == cat\n",
        "    indices = index[condition]\n",
        "    indices_list = indices.tolist()\n",
        "    count_var.append(len(indices_list))\n",
        "    print(cat,indices_list)\n",
        "    supx.append(len(indices_list)/len(output1))\n",
        "    sup_x.append((len(indices_list)/len(output1))/len(output1))\n",
        "    l = list()\n",
        "    for i in range(len(indices_list)):\n",
        "           l=l + data_cate[\"procedure\"][indices_list[i]]\n",
        "    freq = CountFrequency(l)\n",
        "    list1 = list()\n",
        "    list1.append(0)\n",
        "    for key, value in freq.items():\n",
        "        list1.append(value)\n",
        "    cate_seq[cat] = list1"
      ],
      "execution_count": null,
      "outputs": [
        {
          "output_type": "stream",
          "text": [
            "C13 [5, 7, 8, 11]\n",
            "C1 [0, 2, 3, 6]\n",
            "C8 [1, 4, 9, 10]\n"
          ],
          "name": "stdout"
        }
      ]
    },
    {
      "cell_type": "code",
      "metadata": {
        "colab": {
          "base_uri": "https://localhost:8080/",
          "height": 228
        },
        "id": "L571HWhGPTij",
        "outputId": "093aa5d2-ece2-4b1c-b554-73b91fcd49a2"
      },
      "source": [
        "cate_seq.iloc[1:,:]\n",
        "#sup_x"
      ],
      "execution_count": null,
      "outputs": [
        {
          "output_type": "execute_result",
          "data": {
            "text/html": [
              "<div>\n",
              "<style scoped>\n",
              "    .dataframe tbody tr th:only-of-type {\n",
              "        vertical-align: middle;\n",
              "    }\n",
              "\n",
              "    .dataframe tbody tr th {\n",
              "        vertical-align: top;\n",
              "    }\n",
              "\n",
              "    .dataframe thead th {\n",
              "        text-align: right;\n",
              "    }\n",
              "</style>\n",
              "<table border=\"1\" class=\"dataframe\">\n",
              "  <thead>\n",
              "    <tr style=\"text-align: right;\">\n",
              "      <th></th>\n",
              "      <th>procedure</th>\n",
              "      <th>C13</th>\n",
              "      <th>C1</th>\n",
              "      <th>C8</th>\n",
              "    </tr>\n",
              "  </thead>\n",
              "  <tbody>\n",
              "    <tr>\n",
              "      <th>1</th>\n",
              "      <td>1</td>\n",
              "      <td>1</td>\n",
              "      <td>1</td>\n",
              "      <td>3</td>\n",
              "    </tr>\n",
              "    <tr>\n",
              "      <th>2</th>\n",
              "      <td>2</td>\n",
              "      <td>3</td>\n",
              "      <td>2</td>\n",
              "      <td>1</td>\n",
              "    </tr>\n",
              "    <tr>\n",
              "      <th>3</th>\n",
              "      <td>3</td>\n",
              "      <td>2</td>\n",
              "      <td>3</td>\n",
              "      <td>2</td>\n",
              "    </tr>\n",
              "    <tr>\n",
              "      <th>4</th>\n",
              "      <td>4</td>\n",
              "      <td>2</td>\n",
              "      <td>3</td>\n",
              "      <td>1</td>\n",
              "    </tr>\n",
              "    <tr>\n",
              "      <th>5</th>\n",
              "      <td>5</td>\n",
              "      <td>2</td>\n",
              "      <td>1</td>\n",
              "      <td>3</td>\n",
              "    </tr>\n",
              "    <tr>\n",
              "      <th>6</th>\n",
              "      <td>6</td>\n",
              "      <td>2</td>\n",
              "      <td>2</td>\n",
              "      <td>2</td>\n",
              "    </tr>\n",
              "  </tbody>\n",
              "</table>\n",
              "</div>"
            ],
            "text/plain": [
              "   procedure  C13  C1  C8\n",
              "1          1    1   1   3\n",
              "2          2    3   2   1\n",
              "3          3    2   3   2\n",
              "4          4    2   3   1\n",
              "5          5    2   1   3\n",
              "6          6    2   2   2"
            ]
          },
          "metadata": {
            "tags": []
          },
          "execution_count": 70
        }
      ]
    },
    {
      "cell_type": "code",
      "metadata": {
        "id": "iLSIXxSoPTik"
      },
      "source": [
        "cate_seq[\"C13_support\"] = cate_seq.C13/len(output1)\n",
        "cate_seq[\"C8_support\"] = cate_seq.C8/len(output1)\n",
        "cate_seq[\"C1_support\"] = cate_seq.C1/len(output1)"
      ],
      "execution_count": null,
      "outputs": []
    },
    {
      "cell_type": "code",
      "metadata": {
        "colab": {
          "base_uri": "https://localhost:8080/"
        },
        "id": "YY9aZVLtPTik",
        "outputId": "8a326c8e-068b-4213-cad4-ffdedf1cb22a"
      },
      "source": [
        "count_var[1]"
      ],
      "execution_count": null,
      "outputs": [
        {
          "output_type": "execute_result",
          "data": {
            "text/plain": [
              "4"
            ]
          },
          "metadata": {
            "tags": []
          },
          "execution_count": 72
        }
      ]
    },
    {
      "cell_type": "code",
      "metadata": {
        "colab": {
          "base_uri": "https://localhost:8080/",
          "height": 258
        },
        "id": "eC-9e39DPTik",
        "outputId": "01d76d3f-2a85-4ed4-f044-30ad6fbcd19d"
      },
      "source": [
        "new_data = pd.DataFrame()\n",
        "new_data[\"C13_lift_top\"] = cate_seq.C13/count_var[0]\n",
        "new_data[\"C8_lift_top\"] = cate_seq.C8/count_var[1]\n",
        "new_data[\"C1_lift_top\"] = cate_seq.C1/count_var[2]\n",
        "\n",
        "new_data"
      ],
      "execution_count": null,
      "outputs": [
        {
          "output_type": "execute_result",
          "data": {
            "text/html": [
              "<div>\n",
              "<style scoped>\n",
              "    .dataframe tbody tr th:only-of-type {\n",
              "        vertical-align: middle;\n",
              "    }\n",
              "\n",
              "    .dataframe tbody tr th {\n",
              "        vertical-align: top;\n",
              "    }\n",
              "\n",
              "    .dataframe thead th {\n",
              "        text-align: right;\n",
              "    }\n",
              "</style>\n",
              "<table border=\"1\" class=\"dataframe\">\n",
              "  <thead>\n",
              "    <tr style=\"text-align: right;\">\n",
              "      <th></th>\n",
              "      <th>C13_lift_top</th>\n",
              "      <th>C8_lift_top</th>\n",
              "      <th>C1_lift_top</th>\n",
              "    </tr>\n",
              "  </thead>\n",
              "  <tbody>\n",
              "    <tr>\n",
              "      <th>0</th>\n",
              "      <td>0.00</td>\n",
              "      <td>0.00</td>\n",
              "      <td>0.00</td>\n",
              "    </tr>\n",
              "    <tr>\n",
              "      <th>1</th>\n",
              "      <td>0.25</td>\n",
              "      <td>0.75</td>\n",
              "      <td>0.25</td>\n",
              "    </tr>\n",
              "    <tr>\n",
              "      <th>2</th>\n",
              "      <td>0.75</td>\n",
              "      <td>0.25</td>\n",
              "      <td>0.50</td>\n",
              "    </tr>\n",
              "    <tr>\n",
              "      <th>3</th>\n",
              "      <td>0.50</td>\n",
              "      <td>0.50</td>\n",
              "      <td>0.75</td>\n",
              "    </tr>\n",
              "    <tr>\n",
              "      <th>4</th>\n",
              "      <td>0.50</td>\n",
              "      <td>0.25</td>\n",
              "      <td>0.75</td>\n",
              "    </tr>\n",
              "    <tr>\n",
              "      <th>5</th>\n",
              "      <td>0.50</td>\n",
              "      <td>0.75</td>\n",
              "      <td>0.25</td>\n",
              "    </tr>\n",
              "    <tr>\n",
              "      <th>6</th>\n",
              "      <td>0.50</td>\n",
              "      <td>0.50</td>\n",
              "      <td>0.50</td>\n",
              "    </tr>\n",
              "  </tbody>\n",
              "</table>\n",
              "</div>"
            ],
            "text/plain": [
              "   C13_lift_top  C8_lift_top  C1_lift_top\n",
              "0          0.00         0.00         0.00\n",
              "1          0.25         0.75         0.25\n",
              "2          0.75         0.25         0.50\n",
              "3          0.50         0.50         0.75\n",
              "4          0.50         0.25         0.75\n",
              "5          0.50         0.75         0.25\n",
              "6          0.50         0.50         0.50"
            ]
          },
          "metadata": {
            "tags": []
          },
          "execution_count": 73
        }
      ]
    },
    {
      "cell_type": "code",
      "metadata": {
        "id": "-xhz6yhIPTik"
      },
      "source": [
        "cat_to_seq = cate_seq.iloc[1:,:]"
      ],
      "execution_count": null,
      "outputs": []
    },
    {
      "cell_type": "code",
      "metadata": {
        "id": "IpI_33dfPTil"
      },
      "source": [
        ""
      ],
      "execution_count": null,
      "outputs": []
    },
    {
      "cell_type": "code",
      "metadata": {
        "colab": {
          "base_uri": "https://localhost:8080/"
        },
        "id": "1YDzxAblPTil",
        "outputId": "34c8e70a-b276-40ea-8db9-a96641c218d5"
      },
      "source": [
        "l2 = list()\n",
        "supy = list()\n",
        "sup_y = list()\n",
        "supy.append(0)\n",
        "sup_y.append(0)\n",
        "for j in range(len(data_cate)):\n",
        "    l2 = l2 + data_cate[\"procedure\"][j]\n",
        "#print(l2)\n",
        "proc_freq = CountFrequency(l2)\n",
        "#print(proc_freq)\n",
        "for key, value in proc_freq.items():\n",
        "    supy.append(value/len(output1))\n",
        "    sup_y.append((value/len(output1))/len(output1))\n",
        "\n",
        "supy\n",
        "#sup_y"
      ],
      "execution_count": null,
      "outputs": [
        {
          "output_type": "execute_result",
          "data": {
            "text/plain": [
              "[0, 0.4166666666666667, 0.5, 0.5833333333333334, 0.5, 0.5, 0.5]"
            ]
          },
          "metadata": {
            "tags": []
          },
          "execution_count": 75
        }
      ]
    },
    {
      "cell_type": "code",
      "metadata": {
        "id": "7EmLEaBEPTil"
      },
      "source": [
        "for k in range(len(supx)):\n",
        "    cate_seq[\"C13_conf\"] = cate_seq[\"C13_support\"]/supx[k]\n",
        "    cate_seq[\"C8_conf\"] = cate_seq[\"C8_support\"]/supx[k]\n",
        "    cate_seq[\"C1_conf\"] = cate_seq[\"C1_support\"]/supx[k]"
      ],
      "execution_count": null,
      "outputs": []
    },
    {
      "cell_type": "code",
      "metadata": {
        "id": "hjaP62TFPTil"
      },
      "source": [
        ""
      ],
      "execution_count": null,
      "outputs": []
    },
    {
      "cell_type": "code",
      "metadata": {
        "id": "LmTvcEA2PTim"
      },
      "source": [
        "def lift(vari,x,y):\n",
        "    print(y)\n",
        "    numi = vari\n",
        "    denomi = pd.Series(y)\n",
        "    out = numi/denomi\n",
        "    return(out)"
      ],
      "execution_count": null,
      "outputs": []
    },
    {
      "cell_type": "code",
      "metadata": {
        "colab": {
          "base_uri": "https://localhost:8080/"
        },
        "id": "EC3ChWE6PTim",
        "outputId": "a4eee4fd-e781-49fb-c14d-543ee6bcffa9"
      },
      "source": [
        "cate_seq[\"C13_lift\"] = lift(new_data.C13_lift_top,sup_x[0],supy)\n",
        "cate_seq[\"C8_lift\"] = lift(new_data.C8_lift_top,sup_x[1],supy)\n",
        "cate_seq[\"C1_lift\"] = lift(new_data.C1_lift_top,sup_x[2],supy)\n"
      ],
      "execution_count": null,
      "outputs": [
        {
          "output_type": "stream",
          "text": [
            "[0, 0.4166666666666667, 0.5, 0.5833333333333334, 0.5, 0.5, 0.5]\n",
            "[0, 0.4166666666666667, 0.5, 0.5833333333333334, 0.5, 0.5, 0.5]\n",
            "[0, 0.4166666666666667, 0.5, 0.5833333333333334, 0.5, 0.5, 0.5]\n"
          ],
          "name": "stdout"
        }
      ]
    },
    {
      "cell_type": "code",
      "metadata": {
        "id": "IoKoKPRdPTim"
      },
      "source": [
        "## The table and lifts according to categories only with sequences.\n",
        "## c -> s"
      ],
      "execution_count": null,
      "outputs": []
    },
    {
      "cell_type": "code",
      "metadata": {
        "id": "E9lGo20XPTin"
      },
      "source": [
        "cat_to_seq = cate_seq.iloc[1:,:]"
      ],
      "execution_count": null,
      "outputs": []
    },
    {
      "cell_type": "code",
      "metadata": {
        "colab": {
          "base_uri": "https://localhost:8080/",
          "height": 248
        },
        "id": "BG6iShtvPTin",
        "outputId": "04db5439-73c1-4411-d965-9495f16365d3"
      },
      "source": [
        "cat_to_seq"
      ],
      "execution_count": null,
      "outputs": [
        {
          "output_type": "execute_result",
          "data": {
            "text/html": [
              "<div>\n",
              "<style scoped>\n",
              "    .dataframe tbody tr th:only-of-type {\n",
              "        vertical-align: middle;\n",
              "    }\n",
              "\n",
              "    .dataframe tbody tr th {\n",
              "        vertical-align: top;\n",
              "    }\n",
              "\n",
              "    .dataframe thead th {\n",
              "        text-align: right;\n",
              "    }\n",
              "</style>\n",
              "<table border=\"1\" class=\"dataframe\">\n",
              "  <thead>\n",
              "    <tr style=\"text-align: right;\">\n",
              "      <th></th>\n",
              "      <th>procedure</th>\n",
              "      <th>C13</th>\n",
              "      <th>C1</th>\n",
              "      <th>C8</th>\n",
              "      <th>C13_support</th>\n",
              "      <th>C8_support</th>\n",
              "      <th>C1_support</th>\n",
              "      <th>C13_conf</th>\n",
              "      <th>C8_conf</th>\n",
              "      <th>C1_conf</th>\n",
              "      <th>C13_lift</th>\n",
              "      <th>C8_lift</th>\n",
              "      <th>C1_lift</th>\n",
              "    </tr>\n",
              "  </thead>\n",
              "  <tbody>\n",
              "    <tr>\n",
              "      <th>1</th>\n",
              "      <td>1</td>\n",
              "      <td>1</td>\n",
              "      <td>1</td>\n",
              "      <td>3</td>\n",
              "      <td>0.083333</td>\n",
              "      <td>0.250000</td>\n",
              "      <td>0.083333</td>\n",
              "      <td>0.25</td>\n",
              "      <td>0.75</td>\n",
              "      <td>0.25</td>\n",
              "      <td>0.600000</td>\n",
              "      <td>1.800000</td>\n",
              "      <td>0.600000</td>\n",
              "    </tr>\n",
              "    <tr>\n",
              "      <th>2</th>\n",
              "      <td>2</td>\n",
              "      <td>3</td>\n",
              "      <td>2</td>\n",
              "      <td>1</td>\n",
              "      <td>0.250000</td>\n",
              "      <td>0.083333</td>\n",
              "      <td>0.166667</td>\n",
              "      <td>0.75</td>\n",
              "      <td>0.25</td>\n",
              "      <td>0.50</td>\n",
              "      <td>1.500000</td>\n",
              "      <td>0.500000</td>\n",
              "      <td>1.000000</td>\n",
              "    </tr>\n",
              "    <tr>\n",
              "      <th>3</th>\n",
              "      <td>3</td>\n",
              "      <td>2</td>\n",
              "      <td>3</td>\n",
              "      <td>2</td>\n",
              "      <td>0.166667</td>\n",
              "      <td>0.166667</td>\n",
              "      <td>0.250000</td>\n",
              "      <td>0.50</td>\n",
              "      <td>0.50</td>\n",
              "      <td>0.75</td>\n",
              "      <td>0.857143</td>\n",
              "      <td>0.857143</td>\n",
              "      <td>1.285714</td>\n",
              "    </tr>\n",
              "    <tr>\n",
              "      <th>4</th>\n",
              "      <td>4</td>\n",
              "      <td>2</td>\n",
              "      <td>3</td>\n",
              "      <td>1</td>\n",
              "      <td>0.166667</td>\n",
              "      <td>0.083333</td>\n",
              "      <td>0.250000</td>\n",
              "      <td>0.50</td>\n",
              "      <td>0.25</td>\n",
              "      <td>0.75</td>\n",
              "      <td>1.000000</td>\n",
              "      <td>0.500000</td>\n",
              "      <td>1.500000</td>\n",
              "    </tr>\n",
              "    <tr>\n",
              "      <th>5</th>\n",
              "      <td>5</td>\n",
              "      <td>2</td>\n",
              "      <td>1</td>\n",
              "      <td>3</td>\n",
              "      <td>0.166667</td>\n",
              "      <td>0.250000</td>\n",
              "      <td>0.083333</td>\n",
              "      <td>0.50</td>\n",
              "      <td>0.75</td>\n",
              "      <td>0.25</td>\n",
              "      <td>1.000000</td>\n",
              "      <td>1.500000</td>\n",
              "      <td>0.500000</td>\n",
              "    </tr>\n",
              "    <tr>\n",
              "      <th>6</th>\n",
              "      <td>6</td>\n",
              "      <td>2</td>\n",
              "      <td>2</td>\n",
              "      <td>2</td>\n",
              "      <td>0.166667</td>\n",
              "      <td>0.166667</td>\n",
              "      <td>0.166667</td>\n",
              "      <td>0.50</td>\n",
              "      <td>0.50</td>\n",
              "      <td>0.50</td>\n",
              "      <td>1.000000</td>\n",
              "      <td>1.000000</td>\n",
              "      <td>1.000000</td>\n",
              "    </tr>\n",
              "  </tbody>\n",
              "</table>\n",
              "</div>"
            ],
            "text/plain": [
              "   procedure  C13  C1  C8  ...  C1_conf  C13_lift   C8_lift   C1_lift\n",
              "1          1    1   1   3  ...     0.25  0.600000  1.800000  0.600000\n",
              "2          2    3   2   1  ...     0.50  1.500000  0.500000  1.000000\n",
              "3          3    2   3   2  ...     0.75  0.857143  0.857143  1.285714\n",
              "4          4    2   3   1  ...     0.75  1.000000  0.500000  1.500000\n",
              "5          5    2   1   3  ...     0.25  1.000000  1.500000  0.500000\n",
              "6          6    2   2   2  ...     0.50  1.000000  1.000000  1.000000\n",
              "\n",
              "[6 rows x 13 columns]"
            ]
          },
          "metadata": {
            "tags": []
          },
          "execution_count": 81
        }
      ]
    },
    {
      "cell_type": "code",
      "metadata": {
        "id": "iFmkq1CiPTin"
      },
      "source": [
        "'''\n",
        "cat_to_seq.to_excel(\"C_to_S.xlsx\",\n",
        "             sheet_name='Sheet_1')  \n",
        "'''"
      ],
      "execution_count": null,
      "outputs": []
    },
    {
      "cell_type": "code",
      "metadata": {
        "id": "l3rXAoroPTin"
      },
      "source": [
        "## Category combined lift\n",
        "\n",
        "## c^e->s/e->s"
      ],
      "execution_count": null,
      "outputs": []
    },
    {
      "cell_type": "code",
      "metadata": {
        "id": "oGavP4yUPTio"
      },
      "source": [
        "cat_comb_lift = pd.DataFrame()\n",
        "cat_comb_lift[\"element\"] = final.element\n",
        "cat_comb_lift[\"sequence\"] = final.sequence\n",
        "cat_comb_lift[\"E->S_Lift\"] = e_to_s\n",
        "cat_comb_lift[\"C1^E->S_Lift\"] = final.C1_lift\n",
        "cat_comb_lift[\"C8^E->S_Lift\"] = final.C8_lift\n",
        "cat_comb_lift[\"C13^E->S_Lift\"] = final.C13_lift\n",
        "cat_comb_lift[\"C1_Combined_Lift\"] = final.C1_lift/e_to_s\n",
        "cat_comb_lift[\"C8_Combined_Lift\"] = final.C8_lift/e_to_s\n",
        "cat_comb_lift[\"C13_Combined_Lift\"] = final.C13_lift/e_to_s\n"
      ],
      "execution_count": null,
      "outputs": []
    },
    {
      "cell_type": "code",
      "metadata": {
        "id": "B9ZZSZI5PTio"
      },
      "source": [
        "lift_thresh = 1.0\n",
        "cat_comb_lift_filter = pd.DataFrame([cat_comb_lift.loc[i] for i in range(len(cat_comb_lift)) if cat_comb_lift[\"E->S_Lift\"][i] >= lift_thresh and (cat_comb_lift[\"C1^E->S_Lift\"][i] >= lift_thresh or cat_comb_lift[\"C8^E->S_Lift\"][i] >= lift_thresh or cat_comb_lift[\"C13^E->S_Lift\"][i] >= lift_thresh)]).reset_index(drop = True)"
      ],
      "execution_count": null,
      "outputs": []
    },
    {
      "cell_type": "code",
      "metadata": {
        "colab": {
          "base_uri": "https://localhost:8080/",
          "height": 32
        },
        "id": "9v_HPq7PPTio",
        "outputId": "b50d5ff9-dfbc-4de9-909d-30c1b111e35b"
      },
      "source": [
        "cat_comb_lift_filter"
      ],
      "execution_count": null,
      "outputs": [
        {
          "output_type": "execute_result",
          "data": {
            "text/html": [
              "<div>\n",
              "<style scoped>\n",
              "    .dataframe tbody tr th:only-of-type {\n",
              "        vertical-align: middle;\n",
              "    }\n",
              "\n",
              "    .dataframe tbody tr th {\n",
              "        vertical-align: top;\n",
              "    }\n",
              "\n",
              "    .dataframe thead th {\n",
              "        text-align: right;\n",
              "    }\n",
              "</style>\n",
              "<table border=\"1\" class=\"dataframe\">\n",
              "  <thead>\n",
              "    <tr style=\"text-align: right;\">\n",
              "      <th></th>\n",
              "    </tr>\n",
              "  </thead>\n",
              "  <tbody>\n",
              "  </tbody>\n",
              "</table>\n",
              "</div>"
            ],
            "text/plain": [
              "Empty DataFrame\n",
              "Columns: []\n",
              "Index: []"
            ]
          },
          "metadata": {
            "tags": []
          },
          "execution_count": 86
        }
      ]
    },
    {
      "cell_type": "code",
      "metadata": {
        "id": "4xpKrtbKPTio"
      },
      "source": [
        "'''\n",
        "cat_comb_lift_filter.to_excel(\"Category_combined_Lift.xlsx\",\n",
        "             sheet_name='Sheet_1')  \n",
        "'''"
      ],
      "execution_count": null,
      "outputs": []
    },
    {
      "cell_type": "code",
      "metadata": {
        "id": "aVeHDTlUPTip"
      },
      "source": [
        "## Sequence combined lift\n",
        "\n",
        "## c^e->s/c->s"
      ],
      "execution_count": null,
      "outputs": []
    },
    {
      "cell_type": "code",
      "metadata": {
        "id": "jMJGdOEoPTip"
      },
      "source": [
        "sample = pd.DataFrame()\n",
        "sample[\"procedure\"] = range(0,7)\n",
        "seq_combi_lift = pd.DataFrame()\n",
        "seq_combi_lift[\"procedure\"] = sample[\"procedure\"][1:]"
      ],
      "execution_count": null,
      "outputs": []
    },
    {
      "cell_type": "code",
      "metadata": {
        "colab": {
          "base_uri": "https://localhost:8080/"
        },
        "id": "hHLvNthPPTip",
        "outputId": "e72c6e77-bd7e-4859-dbb2-05de42c56b8f"
      },
      "source": [
        "comb_seq_numi= list()\n",
        "for i in range(1,7):\n",
        "    d = c_and_e_to_s.loc[c_and_e_to_s['sequence']== str(i)]\n",
        "    sum = np.prod(d['C1_lift']) + np.prod(d['C8_lift']) + np.prod(d['C13_lift'])\n",
        "    comb_seq_numi.append(sum)\n",
        "comb_seq_numi"
      ],
      "execution_count": null,
      "outputs": [
        {
          "output_type": "execute_result",
          "data": {
            "text/plain": [
              "[1.2400793650793644, 0.0, 0.0, 0.0, 0.0, 2.571428571428571]"
            ]
          },
          "metadata": {
            "tags": []
          },
          "execution_count": 90
        }
      ]
    },
    {
      "cell_type": "code",
      "metadata": {
        "id": "lEg1WQY2PTiq"
      },
      "source": [
        "seq_combi_lift[\"seq_Comb_Numerator\"] = comb_seq_numi"
      ],
      "execution_count": null,
      "outputs": []
    },
    {
      "cell_type": "code",
      "metadata": {
        "colab": {
          "base_uri": "https://localhost:8080/"
        },
        "id": "b2qY-JfwPTiq",
        "outputId": "585ca957-f8b6-4214-8668-68f5307a8940"
      },
      "source": [
        "comb_seq_denomi = list()\n",
        "comb_seq_denomi.append(list(cat_to_seq[\"C13_lift\"] + cat_to_seq[\"C8_lift\"] + cat_to_seq[\"C1_lift\"]))\n",
        "comb_seq_denomi[0]"
      ],
      "execution_count": null,
      "outputs": [
        {
          "output_type": "execute_result",
          "data": {
            "text/plain": [
              "[3.0, 3.0, 3.0, 3.0, 3.0, 3.0]"
            ]
          },
          "metadata": {
            "tags": []
          },
          "execution_count": 92
        }
      ]
    },
    {
      "cell_type": "code",
      "metadata": {
        "id": "ex-C04PzPTiq"
      },
      "source": [
        "seq_combi_lift[\"seq_Comb_Denominator\"] = comb_seq_denomi[0]"
      ],
      "execution_count": null,
      "outputs": []
    },
    {
      "cell_type": "code",
      "metadata": {
        "id": "EI5a4qkqPTiq"
      },
      "source": [
        "seq_combi_lift[\"Seq_Combined_Lift\"] = seq_combi_lift[\"seq_Comb_Numerator\"]/seq_combi_lift[\"seq_Comb_Denominator\"]"
      ],
      "execution_count": null,
      "outputs": []
    },
    {
      "cell_type": "code",
      "metadata": {
        "colab": {
          "base_uri": "https://localhost:8080/",
          "height": 228
        },
        "id": "GSZjwmDUPTiq",
        "outputId": "cb08df37-eb74-4c68-9af2-f81a3d49981c"
      },
      "source": [
        "seq_combi_lift"
      ],
      "execution_count": null,
      "outputs": [
        {
          "output_type": "execute_result",
          "data": {
            "text/html": [
              "<div>\n",
              "<style scoped>\n",
              "    .dataframe tbody tr th:only-of-type {\n",
              "        vertical-align: middle;\n",
              "    }\n",
              "\n",
              "    .dataframe tbody tr th {\n",
              "        vertical-align: top;\n",
              "    }\n",
              "\n",
              "    .dataframe thead th {\n",
              "        text-align: right;\n",
              "    }\n",
              "</style>\n",
              "<table border=\"1\" class=\"dataframe\">\n",
              "  <thead>\n",
              "    <tr style=\"text-align: right;\">\n",
              "      <th></th>\n",
              "      <th>procedure</th>\n",
              "      <th>seq_Comb_Numerator</th>\n",
              "      <th>seq_Comb_Denominator</th>\n",
              "      <th>Seq_Combined_Lift</th>\n",
              "    </tr>\n",
              "  </thead>\n",
              "  <tbody>\n",
              "    <tr>\n",
              "      <th>1</th>\n",
              "      <td>1</td>\n",
              "      <td>1.240079</td>\n",
              "      <td>3.0</td>\n",
              "      <td>0.413360</td>\n",
              "    </tr>\n",
              "    <tr>\n",
              "      <th>2</th>\n",
              "      <td>2</td>\n",
              "      <td>0.000000</td>\n",
              "      <td>3.0</td>\n",
              "      <td>0.000000</td>\n",
              "    </tr>\n",
              "    <tr>\n",
              "      <th>3</th>\n",
              "      <td>3</td>\n",
              "      <td>0.000000</td>\n",
              "      <td>3.0</td>\n",
              "      <td>0.000000</td>\n",
              "    </tr>\n",
              "    <tr>\n",
              "      <th>4</th>\n",
              "      <td>4</td>\n",
              "      <td>0.000000</td>\n",
              "      <td>3.0</td>\n",
              "      <td>0.000000</td>\n",
              "    </tr>\n",
              "    <tr>\n",
              "      <th>5</th>\n",
              "      <td>5</td>\n",
              "      <td>0.000000</td>\n",
              "      <td>3.0</td>\n",
              "      <td>0.000000</td>\n",
              "    </tr>\n",
              "    <tr>\n",
              "      <th>6</th>\n",
              "      <td>6</td>\n",
              "      <td>2.571429</td>\n",
              "      <td>3.0</td>\n",
              "      <td>0.857143</td>\n",
              "    </tr>\n",
              "  </tbody>\n",
              "</table>\n",
              "</div>"
            ],
            "text/plain": [
              "   procedure  seq_Comb_Numerator  seq_Comb_Denominator  Seq_Combined_Lift\n",
              "1          1            1.240079                   3.0           0.413360\n",
              "2          2            0.000000                   3.0           0.000000\n",
              "3          3            0.000000                   3.0           0.000000\n",
              "4          4            0.000000                   3.0           0.000000\n",
              "5          5            0.000000                   3.0           0.000000\n",
              "6          6            2.571429                   3.0           0.857143"
            ]
          },
          "metadata": {
            "tags": []
          },
          "execution_count": 95
        }
      ]
    },
    {
      "cell_type": "code",
      "metadata": {
        "id": "Gdf4h776PTir"
      },
      "source": [
        "'''\n",
        "seq_combi_lift.to_excel(\"Sequence_combined_lift.xlsx\",\n",
        "             sheet_name='Sheet_1') \n",
        " '''            "
      ],
      "execution_count": null,
      "outputs": []
    },
    {
      "cell_type": "code",
      "metadata": {
        "id": "p6EHM7v9djpG"
      },
      "source": [
        "##Individual Lift Category wise, #Individual Lift Sequence"
      ],
      "execution_count": null,
      "outputs": []
    },
    {
      "cell_type": "code",
      "metadata": {
        "colab": {
          "base_uri": "https://localhost:8080/",
          "height": 248
        },
        "id": "QzDuE3k-PTir",
        "outputId": "f8af966d-93c1-4a52-d916-00c278a7392b"
      },
      "source": [
        "cate_seq_1 = cate_seq[1:]\n",
        "cate_seq_1.reset_index(inplace=True,drop = True)\n",
        "cate_seq_1"
      ],
      "execution_count": null,
      "outputs": [
        {
          "output_type": "execute_result",
          "data": {
            "text/html": [
              "<div>\n",
              "<style scoped>\n",
              "    .dataframe tbody tr th:only-of-type {\n",
              "        vertical-align: middle;\n",
              "    }\n",
              "\n",
              "    .dataframe tbody tr th {\n",
              "        vertical-align: top;\n",
              "    }\n",
              "\n",
              "    .dataframe thead th {\n",
              "        text-align: right;\n",
              "    }\n",
              "</style>\n",
              "<table border=\"1\" class=\"dataframe\">\n",
              "  <thead>\n",
              "    <tr style=\"text-align: right;\">\n",
              "      <th></th>\n",
              "      <th>procedure</th>\n",
              "      <th>C13</th>\n",
              "      <th>C1</th>\n",
              "      <th>C8</th>\n",
              "      <th>C13_support</th>\n",
              "      <th>C8_support</th>\n",
              "      <th>C1_support</th>\n",
              "      <th>C13_conf</th>\n",
              "      <th>C8_conf</th>\n",
              "      <th>C1_conf</th>\n",
              "      <th>C13_lift</th>\n",
              "      <th>C8_lift</th>\n",
              "      <th>C1_lift</th>\n",
              "    </tr>\n",
              "  </thead>\n",
              "  <tbody>\n",
              "    <tr>\n",
              "      <th>0</th>\n",
              "      <td>1</td>\n",
              "      <td>1</td>\n",
              "      <td>1</td>\n",
              "      <td>3</td>\n",
              "      <td>0.083333</td>\n",
              "      <td>0.250000</td>\n",
              "      <td>0.083333</td>\n",
              "      <td>0.25</td>\n",
              "      <td>0.75</td>\n",
              "      <td>0.25</td>\n",
              "      <td>0.600000</td>\n",
              "      <td>1.800000</td>\n",
              "      <td>0.600000</td>\n",
              "    </tr>\n",
              "    <tr>\n",
              "      <th>1</th>\n",
              "      <td>2</td>\n",
              "      <td>3</td>\n",
              "      <td>2</td>\n",
              "      <td>1</td>\n",
              "      <td>0.250000</td>\n",
              "      <td>0.083333</td>\n",
              "      <td>0.166667</td>\n",
              "      <td>0.75</td>\n",
              "      <td>0.25</td>\n",
              "      <td>0.50</td>\n",
              "      <td>1.500000</td>\n",
              "      <td>0.500000</td>\n",
              "      <td>1.000000</td>\n",
              "    </tr>\n",
              "    <tr>\n",
              "      <th>2</th>\n",
              "      <td>3</td>\n",
              "      <td>2</td>\n",
              "      <td>3</td>\n",
              "      <td>2</td>\n",
              "      <td>0.166667</td>\n",
              "      <td>0.166667</td>\n",
              "      <td>0.250000</td>\n",
              "      <td>0.50</td>\n",
              "      <td>0.50</td>\n",
              "      <td>0.75</td>\n",
              "      <td>0.857143</td>\n",
              "      <td>0.857143</td>\n",
              "      <td>1.285714</td>\n",
              "    </tr>\n",
              "    <tr>\n",
              "      <th>3</th>\n",
              "      <td>4</td>\n",
              "      <td>2</td>\n",
              "      <td>3</td>\n",
              "      <td>1</td>\n",
              "      <td>0.166667</td>\n",
              "      <td>0.083333</td>\n",
              "      <td>0.250000</td>\n",
              "      <td>0.50</td>\n",
              "      <td>0.25</td>\n",
              "      <td>0.75</td>\n",
              "      <td>1.000000</td>\n",
              "      <td>0.500000</td>\n",
              "      <td>1.500000</td>\n",
              "    </tr>\n",
              "    <tr>\n",
              "      <th>4</th>\n",
              "      <td>5</td>\n",
              "      <td>2</td>\n",
              "      <td>1</td>\n",
              "      <td>3</td>\n",
              "      <td>0.166667</td>\n",
              "      <td>0.250000</td>\n",
              "      <td>0.083333</td>\n",
              "      <td>0.50</td>\n",
              "      <td>0.75</td>\n",
              "      <td>0.25</td>\n",
              "      <td>1.000000</td>\n",
              "      <td>1.500000</td>\n",
              "      <td>0.500000</td>\n",
              "    </tr>\n",
              "    <tr>\n",
              "      <th>5</th>\n",
              "      <td>6</td>\n",
              "      <td>2</td>\n",
              "      <td>2</td>\n",
              "      <td>2</td>\n",
              "      <td>0.166667</td>\n",
              "      <td>0.166667</td>\n",
              "      <td>0.166667</td>\n",
              "      <td>0.50</td>\n",
              "      <td>0.50</td>\n",
              "      <td>0.50</td>\n",
              "      <td>1.000000</td>\n",
              "      <td>1.000000</td>\n",
              "      <td>1.000000</td>\n",
              "    </tr>\n",
              "  </tbody>\n",
              "</table>\n",
              "</div>"
            ],
            "text/plain": [
              "   procedure  C13  C1  C8  ...  C1_conf  C13_lift   C8_lift   C1_lift\n",
              "0          1    1   1   3  ...     0.25  0.600000  1.800000  0.600000\n",
              "1          2    3   2   1  ...     0.50  1.500000  0.500000  1.000000\n",
              "2          3    2   3   2  ...     0.75  0.857143  0.857143  1.285714\n",
              "3          4    2   3   1  ...     0.75  1.000000  0.500000  1.500000\n",
              "4          5    2   1   3  ...     0.25  1.000000  1.500000  0.500000\n",
              "5          6    2   2   2  ...     0.50  1.000000  1.000000  1.000000\n",
              "\n",
              "[6 rows x 13 columns]"
            ]
          },
          "metadata": {
            "tags": []
          },
          "execution_count": 98
        }
      ]
    },
    {
      "cell_type": "code",
      "metadata": {
        "colab": {
          "base_uri": "https://localhost:8080/"
        },
        "id": "pQJgdMOvV9EF",
        "outputId": "1f26daf2-dead-405b-cec1-97ec6524a1e5"
      },
      "source": [
        "cate_seq_1[\"C13_lift\"].iloc[0]\n",
        "#final[\"sequence\"][0]"
      ],
      "execution_count": null,
      "outputs": [
        {
          "output_type": "execute_result",
          "data": {
            "text/plain": [
              "0.6"
            ]
          },
          "metadata": {
            "tags": []
          },
          "execution_count": 99
        }
      ]
    },
    {
      "cell_type": "code",
      "metadata": {
        "id": "FHNkEasaWBv5"
      },
      "source": [
        "def two_cols(count):\n",
        "  out = []\n",
        "  for i in range(len(cate_seq_1)):\n",
        "    num = cate_seq_1[\"C13_lift\"][i] * cate_seq_1[\"C8_lift\"][i] * cate_seq_1[\"C1_lift\"][i]\n",
        "    multiply = 1\n",
        "    for j in range(len(final)):\n",
        "      if final[\"sequence\"][j] == cate_seq_1[\"procedure\"][i]:\n",
        "        multiply = multiply * final[\"lift\"][j]\n",
        "\n",
        "    if count == 0:\n",
        "      ans = num/(multiply + num)\n",
        "      out.append(ans)\n",
        "    else:\n",
        "      ans = multiply/(multiply + num)\n",
        "      out.append(ans)\n",
        "  return out"
      ],
      "execution_count": null,
      "outputs": []
    },
    {
      "cell_type": "code",
      "metadata": {
        "id": "8gP_3vGpWGS8"
      },
      "source": [
        "ans = two_cols(count= 0)\n",
        "ans1 = two_cols(count = 1)\n",
        "ans = round(pd.Series(ans),4)\n",
        "ans1 = round(pd.Series(ans1),4)"
      ],
      "execution_count": null,
      "outputs": []
    },
    {
      "cell_type": "code",
      "metadata": {
        "colab": {
          "base_uri": "https://localhost:8080/",
          "height": 228
        },
        "id": "d-AiYXCFWIY3",
        "outputId": "529a34f7-6a2a-47fa-d55f-ffc212d7f2e9"
      },
      "source": [
        "ind_lift_cat_seq = pd.DataFrame({\"procedure\": cate_seq_1[\"procedure\"],\"Ind_Lift_Cat_wise\": ans,\"Ind_Lift_Seq_wise\": ans1})\n",
        "ind_lift_cat_seq"
      ],
      "execution_count": null,
      "outputs": [
        {
          "output_type": "execute_result",
          "data": {
            "text/html": [
              "<div>\n",
              "<style scoped>\n",
              "    .dataframe tbody tr th:only-of-type {\n",
              "        vertical-align: middle;\n",
              "    }\n",
              "\n",
              "    .dataframe tbody tr th {\n",
              "        vertical-align: top;\n",
              "    }\n",
              "\n",
              "    .dataframe thead th {\n",
              "        text-align: right;\n",
              "    }\n",
              "</style>\n",
              "<table border=\"1\" class=\"dataframe\">\n",
              "  <thead>\n",
              "    <tr style=\"text-align: right;\">\n",
              "      <th></th>\n",
              "      <th>procedure</th>\n",
              "      <th>Ind_Lift_Cat_wise</th>\n",
              "      <th>Ind_Lift_Seq_wise</th>\n",
              "    </tr>\n",
              "  </thead>\n",
              "  <tbody>\n",
              "    <tr>\n",
              "      <th>0</th>\n",
              "      <td>1</td>\n",
              "      <td>0.3932</td>\n",
              "      <td>0.6068</td>\n",
              "    </tr>\n",
              "    <tr>\n",
              "      <th>1</th>\n",
              "      <td>2</td>\n",
              "      <td>0.4286</td>\n",
              "      <td>0.5714</td>\n",
              "    </tr>\n",
              "    <tr>\n",
              "      <th>2</th>\n",
              "      <td>3</td>\n",
              "      <td>0.4858</td>\n",
              "      <td>0.5142</td>\n",
              "    </tr>\n",
              "    <tr>\n",
              "      <th>3</th>\n",
              "      <td>4</td>\n",
              "      <td>0.4286</td>\n",
              "      <td>0.5714</td>\n",
              "    </tr>\n",
              "    <tr>\n",
              "      <th>4</th>\n",
              "      <td>5</td>\n",
              "      <td>0.4286</td>\n",
              "      <td>0.5714</td>\n",
              "    </tr>\n",
              "    <tr>\n",
              "      <th>5</th>\n",
              "      <td>6</td>\n",
              "      <td>0.5000</td>\n",
              "      <td>0.5000</td>\n",
              "    </tr>\n",
              "  </tbody>\n",
              "</table>\n",
              "</div>"
            ],
            "text/plain": [
              "   procedure  Ind_Lift_Cat_wise  Ind_Lift_Seq_wise\n",
              "0          1             0.3932             0.6068\n",
              "1          2             0.4286             0.5714\n",
              "2          3             0.4858             0.5142\n",
              "3          4             0.4286             0.5714\n",
              "4          5             0.4286             0.5714\n",
              "5          6             0.5000             0.5000"
            ]
          },
          "metadata": {
            "tags": []
          },
          "execution_count": 102
        }
      ]
    },
    {
      "cell_type": "code",
      "metadata": {
        "id": "-lLOxSRyWMCD"
      },
      "source": [
        "#ind_lift_cat_seq.to_excel(\"/content/drive/MyDrive/two_formulaes.xlsx\")"
      ],
      "execution_count": null,
      "outputs": []
    }
  ]
}